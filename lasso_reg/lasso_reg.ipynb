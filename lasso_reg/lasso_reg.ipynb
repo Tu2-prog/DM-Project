{
 "cells": [
  {
   "cell_type": "code",
   "id": "7dc61374ceca1b05",
   "metadata": {
    "collapsed": true,
    "ExecuteTime": {
     "end_time": "2024-11-25T10:34:12.774072Z",
     "start_time": "2024-11-25T10:34:11.987843Z"
    }
   },
   "source": [
    "import pandas as pd\n",
    "from sklearn.model_selection import train_test_split, GridSearchCV\n",
    "from sklearn.linear_model import Lasso\n",
    "from sklearn.metrics import mean_squared_error, r2_score\n",
    "from sklearn.preprocessing import StandardScaler\n",
    "import numpy as np"
   ],
   "outputs": [],
   "execution_count": 1
  },
  {
   "metadata": {
    "ExecuteTime": {
     "end_time": "2024-11-25T10:34:15.945251Z",
     "start_time": "2024-11-25T10:34:12.776096Z"
    }
   },
   "cell_type": "code",
   "source": [
    "# Load and preview the dataset\n",
    "# Update the file path to match your dataset location\n",
    "file_path = './DBtrainrides_final_result.csv'\n",
    "train_ride_df = pd.read_csv(file_path)\n",
    "\n",
    "# Display the first few rows of the dataset\n",
    "train_ride_df.head()"
   ],
   "id": "initial_id",
   "outputs": [
    {
     "data": {
      "text/plain": [
       "               ID_Base  ID_Timestamp  stop_number       IBNR       long  \\\n",
       "0 -1001326572688500578    2407082041            2  8011118.0  13.375988   \n",
       "1 -1001326572688500578    2407082041            3  8011160.0   9.095851   \n",
       "2 -1001326572688500578    2407082041            4  8011167.0  13.299437   \n",
       "3 -1001326572688500578    2407082041            5  8010404.0  13.196898   \n",
       "4 -1001326572688500578    2407082041            6  8080040.0  13.128917   \n",
       "\n",
       "         lat         arrival_plan       departure_plan  arrival_delay_m  \\\n",
       "0  52.509379  2024-07-08 20:44:00  2024-07-08 20:45:00              0.0   \n",
       "1  48.849792                  NaN                  NaN              NaN   \n",
       "2  52.530276  2024-07-08 20:55:00  2024-07-08 20:56:00              0.0   \n",
       "3  52.534648  2024-07-08 21:00:00  2024-07-08 21:03:00              2.0   \n",
       "4  52.549396  2024-07-08 21:06:00  2024-07-08 21:07:00              1.0   \n",
       "\n",
       "  transformed_info_message  prev_arrival_delay_m  prev_departure_delay_m  \\\n",
       "0               No message                   0.0                     0.0   \n",
       "1               No message                   0.0                     0.0   \n",
       "2               No message                   0.0                     0.0   \n",
       "3               No message                   0.0                     0.0   \n",
       "4               No message                   2.0                     0.0   \n",
       "\n",
       "   weighted_avg_prev_delay  max_station_number  station_progress  \n",
       "0                 0.000000                   7          0.285714  \n",
       "1                 0.000000                   7          0.428571  \n",
       "2                 0.000000                   7          0.571429  \n",
       "3                 0.000000                   7          0.714286  \n",
       "4                 0.666667                   7          0.857143  "
      ],
      "text/html": [
       "<div>\n",
       "<style scoped>\n",
       "    .dataframe tbody tr th:only-of-type {\n",
       "        vertical-align: middle;\n",
       "    }\n",
       "\n",
       "    .dataframe tbody tr th {\n",
       "        vertical-align: top;\n",
       "    }\n",
       "\n",
       "    .dataframe thead th {\n",
       "        text-align: right;\n",
       "    }\n",
       "</style>\n",
       "<table border=\"1\" class=\"dataframe\">\n",
       "  <thead>\n",
       "    <tr style=\"text-align: right;\">\n",
       "      <th></th>\n",
       "      <th>ID_Base</th>\n",
       "      <th>ID_Timestamp</th>\n",
       "      <th>stop_number</th>\n",
       "      <th>IBNR</th>\n",
       "      <th>long</th>\n",
       "      <th>lat</th>\n",
       "      <th>arrival_plan</th>\n",
       "      <th>departure_plan</th>\n",
       "      <th>arrival_delay_m</th>\n",
       "      <th>transformed_info_message</th>\n",
       "      <th>prev_arrival_delay_m</th>\n",
       "      <th>prev_departure_delay_m</th>\n",
       "      <th>weighted_avg_prev_delay</th>\n",
       "      <th>max_station_number</th>\n",
       "      <th>station_progress</th>\n",
       "    </tr>\n",
       "  </thead>\n",
       "  <tbody>\n",
       "    <tr>\n",
       "      <th>0</th>\n",
       "      <td>-1001326572688500578</td>\n",
       "      <td>2407082041</td>\n",
       "      <td>2</td>\n",
       "      <td>8011118.0</td>\n",
       "      <td>13.375988</td>\n",
       "      <td>52.509379</td>\n",
       "      <td>2024-07-08 20:44:00</td>\n",
       "      <td>2024-07-08 20:45:00</td>\n",
       "      <td>0.0</td>\n",
       "      <td>No message</td>\n",
       "      <td>0.0</td>\n",
       "      <td>0.0</td>\n",
       "      <td>0.000000</td>\n",
       "      <td>7</td>\n",
       "      <td>0.285714</td>\n",
       "    </tr>\n",
       "    <tr>\n",
       "      <th>1</th>\n",
       "      <td>-1001326572688500578</td>\n",
       "      <td>2407082041</td>\n",
       "      <td>3</td>\n",
       "      <td>8011160.0</td>\n",
       "      <td>9.095851</td>\n",
       "      <td>48.849792</td>\n",
       "      <td>NaN</td>\n",
       "      <td>NaN</td>\n",
       "      <td>NaN</td>\n",
       "      <td>No message</td>\n",
       "      <td>0.0</td>\n",
       "      <td>0.0</td>\n",
       "      <td>0.000000</td>\n",
       "      <td>7</td>\n",
       "      <td>0.428571</td>\n",
       "    </tr>\n",
       "    <tr>\n",
       "      <th>2</th>\n",
       "      <td>-1001326572688500578</td>\n",
       "      <td>2407082041</td>\n",
       "      <td>4</td>\n",
       "      <td>8011167.0</td>\n",
       "      <td>13.299437</td>\n",
       "      <td>52.530276</td>\n",
       "      <td>2024-07-08 20:55:00</td>\n",
       "      <td>2024-07-08 20:56:00</td>\n",
       "      <td>0.0</td>\n",
       "      <td>No message</td>\n",
       "      <td>0.0</td>\n",
       "      <td>0.0</td>\n",
       "      <td>0.000000</td>\n",
       "      <td>7</td>\n",
       "      <td>0.571429</td>\n",
       "    </tr>\n",
       "    <tr>\n",
       "      <th>3</th>\n",
       "      <td>-1001326572688500578</td>\n",
       "      <td>2407082041</td>\n",
       "      <td>5</td>\n",
       "      <td>8010404.0</td>\n",
       "      <td>13.196898</td>\n",
       "      <td>52.534648</td>\n",
       "      <td>2024-07-08 21:00:00</td>\n",
       "      <td>2024-07-08 21:03:00</td>\n",
       "      <td>2.0</td>\n",
       "      <td>No message</td>\n",
       "      <td>0.0</td>\n",
       "      <td>0.0</td>\n",
       "      <td>0.000000</td>\n",
       "      <td>7</td>\n",
       "      <td>0.714286</td>\n",
       "    </tr>\n",
       "    <tr>\n",
       "      <th>4</th>\n",
       "      <td>-1001326572688500578</td>\n",
       "      <td>2407082041</td>\n",
       "      <td>6</td>\n",
       "      <td>8080040.0</td>\n",
       "      <td>13.128917</td>\n",
       "      <td>52.549396</td>\n",
       "      <td>2024-07-08 21:06:00</td>\n",
       "      <td>2024-07-08 21:07:00</td>\n",
       "      <td>1.0</td>\n",
       "      <td>No message</td>\n",
       "      <td>2.0</td>\n",
       "      <td>0.0</td>\n",
       "      <td>0.666667</td>\n",
       "      <td>7</td>\n",
       "      <td>0.857143</td>\n",
       "    </tr>\n",
       "  </tbody>\n",
       "</table>\n",
       "</div>"
      ]
     },
     "execution_count": 2,
     "metadata": {},
     "output_type": "execute_result"
    }
   ],
   "execution_count": 2
  },
  {
   "metadata": {
    "ExecuteTime": {
     "end_time": "2024-11-25T10:34:16.389640Z",
     "start_time": "2024-11-25T10:34:15.946456Z"
    }
   },
   "cell_type": "code",
   "source": [
    "# Handle missing values and prepare features and target\n",
    "# Fill missing values with 0 as a default strategy\n",
    "train_ride_df.fillna(0, inplace=True)\n",
    "\n",
    "# Define features and target variable\n",
    "features = [\n",
    "    'stop_number', 'IBNR', 'long', 'lat', \n",
    "    'prev_arrival_delay_m', 'prev_departure_delay_m', \n",
    "    'weighted_avg_prev_delay', 'max_station_number', 'station_progress'\n",
    "]\n",
    "target = 'arrival_delay_m'\n",
    "\n",
    "X = train_ride_df[features]\n",
    "y = train_ride_df[target]"
   ],
   "id": "79f3254495b6f732",
   "outputs": [],
   "execution_count": 3
  },
  {
   "metadata": {
    "ExecuteTime": {
     "end_time": "2024-11-25T10:34:16.402109Z",
     "start_time": "2024-11-25T10:34:16.391868Z"
    }
   },
   "cell_type": "code",
   "source": [
    "# Display the feature matrix and target to verify\n",
    "X.head()"
   ],
   "id": "9b8f89bf5b46efbf",
   "outputs": [
    {
     "data": {
      "text/plain": [
       "   stop_number       IBNR       long        lat  prev_arrival_delay_m  \\\n",
       "0            2  8011118.0  13.375988  52.509379                   0.0   \n",
       "1            3  8011160.0   9.095851  48.849792                   0.0   \n",
       "2            4  8011167.0  13.299437  52.530276                   0.0   \n",
       "3            5  8010404.0  13.196898  52.534648                   0.0   \n",
       "4            6  8080040.0  13.128917  52.549396                   2.0   \n",
       "\n",
       "   prev_departure_delay_m  weighted_avg_prev_delay  max_station_number  \\\n",
       "0                     0.0                 0.000000                   7   \n",
       "1                     0.0                 0.000000                   7   \n",
       "2                     0.0                 0.000000                   7   \n",
       "3                     0.0                 0.000000                   7   \n",
       "4                     0.0                 0.666667                   7   \n",
       "\n",
       "   station_progress  \n",
       "0          0.285714  \n",
       "1          0.428571  \n",
       "2          0.571429  \n",
       "3          0.714286  \n",
       "4          0.857143  "
      ],
      "text/html": [
       "<div>\n",
       "<style scoped>\n",
       "    .dataframe tbody tr th:only-of-type {\n",
       "        vertical-align: middle;\n",
       "    }\n",
       "\n",
       "    .dataframe tbody tr th {\n",
       "        vertical-align: top;\n",
       "    }\n",
       "\n",
       "    .dataframe thead th {\n",
       "        text-align: right;\n",
       "    }\n",
       "</style>\n",
       "<table border=\"1\" class=\"dataframe\">\n",
       "  <thead>\n",
       "    <tr style=\"text-align: right;\">\n",
       "      <th></th>\n",
       "      <th>stop_number</th>\n",
       "      <th>IBNR</th>\n",
       "      <th>long</th>\n",
       "      <th>lat</th>\n",
       "      <th>prev_arrival_delay_m</th>\n",
       "      <th>prev_departure_delay_m</th>\n",
       "      <th>weighted_avg_prev_delay</th>\n",
       "      <th>max_station_number</th>\n",
       "      <th>station_progress</th>\n",
       "    </tr>\n",
       "  </thead>\n",
       "  <tbody>\n",
       "    <tr>\n",
       "      <th>0</th>\n",
       "      <td>2</td>\n",
       "      <td>8011118.0</td>\n",
       "      <td>13.375988</td>\n",
       "      <td>52.509379</td>\n",
       "      <td>0.0</td>\n",
       "      <td>0.0</td>\n",
       "      <td>0.000000</td>\n",
       "      <td>7</td>\n",
       "      <td>0.285714</td>\n",
       "    </tr>\n",
       "    <tr>\n",
       "      <th>1</th>\n",
       "      <td>3</td>\n",
       "      <td>8011160.0</td>\n",
       "      <td>9.095851</td>\n",
       "      <td>48.849792</td>\n",
       "      <td>0.0</td>\n",
       "      <td>0.0</td>\n",
       "      <td>0.000000</td>\n",
       "      <td>7</td>\n",
       "      <td>0.428571</td>\n",
       "    </tr>\n",
       "    <tr>\n",
       "      <th>2</th>\n",
       "      <td>4</td>\n",
       "      <td>8011167.0</td>\n",
       "      <td>13.299437</td>\n",
       "      <td>52.530276</td>\n",
       "      <td>0.0</td>\n",
       "      <td>0.0</td>\n",
       "      <td>0.000000</td>\n",
       "      <td>7</td>\n",
       "      <td>0.571429</td>\n",
       "    </tr>\n",
       "    <tr>\n",
       "      <th>3</th>\n",
       "      <td>5</td>\n",
       "      <td>8010404.0</td>\n",
       "      <td>13.196898</td>\n",
       "      <td>52.534648</td>\n",
       "      <td>0.0</td>\n",
       "      <td>0.0</td>\n",
       "      <td>0.000000</td>\n",
       "      <td>7</td>\n",
       "      <td>0.714286</td>\n",
       "    </tr>\n",
       "    <tr>\n",
       "      <th>4</th>\n",
       "      <td>6</td>\n",
       "      <td>8080040.0</td>\n",
       "      <td>13.128917</td>\n",
       "      <td>52.549396</td>\n",
       "      <td>2.0</td>\n",
       "      <td>0.0</td>\n",
       "      <td>0.666667</td>\n",
       "      <td>7</td>\n",
       "      <td>0.857143</td>\n",
       "    </tr>\n",
       "  </tbody>\n",
       "</table>\n",
       "</div>"
      ]
     },
     "execution_count": 4,
     "metadata": {},
     "output_type": "execute_result"
    }
   ],
   "execution_count": 4
  },
  {
   "metadata": {
    "ExecuteTime": {
     "end_time": "2024-11-25T10:34:16.411869Z",
     "start_time": "2024-11-25T10:34:16.403256Z"
    }
   },
   "cell_type": "code",
   "source": "y.head()",
   "id": "48e7be9c8beb890f",
   "outputs": [
    {
     "data": {
      "text/plain": [
       "0    0.0\n",
       "1    0.0\n",
       "2    0.0\n",
       "3    2.0\n",
       "4    1.0\n",
       "Name: arrival_delay_m, dtype: float64"
      ]
     },
     "execution_count": 5,
     "metadata": {},
     "output_type": "execute_result"
    }
   ],
   "execution_count": 5
  },
  {
   "metadata": {
    "ExecuteTime": {
     "end_time": "2024-11-25T10:34:16.950711Z",
     "start_time": "2024-11-25T10:34:16.413395Z"
    }
   },
   "cell_type": "code",
   "source": [
    "# Standardise the features\n",
    "# StandardScaler ensures features are scaled appropriately for Lasso\n",
    "scaler = StandardScaler()\n",
    "X_scaled = scaler.fit_transform(X)\n",
    "\n",
    "# Split the data into training and testing subsets\n",
    "X_train, X_test, y_train, y_test = train_test_split(X_scaled, y, test_size=0.2, random_state=42)"
   ],
   "id": "afbe0d1ff15ea286",
   "outputs": [],
   "execution_count": 6
  },
  {
   "metadata": {
    "ExecuteTime": {
     "end_time": "2024-11-25T10:39:07.231373Z",
     "start_time": "2024-11-25T10:34:16.951808Z"
    }
   },
   "cell_type": "code",
   "source": [
    "# Hyperparameter tuning with GridSearchCV\n",
    "# Define the Lasso regression model\n",
    "lasso = Lasso()\n",
    "\n",
    "# Define the parameter grid for alpha (regularisation strength)\n",
    "param_grid = {'alpha': np.logspace(-4, 0, 50)}  # Testing alphas from 0.0001 to 1\n",
    "\n",
    "# Use GridSearchCV for hyperparameter tuning\n",
    "grid_search = GridSearchCV(estimator=lasso, param_grid=param_grid, scoring='r2', cv=5, verbose=1)\n",
    "grid_search.fit(X_train, y_train)\n",
    "\n",
    "# Display the best alpha and best score\n",
    "best_alpha = grid_search.best_params_['alpha']\n",
    "best_score = grid_search.best_score_\n",
    "\n",
    "print(f\"Best Alpha: {best_alpha}\")\n",
    "print(f\"Best Cross-Validation R-squared Score: {best_score}\")"
   ],
   "id": "bcfd36fa2ac6647e",
   "outputs": [
    {
     "name": "stdout",
     "output_type": "stream",
     "text": [
      "Fitting 5 folds for each of 50 candidates, totalling 250 fits\n",
      "Best Alpha: 0.0001\n",
      "Best Cross-Validation R-squared Score: 0.5768869974226097\n"
     ]
    }
   ],
   "execution_count": 7
  },
  {
   "metadata": {
    "ExecuteTime": {
     "end_time": "2024-11-25T10:39:07.298196Z",
     "start_time": "2024-11-25T10:39:07.234561Z"
    }
   },
   "cell_type": "code",
   "source": [
    "# Evaluate the tuned Lasso model on the test set\n",
    "# Use the best model from GridSearchCV\n",
    "best_lasso = grid_search.best_estimator_\n",
    "\n",
    "# Make predictions on the test set\n",
    "y_pred = best_lasso.predict(X_test)\n",
    "\n",
    "# Evaluate the model\n",
    "mse = mean_squared_error(y_test, y_pred)\n",
    "r2 = r2_score(y_test, y_pred)\n",
    "\n",
    "# Print evaluation metrics\n",
    "print(f\"Mean Squared Error: {mse}\")\n",
    "print(f\"R-squared Score on Test Set: {r2}\")"
   ],
   "id": "c31982f1b6a9aa75",
   "outputs": [
    {
     "name": "stdout",
     "output_type": "stream",
     "text": [
      "Mean Squared Error: 3.582413054681181\n",
      "R-squared Score on Test Set: 0.563326250147486\n"
     ]
    }
   ],
   "execution_count": 8
  },
  {
   "metadata": {
    "ExecuteTime": {
     "end_time": "2024-11-25T10:48:30.322438Z",
     "start_time": "2024-11-25T10:48:30.314637Z"
    }
   },
   "cell_type": "code",
   "source": [
    "# Analyse feature importance\n",
    "# Display coefficients for each feature from the best model\n",
    "coefficients = pd.DataFrame({'Feature': features, 'Coefficient': best_lasso.coef_})\n",
    "coefficients"
   ],
   "id": "2c7a8323ac10bbf3",
   "outputs": [
    {
     "data": {
      "text/plain": [
       "                   Feature  Coefficient\n",
       "0              stop_number    -0.021734\n",
       "1                     IBNR     0.024090\n",
       "2                     long    -0.021775\n",
       "3                      lat    -0.080226\n",
       "4     prev_arrival_delay_m    -0.417920\n",
       "5   prev_departure_delay_m     1.662737\n",
       "6  weighted_avg_prev_delay     1.003540\n",
       "7       max_station_number     0.026706\n",
       "8         station_progress     0.055107"
      ],
      "text/html": [
       "<div>\n",
       "<style scoped>\n",
       "    .dataframe tbody tr th:only-of-type {\n",
       "        vertical-align: middle;\n",
       "    }\n",
       "\n",
       "    .dataframe tbody tr th {\n",
       "        vertical-align: top;\n",
       "    }\n",
       "\n",
       "    .dataframe thead th {\n",
       "        text-align: right;\n",
       "    }\n",
       "</style>\n",
       "<table border=\"1\" class=\"dataframe\">\n",
       "  <thead>\n",
       "    <tr style=\"text-align: right;\">\n",
       "      <th></th>\n",
       "      <th>Feature</th>\n",
       "      <th>Coefficient</th>\n",
       "    </tr>\n",
       "  </thead>\n",
       "  <tbody>\n",
       "    <tr>\n",
       "      <th>0</th>\n",
       "      <td>stop_number</td>\n",
       "      <td>-0.021734</td>\n",
       "    </tr>\n",
       "    <tr>\n",
       "      <th>1</th>\n",
       "      <td>IBNR</td>\n",
       "      <td>0.024090</td>\n",
       "    </tr>\n",
       "    <tr>\n",
       "      <th>2</th>\n",
       "      <td>long</td>\n",
       "      <td>-0.021775</td>\n",
       "    </tr>\n",
       "    <tr>\n",
       "      <th>3</th>\n",
       "      <td>lat</td>\n",
       "      <td>-0.080226</td>\n",
       "    </tr>\n",
       "    <tr>\n",
       "      <th>4</th>\n",
       "      <td>prev_arrival_delay_m</td>\n",
       "      <td>-0.417920</td>\n",
       "    </tr>\n",
       "    <tr>\n",
       "      <th>5</th>\n",
       "      <td>prev_departure_delay_m</td>\n",
       "      <td>1.662737</td>\n",
       "    </tr>\n",
       "    <tr>\n",
       "      <th>6</th>\n",
       "      <td>weighted_avg_prev_delay</td>\n",
       "      <td>1.003540</td>\n",
       "    </tr>\n",
       "    <tr>\n",
       "      <th>7</th>\n",
       "      <td>max_station_number</td>\n",
       "      <td>0.026706</td>\n",
       "    </tr>\n",
       "    <tr>\n",
       "      <th>8</th>\n",
       "      <td>station_progress</td>\n",
       "      <td>0.055107</td>\n",
       "    </tr>\n",
       "  </tbody>\n",
       "</table>\n",
       "</div>"
      ]
     },
     "execution_count": 11,
     "metadata": {},
     "output_type": "execute_result"
    }
   ],
   "execution_count": 11
  }
 ],
 "metadata": {
  "kernelspec": {
   "display_name": "Python 3",
   "language": "python",
   "name": "python3"
  },
  "language_info": {
   "codemirror_mode": {
    "name": "ipython",
    "version": 2
   },
   "file_extension": ".py",
   "mimetype": "text/x-python",
   "name": "python",
   "nbconvert_exporter": "python",
   "pygments_lexer": "ipython2",
   "version": "2.7.6"
  }
 },
 "nbformat": 4,
 "nbformat_minor": 5
}
