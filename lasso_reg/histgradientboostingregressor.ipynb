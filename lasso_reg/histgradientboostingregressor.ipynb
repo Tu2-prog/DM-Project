{
 "cells": [
  {
   "cell_type": "code",
   "id": "7dc61374ceca1b05",
   "metadata": {
    "collapsed": true,
    "ExecuteTime": {
     "end_time": "2024-11-26T11:35:27.810684Z",
     "start_time": "2024-11-26T11:35:27.806290Z"
    }
   },
   "source": [
    "import pandas as pd\n",
    "import numpy as np\n",
    "from sklearn.model_selection import cross_val_score, GridSearchCV\n",
    "from sklearn.metrics import mean_squared_error, r2_score, make_scorer\n",
    "from sklearn.ensemble import HistGradientBoostingRegressor\n",
    "import matplotlib.pyplot as plt"
   ],
   "outputs": [],
   "execution_count": 42
  },
  {
   "metadata": {
    "ExecuteTime": {
     "end_time": "2024-11-26T11:35:31.364431Z",
     "start_time": "2024-11-26T11:35:27.816716Z"
    }
   },
   "cell_type": "code",
   "source": [
    "# Load and preview the dataset\n",
    "# Update the file path to match your dataset location\n",
    "file_path = './DBtrainrides_final_result.csv'\n",
    "train_ride_df = pd.read_csv(file_path)\n",
    "train_ride_df.head()"
   ],
   "id": "initial_id",
   "outputs": [
    {
     "data": {
      "text/plain": [
       "               ID_Base  ID_Timestamp  stop_number       IBNR       long  \\\n",
       "0 -1001326572688500578    2407082041            2  8011118.0  13.375988   \n",
       "1 -1001326572688500578    2407082041            3  8011160.0   9.095851   \n",
       "2 -1001326572688500578    2407082041            4  8011167.0  13.299437   \n",
       "3 -1001326572688500578    2407082041            5  8010404.0  13.196898   \n",
       "4 -1001326572688500578    2407082041            6  8080040.0  13.128917   \n",
       "\n",
       "         lat         arrival_plan       departure_plan  arrival_delay_m  \\\n",
       "0  52.509379  2024-07-08 20:44:00  2024-07-08 20:45:00              0.0   \n",
       "1  48.849792                  NaN                  NaN              NaN   \n",
       "2  52.530276  2024-07-08 20:55:00  2024-07-08 20:56:00              0.0   \n",
       "3  52.534648  2024-07-08 21:00:00  2024-07-08 21:03:00              2.0   \n",
       "4  52.549396  2024-07-08 21:06:00  2024-07-08 21:07:00              1.0   \n",
       "\n",
       "  transformed_info_message  prev_arrival_delay_m  prev_departure_delay_m  \\\n",
       "0               No message                   0.0                     0.0   \n",
       "1               No message                   0.0                     0.0   \n",
       "2               No message                   0.0                     0.0   \n",
       "3               No message                   0.0                     0.0   \n",
       "4               No message                   2.0                     0.0   \n",
       "\n",
       "   weighted_avg_prev_delay  max_station_number  station_progress  \n",
       "0                 0.000000                   7          0.285714  \n",
       "1                 0.000000                   7          0.428571  \n",
       "2                 0.000000                   7          0.571429  \n",
       "3                 0.000000                   7          0.714286  \n",
       "4                 0.666667                   7          0.857143  "
      ],
      "text/html": [
       "<div>\n",
       "<style scoped>\n",
       "    .dataframe tbody tr th:only-of-type {\n",
       "        vertical-align: middle;\n",
       "    }\n",
       "\n",
       "    .dataframe tbody tr th {\n",
       "        vertical-align: top;\n",
       "    }\n",
       "\n",
       "    .dataframe thead th {\n",
       "        text-align: right;\n",
       "    }\n",
       "</style>\n",
       "<table border=\"1\" class=\"dataframe\">\n",
       "  <thead>\n",
       "    <tr style=\"text-align: right;\">\n",
       "      <th></th>\n",
       "      <th>ID_Base</th>\n",
       "      <th>ID_Timestamp</th>\n",
       "      <th>stop_number</th>\n",
       "      <th>IBNR</th>\n",
       "      <th>long</th>\n",
       "      <th>lat</th>\n",
       "      <th>arrival_plan</th>\n",
       "      <th>departure_plan</th>\n",
       "      <th>arrival_delay_m</th>\n",
       "      <th>transformed_info_message</th>\n",
       "      <th>prev_arrival_delay_m</th>\n",
       "      <th>prev_departure_delay_m</th>\n",
       "      <th>weighted_avg_prev_delay</th>\n",
       "      <th>max_station_number</th>\n",
       "      <th>station_progress</th>\n",
       "    </tr>\n",
       "  </thead>\n",
       "  <tbody>\n",
       "    <tr>\n",
       "      <th>0</th>\n",
       "      <td>-1001326572688500578</td>\n",
       "      <td>2407082041</td>\n",
       "      <td>2</td>\n",
       "      <td>8011118.0</td>\n",
       "      <td>13.375988</td>\n",
       "      <td>52.509379</td>\n",
       "      <td>2024-07-08 20:44:00</td>\n",
       "      <td>2024-07-08 20:45:00</td>\n",
       "      <td>0.0</td>\n",
       "      <td>No message</td>\n",
       "      <td>0.0</td>\n",
       "      <td>0.0</td>\n",
       "      <td>0.000000</td>\n",
       "      <td>7</td>\n",
       "      <td>0.285714</td>\n",
       "    </tr>\n",
       "    <tr>\n",
       "      <th>1</th>\n",
       "      <td>-1001326572688500578</td>\n",
       "      <td>2407082041</td>\n",
       "      <td>3</td>\n",
       "      <td>8011160.0</td>\n",
       "      <td>9.095851</td>\n",
       "      <td>48.849792</td>\n",
       "      <td>NaN</td>\n",
       "      <td>NaN</td>\n",
       "      <td>NaN</td>\n",
       "      <td>No message</td>\n",
       "      <td>0.0</td>\n",
       "      <td>0.0</td>\n",
       "      <td>0.000000</td>\n",
       "      <td>7</td>\n",
       "      <td>0.428571</td>\n",
       "    </tr>\n",
       "    <tr>\n",
       "      <th>2</th>\n",
       "      <td>-1001326572688500578</td>\n",
       "      <td>2407082041</td>\n",
       "      <td>4</td>\n",
       "      <td>8011167.0</td>\n",
       "      <td>13.299437</td>\n",
       "      <td>52.530276</td>\n",
       "      <td>2024-07-08 20:55:00</td>\n",
       "      <td>2024-07-08 20:56:00</td>\n",
       "      <td>0.0</td>\n",
       "      <td>No message</td>\n",
       "      <td>0.0</td>\n",
       "      <td>0.0</td>\n",
       "      <td>0.000000</td>\n",
       "      <td>7</td>\n",
       "      <td>0.571429</td>\n",
       "    </tr>\n",
       "    <tr>\n",
       "      <th>3</th>\n",
       "      <td>-1001326572688500578</td>\n",
       "      <td>2407082041</td>\n",
       "      <td>5</td>\n",
       "      <td>8010404.0</td>\n",
       "      <td>13.196898</td>\n",
       "      <td>52.534648</td>\n",
       "      <td>2024-07-08 21:00:00</td>\n",
       "      <td>2024-07-08 21:03:00</td>\n",
       "      <td>2.0</td>\n",
       "      <td>No message</td>\n",
       "      <td>0.0</td>\n",
       "      <td>0.0</td>\n",
       "      <td>0.000000</td>\n",
       "      <td>7</td>\n",
       "      <td>0.714286</td>\n",
       "    </tr>\n",
       "    <tr>\n",
       "      <th>4</th>\n",
       "      <td>-1001326572688500578</td>\n",
       "      <td>2407082041</td>\n",
       "      <td>6</td>\n",
       "      <td>8080040.0</td>\n",
       "      <td>13.128917</td>\n",
       "      <td>52.549396</td>\n",
       "      <td>2024-07-08 21:06:00</td>\n",
       "      <td>2024-07-08 21:07:00</td>\n",
       "      <td>1.0</td>\n",
       "      <td>No message</td>\n",
       "      <td>2.0</td>\n",
       "      <td>0.0</td>\n",
       "      <td>0.666667</td>\n",
       "      <td>7</td>\n",
       "      <td>0.857143</td>\n",
       "    </tr>\n",
       "  </tbody>\n",
       "</table>\n",
       "</div>"
      ]
     },
     "execution_count": 43,
     "metadata": {},
     "output_type": "execute_result"
    }
   ],
   "execution_count": 43
  },
  {
   "metadata": {
    "ExecuteTime": {
     "end_time": "2024-11-26T11:35:31.446681Z",
     "start_time": "2024-11-26T11:35:31.367288Z"
    }
   },
   "cell_type": "code",
   "source": [
    "# Handle missing values and prepare features and target\n",
    "# Define features and target variable\n",
    "features = [\n",
    "    'stop_number', 'IBNR', 'long', 'lat', \n",
    "    'prev_arrival_delay_m', 'prev_departure_delay_m', \n",
    "    'weighted_avg_prev_delay', 'max_station_number', 'station_progress'\n",
    "]\n",
    "target = 'arrival_delay_m'\n",
    "\n",
    "X = train_ride_df[features]\n",
    "y = train_ride_df[target]\n",
    "\n",
    "# Handle missing values in the target variable\n",
    "if y.isnull().any():\n",
    "    print(f\"Number of missing values in target: {y.isnull().sum()}\")\n",
    "    # Option 1: Impute missing values in y\n",
    "    y.fillna(y.mean(), inplace=True)\n",
    "    # Or use Option 2: Drop rows with missing target values\n",
    "    # train_ride_df.dropna(subset=[target], inplace=True)\n",
    "    # X = train_ride_df[features]\n",
    "    # y = train_ride_df[target]"
   ],
   "id": "79f3254495b6f732",
   "outputs": [
    {
     "name": "stdout",
     "output_type": "stream",
     "text": [
      "Number of missing values in target: 831630\n"
     ]
    }
   ],
   "execution_count": 44
  },
  {
   "metadata": {
    "ExecuteTime": {
     "end_time": "2024-11-26T11:35:31.463700Z",
     "start_time": "2024-11-26T11:35:31.448755Z"
    }
   },
   "cell_type": "code",
   "source": [
    "# Display the feature matrix and target to verify\n",
    "X.head()"
   ],
   "id": "9b8f89bf5b46efbf",
   "outputs": [
    {
     "data": {
      "text/plain": [
       "   stop_number       IBNR       long        lat  prev_arrival_delay_m  \\\n",
       "0            2  8011118.0  13.375988  52.509379                   0.0   \n",
       "1            3  8011160.0   9.095851  48.849792                   0.0   \n",
       "2            4  8011167.0  13.299437  52.530276                   0.0   \n",
       "3            5  8010404.0  13.196898  52.534648                   0.0   \n",
       "4            6  8080040.0  13.128917  52.549396                   2.0   \n",
       "\n",
       "   prev_departure_delay_m  weighted_avg_prev_delay  max_station_number  \\\n",
       "0                     0.0                 0.000000                   7   \n",
       "1                     0.0                 0.000000                   7   \n",
       "2                     0.0                 0.000000                   7   \n",
       "3                     0.0                 0.000000                   7   \n",
       "4                     0.0                 0.666667                   7   \n",
       "\n",
       "   station_progress  \n",
       "0          0.285714  \n",
       "1          0.428571  \n",
       "2          0.571429  \n",
       "3          0.714286  \n",
       "4          0.857143  "
      ],
      "text/html": [
       "<div>\n",
       "<style scoped>\n",
       "    .dataframe tbody tr th:only-of-type {\n",
       "        vertical-align: middle;\n",
       "    }\n",
       "\n",
       "    .dataframe tbody tr th {\n",
       "        vertical-align: top;\n",
       "    }\n",
       "\n",
       "    .dataframe thead th {\n",
       "        text-align: right;\n",
       "    }\n",
       "</style>\n",
       "<table border=\"1\" class=\"dataframe\">\n",
       "  <thead>\n",
       "    <tr style=\"text-align: right;\">\n",
       "      <th></th>\n",
       "      <th>stop_number</th>\n",
       "      <th>IBNR</th>\n",
       "      <th>long</th>\n",
       "      <th>lat</th>\n",
       "      <th>prev_arrival_delay_m</th>\n",
       "      <th>prev_departure_delay_m</th>\n",
       "      <th>weighted_avg_prev_delay</th>\n",
       "      <th>max_station_number</th>\n",
       "      <th>station_progress</th>\n",
       "    </tr>\n",
       "  </thead>\n",
       "  <tbody>\n",
       "    <tr>\n",
       "      <th>0</th>\n",
       "      <td>2</td>\n",
       "      <td>8011118.0</td>\n",
       "      <td>13.375988</td>\n",
       "      <td>52.509379</td>\n",
       "      <td>0.0</td>\n",
       "      <td>0.0</td>\n",
       "      <td>0.000000</td>\n",
       "      <td>7</td>\n",
       "      <td>0.285714</td>\n",
       "    </tr>\n",
       "    <tr>\n",
       "      <th>1</th>\n",
       "      <td>3</td>\n",
       "      <td>8011160.0</td>\n",
       "      <td>9.095851</td>\n",
       "      <td>48.849792</td>\n",
       "      <td>0.0</td>\n",
       "      <td>0.0</td>\n",
       "      <td>0.000000</td>\n",
       "      <td>7</td>\n",
       "      <td>0.428571</td>\n",
       "    </tr>\n",
       "    <tr>\n",
       "      <th>2</th>\n",
       "      <td>4</td>\n",
       "      <td>8011167.0</td>\n",
       "      <td>13.299437</td>\n",
       "      <td>52.530276</td>\n",
       "      <td>0.0</td>\n",
       "      <td>0.0</td>\n",
       "      <td>0.000000</td>\n",
       "      <td>7</td>\n",
       "      <td>0.571429</td>\n",
       "    </tr>\n",
       "    <tr>\n",
       "      <th>3</th>\n",
       "      <td>5</td>\n",
       "      <td>8010404.0</td>\n",
       "      <td>13.196898</td>\n",
       "      <td>52.534648</td>\n",
       "      <td>0.0</td>\n",
       "      <td>0.0</td>\n",
       "      <td>0.000000</td>\n",
       "      <td>7</td>\n",
       "      <td>0.714286</td>\n",
       "    </tr>\n",
       "    <tr>\n",
       "      <th>4</th>\n",
       "      <td>6</td>\n",
       "      <td>8080040.0</td>\n",
       "      <td>13.128917</td>\n",
       "      <td>52.549396</td>\n",
       "      <td>2.0</td>\n",
       "      <td>0.0</td>\n",
       "      <td>0.666667</td>\n",
       "      <td>7</td>\n",
       "      <td>0.857143</td>\n",
       "    </tr>\n",
       "  </tbody>\n",
       "</table>\n",
       "</div>"
      ]
     },
     "execution_count": 45,
     "metadata": {},
     "output_type": "execute_result"
    }
   ],
   "execution_count": 45
  },
  {
   "metadata": {
    "ExecuteTime": {
     "end_time": "2024-11-26T11:35:31.475466Z",
     "start_time": "2024-11-26T11:35:31.466766Z"
    }
   },
   "cell_type": "code",
   "source": "y.head()",
   "id": "48e7be9c8beb890f",
   "outputs": [
    {
     "data": {
      "text/plain": [
       "0    0.000000\n",
       "1    1.255314\n",
       "2    0.000000\n",
       "3    2.000000\n",
       "4    1.000000\n",
       "Name: arrival_delay_m, dtype: float64"
      ]
     },
     "execution_count": 46,
     "metadata": {},
     "output_type": "execute_result"
    }
   ],
   "execution_count": 46
  },
  {
   "metadata": {
    "ExecuteTime": {
     "end_time": "2024-11-26T11:35:31.508205Z",
     "start_time": "2024-11-26T11:35:31.477268Z"
    }
   },
   "cell_type": "code",
   "source": [
    "# Check for missing values\n",
    "print(\"Missing values in features:\\n\", X.isnull().sum())\n",
    "print(\"Missing values in target:\", y.isnull().sum())"
   ],
   "id": "b02f5f4f1b717c40",
   "outputs": [
    {
     "name": "stdout",
     "output_type": "stream",
     "text": [
      "Missing values in features:\n",
      " stop_number                     0\n",
      "IBNR                       121088\n",
      "long                            0\n",
      "lat                             0\n",
      "prev_arrival_delay_m            0\n",
      "prev_departure_delay_m          0\n",
      "weighted_avg_prev_delay         0\n",
      "max_station_number              0\n",
      "station_progress                0\n",
      "dtype: int64\n",
      "Missing values in target: 0\n"
     ]
    }
   ],
   "execution_count": 47
  },
  {
   "metadata": {
    "ExecuteTime": {
     "end_time": "2024-11-26T12:08:39.149919Z",
     "start_time": "2024-11-26T11:35:31.510142Z"
    }
   },
   "cell_type": "code",
   "source": [
    "# Hyperparameter tuning using k-fold cross-validation\n",
    "# Define the HistGradientBoostingRegressor model\n",
    "hgbr = HistGradientBoostingRegressor()\n",
    "\n",
    "# Define hyperparameter grid\n",
    "param_grid = {\n",
    "    'learning_rate': [0.01, 0.05, 0.1],\n",
    "    'max_iter': [100, 200, 300],\n",
    "    'max_depth': [3, 5, 7],\n",
    "    'min_samples_leaf': [10, 20, 30]\n",
    "}\n",
    "\n",
    "# Use GridSearchCV for hyperparameter tuning\n",
    "scorer = make_scorer(r2_score)\n",
    "grid_search = GridSearchCV(estimator=hgbr, param_grid=param_grid, scoring=scorer, cv=5, verbose=1)\n",
    "grid_search.fit(X, y)\n",
    "\n",
    "# Display the best hyperparameters and the corresponding score\n",
    "best_params = grid_search.best_params_\n",
    "best_score = grid_search.best_score_\n",
    "\n",
    "print(f\"Best Hyperparameters: {best_params}\")\n",
    "print(f\"Best Cross-Validation R-squared Score: {best_score}\")"
   ],
   "id": "f5feb0d866330f80",
   "outputs": [
    {
     "name": "stdout",
     "output_type": "stream",
     "text": [
      "Fitting 5 folds for each of 81 candidates, totalling 405 fits\n",
      "Best Hyperparameters: {'learning_rate': 0.1, 'max_depth': 7, 'max_iter': 300, 'min_samples_leaf': 10}\n",
      "Best Cross-Validation R-squared Score: 0.6780548160289204\n"
     ]
    }
   ],
   "execution_count": 48
  },
  {
   "metadata": {
    "ExecuteTime": {
     "end_time": "2024-11-26T12:09:14.922464Z",
     "start_time": "2024-11-26T12:08:39.155332Z"
    }
   },
   "cell_type": "code",
   "source": [
    "# Evaluate the best model using k-fold cross-validation\n",
    "# Use the best estimator from GridSearchCV\n",
    "best_hgbr = grid_search.best_estimator_\n",
    "\n",
    "# Perform k-fold cross-validation\n",
    "cv_scores = cross_val_score(best_hgbr, X, y, cv=5, scoring='r2')\n",
    "\n",
    "# Print cross-validation results\n",
    "print(f\"Cross-Validation R-squared Scores: {cv_scores}\")\n",
    "print(f\"Mean R-squared Score: {np.mean(cv_scores)}\")\n",
    "print(f\"Standard Deviation of R-squared Scores: {np.std(cv_scores)}\")"
   ],
   "id": "bcfd36fa2ac6647e",
   "outputs": [
    {
     "name": "stdout",
     "output_type": "stream",
     "text": [
      "Cross-Validation R-squared Scores: [0.68507323 0.6750879  0.67859023 0.67770233 0.67771683]\n",
      "Mean R-squared Score: 0.6788341035494211\n",
      "Standard Deviation of R-squared Scores: 0.0033331517953366424\n"
     ]
    }
   ],
   "execution_count": 49
  },
  {
   "metadata": {
    "ExecuteTime": {
     "end_time": "2024-11-26T12:09:15.003807Z",
     "start_time": "2024-11-26T12:09:14.924899Z"
    }
   },
   "cell_type": "code",
   "source": [
    "# Feature importance analysis\n",
    "# Extract and visualise feature importance\n",
    "feature_importances = best_hgbr.feature_importances_\n",
    "importance_df = pd.DataFrame({\n",
    "    'Feature': features,\n",
    "    'Importance': feature_importances\n",
    "}).sort_values(by='Importance', ascending=False)\n",
    "\n",
    "# Display the feature importances\n",
    "importance_df"
   ],
   "id": "c31982f1b6a9aa75",
   "outputs": [
    {
     "ename": "AttributeError",
     "evalue": "'HistGradientBoostingRegressor' object has no attribute 'feature_importances_'",
     "output_type": "error",
     "traceback": [
      "\u001B[0;31m---------------------------------------------------------------------------\u001B[0m",
      "\u001B[0;31mAttributeError\u001B[0m                            Traceback (most recent call last)",
      "Cell \u001B[0;32mIn[50], line 3\u001B[0m\n\u001B[1;32m      1\u001B[0m \u001B[38;5;66;03m# Feature importance analysis\u001B[39;00m\n\u001B[1;32m      2\u001B[0m \u001B[38;5;66;03m# Extract and visualise feature importance\u001B[39;00m\n\u001B[0;32m----> 3\u001B[0m feature_importances \u001B[38;5;241m=\u001B[39m \u001B[43mbest_hgbr\u001B[49m\u001B[38;5;241;43m.\u001B[39;49m\u001B[43mfeature_importances_\u001B[49m\n\u001B[1;32m      4\u001B[0m importance_df \u001B[38;5;241m=\u001B[39m pd\u001B[38;5;241m.\u001B[39mDataFrame({\n\u001B[1;32m      5\u001B[0m     \u001B[38;5;124m'\u001B[39m\u001B[38;5;124mFeature\u001B[39m\u001B[38;5;124m'\u001B[39m: features,\n\u001B[1;32m      6\u001B[0m     \u001B[38;5;124m'\u001B[39m\u001B[38;5;124mImportance\u001B[39m\u001B[38;5;124m'\u001B[39m: feature_importances\n\u001B[1;32m      7\u001B[0m })\u001B[38;5;241m.\u001B[39msort_values(by\u001B[38;5;241m=\u001B[39m\u001B[38;5;124m'\u001B[39m\u001B[38;5;124mImportance\u001B[39m\u001B[38;5;124m'\u001B[39m, ascending\u001B[38;5;241m=\u001B[39m\u001B[38;5;28;01mFalse\u001B[39;00m)\n\u001B[1;32m      9\u001B[0m \u001B[38;5;66;03m# Display the feature importances\u001B[39;00m\n",
      "\u001B[0;31mAttributeError\u001B[0m: 'HistGradientBoostingRegressor' object has no attribute 'feature_importances_'"
     ]
    }
   ],
   "execution_count": 50
  },
  {
   "metadata": {
    "ExecuteTime": {
     "end_time": "2024-11-26T12:09:15.009537Z",
     "start_time": "2024-11-26T12:09:15.006325Z"
    }
   },
   "cell_type": "code",
   "source": [
    "# Plot feature importances\n",
    "plt.barh(importance_df['Feature'], importance_df['Importance'])\n",
    "plt.xlabel('Feature Importance')\n",
    "plt.ylabel('Features')\n",
    "plt.title('Feature Importance in HistGradientBoostingRegressor')\n",
    "plt.gca().invert_yaxis()  # Reverse the order for better readability\n",
    "plt.show()"
   ],
   "id": "3547bb4591eb3a63",
   "outputs": [],
   "execution_count": null
  },
  {
   "metadata": {},
   "cell_type": "code",
   "source": [
    "# Residual analysis\n",
    "# Predict on the full dataset to check residual patterns\n",
    "y_pred = best_hgbr.predict(X)\n",
    "residuals = y - y_pred\n",
    "\n",
    "# Scatter plot of residuals\n",
    "plt.scatter(y, residuals, alpha=0.6)\n",
    "plt.axhline(y=0, color='red', linestyle='--')\n",
    "plt.xlabel('True Values')\n",
    "plt.ylabel('Residuals')\n",
    "plt.title('Residual Analysis')\n",
    "plt.show()"
   ],
   "id": "2c7a8323ac10bbf3",
   "outputs": [],
   "execution_count": null
  }
 ],
 "metadata": {
  "kernelspec": {
   "display_name": "Python 3",
   "language": "python",
   "name": "python3"
  },
  "language_info": {
   "codemirror_mode": {
    "name": "ipython",
    "version": 2
   },
   "file_extension": ".py",
   "mimetype": "text/x-python",
   "name": "python",
   "nbconvert_exporter": "python",
   "pygments_lexer": "ipython2",
   "version": "2.7.6"
  }
 },
 "nbformat": 4,
 "nbformat_minor": 5
}
