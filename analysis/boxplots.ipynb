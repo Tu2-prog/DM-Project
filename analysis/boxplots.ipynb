{
 "cells": [
  {
   "cell_type": "code",
   "execution_count": 22,
   "id": "initial_id",
   "metadata": {
    "ExecuteTime": {
     "end_time": "2024-11-21T09:19:37.782360Z",
     "start_time": "2024-11-21T09:19:37.778888Z"
    },
    "collapsed": true
   },
   "outputs": [],
   "source": [
    "import pandas as pd"
   ]
  },
  {
   "cell_type": "code",
   "execution_count": 23,
   "id": "570612d1da6ec6a1",
   "metadata": {
    "ExecuteTime": {
     "end_time": "2024-11-21T09:19:40.095473Z",
     "start_time": "2024-11-21T09:19:37.783367Z"
    }
   },
   "outputs": [],
   "source": [
    "# Load the data\n",
    "train_ride_df = pd.read_csv('../DBtrainrides_complete_preprocessed_2.csv')"
   ]
  },
  {
   "cell_type": "code",
   "execution_count": 24,
   "id": "236644bea207af1c",
   "metadata": {
    "ExecuteTime": {
     "end_time": "2024-11-21T09:19:40.103925Z",
     "start_time": "2024-11-21T09:19:40.095473Z"
    }
   },
   "outputs": [
    {
     "data": {
      "text/html": [
       "<div>\n",
       "<style scoped>\n",
       "    .dataframe tbody tr th:only-of-type {\n",
       "        vertical-align: middle;\n",
       "    }\n",
       "\n",
       "    .dataframe tbody tr th {\n",
       "        vertical-align: top;\n",
       "    }\n",
       "\n",
       "    .dataframe thead th {\n",
       "        text-align: right;\n",
       "    }\n",
       "</style>\n",
       "<table border=\"1\" class=\"dataframe\">\n",
       "  <thead>\n",
       "    <tr style=\"text-align: right;\">\n",
       "      <th></th>\n",
       "      <th>ID_Base</th>\n",
       "      <th>ID_Timestamp</th>\n",
       "      <th>stop_number</th>\n",
       "      <th>IBNR</th>\n",
       "      <th>long</th>\n",
       "      <th>lat</th>\n",
       "      <th>arrival_plan</th>\n",
       "      <th>departure_plan</th>\n",
       "      <th>arrival_delay_m</th>\n",
       "      <th>transformed_info_message</th>\n",
       "      <th>prev_arrival_delay_m</th>\n",
       "      <th>prev_departure_delay_m</th>\n",
       "      <th>weighted_avg_prev_delay</th>\n",
       "      <th>max_station_number</th>\n",
       "      <th>station_progress</th>\n",
       "      <th>info_label_encoded</th>\n",
       "      <th>arrival_normalized</th>\n",
       "      <th>departure_normalized</th>\n",
       "    </tr>\n",
       "  </thead>\n",
       "  <tbody>\n",
       "    <tr>\n",
       "      <th>0</th>\n",
       "      <td>-1001326572688500578</td>\n",
       "      <td>2407082041</td>\n",
       "      <td>2</td>\n",
       "      <td>8011118.0</td>\n",
       "      <td>13.375988</td>\n",
       "      <td>52.509379</td>\n",
       "      <td>2024-07-08 20:44:00</td>\n",
       "      <td>2024-07-08 20:45:00</td>\n",
       "      <td>0.0</td>\n",
       "      <td>No message</td>\n",
       "      <td>0.0</td>\n",
       "      <td>0.0</td>\n",
       "      <td>0.000000</td>\n",
       "      <td>7</td>\n",
       "      <td>0.285714</td>\n",
       "      <td>0</td>\n",
       "      <td>0.125866</td>\n",
       "      <td>0.125965</td>\n",
       "    </tr>\n",
       "    <tr>\n",
       "      <th>1</th>\n",
       "      <td>-1001326572688500578</td>\n",
       "      <td>2407082041</td>\n",
       "      <td>3</td>\n",
       "      <td>8011160.0</td>\n",
       "      <td>9.095851</td>\n",
       "      <td>48.849792</td>\n",
       "      <td>2024-07-08 20:50:00</td>\n",
       "      <td>2024-07-08 20:50:00</td>\n",
       "      <td>0.0</td>\n",
       "      <td>No message</td>\n",
       "      <td>0.0</td>\n",
       "      <td>0.0</td>\n",
       "      <td>0.000000</td>\n",
       "      <td>7</td>\n",
       "      <td>0.428571</td>\n",
       "      <td>0</td>\n",
       "      <td>0.126460</td>\n",
       "      <td>0.126460</td>\n",
       "    </tr>\n",
       "    <tr>\n",
       "      <th>2</th>\n",
       "      <td>-1001326572688500578</td>\n",
       "      <td>2407082041</td>\n",
       "      <td>4</td>\n",
       "      <td>8011167.0</td>\n",
       "      <td>13.299437</td>\n",
       "      <td>52.530276</td>\n",
       "      <td>2024-07-08 20:55:00</td>\n",
       "      <td>2024-07-08 20:56:00</td>\n",
       "      <td>0.0</td>\n",
       "      <td>No message</td>\n",
       "      <td>0.0</td>\n",
       "      <td>0.0</td>\n",
       "      <td>0.000000</td>\n",
       "      <td>7</td>\n",
       "      <td>0.571429</td>\n",
       "      <td>0</td>\n",
       "      <td>0.126954</td>\n",
       "      <td>0.127053</td>\n",
       "    </tr>\n",
       "    <tr>\n",
       "      <th>3</th>\n",
       "      <td>-1001326572688500578</td>\n",
       "      <td>2407082041</td>\n",
       "      <td>5</td>\n",
       "      <td>8010404.0</td>\n",
       "      <td>13.196898</td>\n",
       "      <td>52.534648</td>\n",
       "      <td>2024-07-08 21:00:00</td>\n",
       "      <td>2024-07-08 21:03:00</td>\n",
       "      <td>2.0</td>\n",
       "      <td>No message</td>\n",
       "      <td>0.0</td>\n",
       "      <td>0.0</td>\n",
       "      <td>0.000000</td>\n",
       "      <td>7</td>\n",
       "      <td>0.714286</td>\n",
       "      <td>0</td>\n",
       "      <td>0.127449</td>\n",
       "      <td>0.127746</td>\n",
       "    </tr>\n",
       "    <tr>\n",
       "      <th>4</th>\n",
       "      <td>-1001326572688500578</td>\n",
       "      <td>2407082041</td>\n",
       "      <td>6</td>\n",
       "      <td>8080040.0</td>\n",
       "      <td>13.128917</td>\n",
       "      <td>52.549396</td>\n",
       "      <td>2024-07-08 21:06:00</td>\n",
       "      <td>2024-07-08 21:07:00</td>\n",
       "      <td>1.0</td>\n",
       "      <td>No message</td>\n",
       "      <td>2.0</td>\n",
       "      <td>0.0</td>\n",
       "      <td>0.666667</td>\n",
       "      <td>7</td>\n",
       "      <td>0.857143</td>\n",
       "      <td>0</td>\n",
       "      <td>0.128043</td>\n",
       "      <td>0.128142</td>\n",
       "    </tr>\n",
       "  </tbody>\n",
       "</table>\n",
       "</div>"
      ],
      "text/plain": [
       "               ID_Base  ID_Timestamp  stop_number       IBNR       long  \\\n",
       "0 -1001326572688500578    2407082041            2  8011118.0  13.375988   \n",
       "1 -1001326572688500578    2407082041            3  8011160.0   9.095851   \n",
       "2 -1001326572688500578    2407082041            4  8011167.0  13.299437   \n",
       "3 -1001326572688500578    2407082041            5  8010404.0  13.196898   \n",
       "4 -1001326572688500578    2407082041            6  8080040.0  13.128917   \n",
       "\n",
       "         lat         arrival_plan       departure_plan  arrival_delay_m  \\\n",
       "0  52.509379  2024-07-08 20:44:00  2024-07-08 20:45:00              0.0   \n",
       "1  48.849792  2024-07-08 20:50:00  2024-07-08 20:50:00              0.0   \n",
       "2  52.530276  2024-07-08 20:55:00  2024-07-08 20:56:00              0.0   \n",
       "3  52.534648  2024-07-08 21:00:00  2024-07-08 21:03:00              2.0   \n",
       "4  52.549396  2024-07-08 21:06:00  2024-07-08 21:07:00              1.0   \n",
       "\n",
       "  transformed_info_message  prev_arrival_delay_m  prev_departure_delay_m  \\\n",
       "0               No message                   0.0                     0.0   \n",
       "1               No message                   0.0                     0.0   \n",
       "2               No message                   0.0                     0.0   \n",
       "3               No message                   0.0                     0.0   \n",
       "4               No message                   2.0                     0.0   \n",
       "\n",
       "   weighted_avg_prev_delay  max_station_number  station_progress  \\\n",
       "0                 0.000000                   7          0.285714   \n",
       "1                 0.000000                   7          0.428571   \n",
       "2                 0.000000                   7          0.571429   \n",
       "3                 0.000000                   7          0.714286   \n",
       "4                 0.666667                   7          0.857143   \n",
       "\n",
       "   info_label_encoded  arrival_normalized  departure_normalized  \n",
       "0                   0            0.125866              0.125965  \n",
       "1                   0            0.126460              0.126460  \n",
       "2                   0            0.126954              0.127053  \n",
       "3                   0            0.127449              0.127746  \n",
       "4                   0            0.128043              0.128142  "
      ]
     },
     "execution_count": 24,
     "metadata": {},
     "output_type": "execute_result"
    }
   ],
   "source": [
    "train_ride_df.head()"
   ]
  },
  {
   "cell_type": "code",
   "execution_count": 25,
   "id": "5baa0759d41339eb",
   "metadata": {
    "ExecuteTime": {
     "end_time": "2024-11-21T09:19:40.286969Z",
     "start_time": "2024-11-21T09:19:40.104931Z"
    }
   },
   "outputs": [
    {
     "data": {
      "text/plain": [
       "ID_Base                     1914116\n",
       "ID_Timestamp                1914116\n",
       "stop_number                 1914116\n",
       "IBNR                        1914116\n",
       "long                        1914116\n",
       "lat                         1914116\n",
       "arrival_plan                1914116\n",
       "departure_plan              1914116\n",
       "arrival_delay_m             1914116\n",
       "transformed_info_message    1914116\n",
       "prev_arrival_delay_m        1914116\n",
       "prev_departure_delay_m      1914116\n",
       "weighted_avg_prev_delay     1914116\n",
       "max_station_number          1914116\n",
       "station_progress            1914116\n",
       "info_label_encoded          1914116\n",
       "arrival_normalized          1914116\n",
       "departure_normalized        1914116\n",
       "dtype: int64"
      ]
     },
     "execution_count": 25,
     "metadata": {},
     "output_type": "execute_result"
    }
   ],
   "source": [
    "train_ride_df.count()"
   ]
  },
  {
   "cell_type": "code",
   "execution_count": 26,
   "id": "fca9b2ee8f23fdae",
   "metadata": {
    "ExecuteTime": {
     "end_time": "2024-11-21T09:19:40.292237Z",
     "start_time": "2024-11-21T09:19:40.286969Z"
    }
   },
   "outputs": [
    {
     "name": "stdout",
     "output_type": "stream",
     "text": [
      "<class 'pandas.core.frame.DataFrame'>\n",
      "RangeIndex: 1914116 entries, 0 to 1914115\n",
      "Data columns (total 18 columns):\n",
      " #   Column                    Dtype  \n",
      "---  ------                    -----  \n",
      " 0   ID_Base                   int64  \n",
      " 1   ID_Timestamp              int64  \n",
      " 2   stop_number               int64  \n",
      " 3   IBNR                      float64\n",
      " 4   long                      float64\n",
      " 5   lat                       float64\n",
      " 6   arrival_plan              object \n",
      " 7   departure_plan            object \n",
      " 8   arrival_delay_m           float64\n",
      " 9   transformed_info_message  object \n",
      " 10  prev_arrival_delay_m      float64\n",
      " 11  prev_departure_delay_m    float64\n",
      " 12  weighted_avg_prev_delay   float64\n",
      " 13  max_station_number        int64  \n",
      " 14  station_progress          float64\n",
      " 15  info_label_encoded        int64  \n",
      " 16  arrival_normalized        float64\n",
      " 17  departure_normalized      float64\n",
      "dtypes: float64(10), int64(5), object(3)\n",
      "memory usage: 262.9+ MB\n"
     ]
    }
   ],
   "source": [
    "train_ride_df.info()"
   ]
  },
  {
   "cell_type": "code",
   "execution_count": 27,
   "id": "a0571f04e1a69ff0",
   "metadata": {
    "ExecuteTime": {
     "end_time": "2024-11-21T09:19:41.068273Z",
     "start_time": "2024-11-21T09:19:40.292237Z"
    }
   },
   "outputs": [
    {
     "data": {
      "text/plain": [
       "ID_Base                             object\n",
       "ID_Timestamp                        object\n",
       "stop_number                         object\n",
       "IBNR                                object\n",
       "long                               float64\n",
       "lat                                float64\n",
       "arrival_plan                datetime64[ns]\n",
       "departure_plan              datetime64[ns]\n",
       "arrival_delay_m                    float64\n",
       "transformed_info_message            object\n",
       "prev_arrival_delay_m               float64\n",
       "prev_departure_delay_m             float64\n",
       "weighted_avg_prev_delay            float64\n",
       "max_station_number                   int64\n",
       "station_progress                   float64\n",
       "dtype: object"
      ]
     },
     "execution_count": 27,
     "metadata": {},
     "output_type": "execute_result"
    }
   ],
   "source": [
    "# Drop certain columns that were transofrmations of original data\n",
    "train_ride_df = train_ride_df.drop(columns=[\"arrival_normalized\", \"departure_normalized\", \"info_label_encoded\"])\n",
    "\n",
    "# Define column groups\n",
    "id_columns = ['ID_Base', 'ID_Timestamp', 'stop_number', 'IBNR']  # Removed 'starting_station_IBNR' and 'zip' as they are not present in the DataFrame\n",
    "float_columns = [\n",
    "    'long', 'lat', 'arrival_delay_m', 'prev_arrival_delay_m', \n",
    "    'prev_departure_delay_m', 'weighted_avg_prev_delay', 'station_progress'\n",
    "]  # Removed 'cumulative_delay', 'delay_gain', etc., as they are not present\n",
    "datetime_columns = ['arrival_plan', 'departure_plan']  # 'arrival_time' and 'departure_time' are missing\n",
    "categorical_columns = [\n",
    "    'transformed_info_message'  # Removed 'clear_station_name', 'origin_departure_plan', etc., as they are missing\n",
    "]\n",
    "\n",
    "# Identify columns that are present in the dataframe\n",
    "existing_id_columns = [col for col in id_columns if col in train_ride_df.columns]\n",
    "existing_float_columns = [col for col in float_columns if col in train_ride_df.columns]\n",
    "existing_datetime_columns = [col for col in datetime_columns if col in train_ride_df.columns]\n",
    "existing_categorical_columns = [col for col in categorical_columns if col in train_ride_df.columns]\n",
    "\n",
    "# Convert columns to appropriate data types based on logical assumptions\n",
    "\n",
    "# Convert ID columns and station-related columns to object (not int64)\n",
    "train_ride_df[existing_id_columns] = train_ride_df[existing_id_columns].astype('object')\n",
    "\n",
    "# Convert geospatial and delay-related columns to float64\n",
    "train_ride_df[existing_float_columns] = train_ride_df[existing_float_columns].astype('float64')\n",
    "\n",
    "# Convert datetime columns to datetime type\n",
    "train_ride_df[existing_datetime_columns] = train_ride_df[existing_datetime_columns].apply(pd.to_datetime)\n",
    "\n",
    "# Convert categorical columns to object type\n",
    "train_ride_df[existing_categorical_columns] = train_ride_df[existing_categorical_columns].astype('object')\n",
    "\n",
    "# Check the data types after conversion\n",
    "train_ride_df.dtypes"
   ]
  },
  {
   "cell_type": "code",
   "execution_count": 28,
   "id": "432c2cc3b903c2dc",
   "metadata": {
    "ExecuteTime": {
     "end_time": "2024-11-21T09:19:41.163939Z",
     "start_time": "2024-11-21T09:19:41.068273Z"
    }
   },
   "outputs": [
    {
     "data": {
      "text/plain": [
       "Index(['long', 'lat', 'arrival_delay_m', 'prev_arrival_delay_m',\n",
       "       'prev_departure_delay_m', 'weighted_avg_prev_delay',\n",
       "       'max_station_number', 'station_progress'],\n",
       "      dtype='object')"
      ]
     },
     "execution_count": 28,
     "metadata": {},
     "output_type": "execute_result"
    }
   ],
   "source": [
    "# Identify relevant numeric columns (those of type float64 and int64)\n",
    "numeric_columns = train_ride_df.select_dtypes(include=['float64', 'int64']).columns\n",
    "numeric_columns"
   ]
  },
  {
   "cell_type": "code",
   "execution_count": 29,
   "id": "5e10e0dab58dc245",
   "metadata": {
    "ExecuteTime": {
     "end_time": "2024-11-21T09:19:41.321301Z",
     "start_time": "2024-11-21T09:19:41.163939Z"
    }
   },
   "outputs": [
    {
     "data": {
      "text/plain": [
       "long                       0\n",
       "lat                        0\n",
       "arrival_delay_m            0\n",
       "prev_arrival_delay_m       0\n",
       "prev_departure_delay_m     0\n",
       "weighted_avg_prev_delay    0\n",
       "max_station_number         0\n",
       "station_progress           0\n",
       "dtype: int64"
      ]
     },
     "execution_count": 29,
     "metadata": {},
     "output_type": "execute_result"
    }
   ],
   "source": [
    "# Identify relevant numeric columns (those of type float64 and int64)\n",
    "numeric_columns = train_ride_df.select_dtypes(include=['float64', 'int64']).columns\n",
    "\n",
    "# Count NaN values in each numeric column\n",
    "nan_counts = train_ride_df[numeric_columns].isna().sum()\n",
    "\n",
    "# Display the count of NaN values for each numeric column\n",
    "nan_counts"
   ]
  },
  {
   "cell_type": "code",
   "execution_count": 30,
   "id": "6017e5ce4ea1bd6e",
   "metadata": {
    "ExecuteTime": {
     "end_time": "2024-11-21T09:19:56.629227Z",
     "start_time": "2024-11-21T09:19:41.321301Z"
    }
   },
   "outputs": [
    {
     "name": "stdout",
     "output_type": "stream",
     "text": [
      "long: 1914116 non-NaN values\n",
      "lat: 1914116 non-NaN values\n",
      "arrival_delay_m: 1914116 non-NaN values\n",
      "prev_arrival_delay_m: 1914116 non-NaN values\n",
      "prev_departure_delay_m: 1914116 non-NaN values\n",
      "weighted_avg_prev_delay: 1914116 non-NaN values\n",
      "max_station_number: 1914116 non-NaN values\n",
      "station_progress: 1914116 non-NaN values\n"
     ]
    },
    {
     "data": {
      "image/png": "[encoded data removed]",
      "text/plain": [
       "<Figure size 1200x1000 with 8 Axes>"
      ]
     },
     "metadata": {},
     "output_type": "display_data"
    }
   ],
   "source": [
    "import matplotlib.pyplot as plt\n",
    "import seaborn as sns\n",
    "\n",
    "# Identify relevant numeric columns (those of type float64 and int64)\n",
    "numeric_columns = train_ride_df.select_dtypes(include=['float64', 'int64']).columns\n",
    "\n",
    "# Print the number of non-NaN values for each column\n",
    "for col in numeric_columns:\n",
    "    print(f'{col}: {train_ride_df[col].notna().sum()} non-NaN values')\n",
    "\n",
    "# Create boxplots for each numeric column\n",
    "plt.figure(figsize=(12, 10))\n",
    "for i, col in enumerate(numeric_columns, 1):\n",
    "    plt.subplot(len(numeric_columns)//2 + 1, 2, i)\n",
    "    sns.boxplot(x=train_ride_df[col])\n",
    "    plt.title(f'Boxplot of {col}')\n",
    "    plt.tight_layout()\n",
    "\n",
    "plt.show()"
   ]
  },
  {
   "cell_type": "code",
   "execution_count": 31,
   "id": "d2665df61ec088d4",
   "metadata": {
    "ExecuteTime": {
     "end_time": "2024-11-21T09:28:56.879474Z",
     "start_time": "2024-11-21T09:28:56.010723Z"
    }
   },
   "outputs": [
    {
     "ename": "KeyboardInterrupt",
     "evalue": "",
     "output_type": "error",
     "traceback": [
      "\u001b[0;31m---------------------------------------------------------------------------\u001b[0m",
      "\u001b[0;31mKeyboardInterrupt\u001b[0m                         Traceback (most recent call last)",
      "Cell \u001b[0;32mIn[31], line 4\u001b[0m\n\u001b[1;32m      1\u001b[0m \u001b[38;5;28;01mfrom\u001b[39;00m \u001b[38;5;21;01mydata_profiling\u001b[39;00m \u001b[38;5;28;01mimport\u001b[39;00m ProfileReport\n\u001b[1;32m      3\u001b[0m \u001b[38;5;66;03m# Assuming you have a pandas dataframe called train_ride_df\u001b[39;00m\n\u001b[0;32m----> 4\u001b[0m profile \u001b[38;5;241m=\u001b[39m \u001b[43mProfileReport\u001b[49m\u001b[43m(\u001b[49m\u001b[43mtrain_ride_df\u001b[49m\u001b[43m,\u001b[49m\u001b[43m \u001b[49m\u001b[43mtitle\u001b[49m\u001b[38;5;241;43m=\u001b[39;49m\u001b[38;5;124;43m\"\u001b[39;49m\u001b[38;5;124;43mTrain Ride Data Report\u001b[39;49m\u001b[38;5;124;43m\"\u001b[39;49m\u001b[43m,\u001b[49m\u001b[43m \u001b[49m\u001b[43mexplorative\u001b[49m\u001b[38;5;241;43m=\u001b[39;49m\u001b[38;5;28;43;01mTrue\u001b[39;49;00m\u001b[43m)\u001b[49m\n\u001b[1;32m      6\u001b[0m \u001b[38;5;66;03m# To save the report as an HTML file\u001b[39;00m\n\u001b[1;32m      7\u001b[0m profile\u001b[38;5;241m.\u001b[39mto_file(\u001b[38;5;124m\"\u001b[39m\u001b[38;5;124m../train_ride_report.html\u001b[39m\u001b[38;5;124m\"\u001b[39m)\n",
      "File \u001b[0;32m~/anaconda3/envs/data_mining/lib/python3.11/site-packages/ydata_profiling/profile_report.py:148\u001b[0m, in \u001b[0;36mProfileReport.__init__\u001b[0;34m(self, df, minimal, tsmode, sortby, sensitive, explorative, sample, config_file, lazy, typeset, summarizer, config, type_schema, **kwargs)\u001b[0m\n\u001b[1;32m    145\u001b[0m \u001b[38;5;28;01mif\u001b[39;00m tsmode \u001b[38;5;129;01mand\u001b[39;00m sortby:\n\u001b[1;32m    146\u001b[0m     report_config\u001b[38;5;241m.\u001b[39mvars\u001b[38;5;241m.\u001b[39mtimeseries\u001b[38;5;241m.\u001b[39msortby \u001b[38;5;241m=\u001b[39m sortby\n\u001b[0;32m--> 148\u001b[0m \u001b[38;5;28mself\u001b[39m\u001b[38;5;241m.\u001b[39mdf \u001b[38;5;241m=\u001b[39m \u001b[38;5;28;43mself\u001b[39;49m\u001b[38;5;241;43m.\u001b[39;49m\u001b[43m__initialize_dataframe\u001b[49m\u001b[43m(\u001b[49m\u001b[43mdf\u001b[49m\u001b[43m,\u001b[49m\u001b[43m \u001b[49m\u001b[43mreport_config\u001b[49m\u001b[43m)\u001b[49m\n\u001b[1;32m    149\u001b[0m \u001b[38;5;28mself\u001b[39m\u001b[38;5;241m.\u001b[39mconfig \u001b[38;5;241m=\u001b[39m report_config\n\u001b[1;32m    150\u001b[0m \u001b[38;5;28mself\u001b[39m\u001b[38;5;241m.\u001b[39m_df_hash \u001b[38;5;241m=\u001b[39m \u001b[38;5;28;01mNone\u001b[39;00m\n",
      "File \u001b[0;32m~/anaconda3/envs/data_mining/lib/python3.11/site-packages/ydata_profiling/profile_report.py:201\u001b[0m, in \u001b[0;36mProfileReport.__initialize_dataframe\u001b[0;34m(df, report_config)\u001b[0m\n\u001b[1;32m    196\u001b[0m \u001b[38;5;129m@staticmethod\u001b[39m\n\u001b[1;32m    197\u001b[0m \u001b[38;5;28;01mdef\u001b[39;00m \u001b[38;5;21m__initialize_dataframe\u001b[39m(\n\u001b[1;32m    198\u001b[0m     df: Optional[Union[pd\u001b[38;5;241m.\u001b[39mDataFrame, sDataFrame]], report_config: Settings\n\u001b[1;32m    199\u001b[0m ) \u001b[38;5;241m-\u001b[39m\u001b[38;5;241m>\u001b[39m Optional[Union[pd\u001b[38;5;241m.\u001b[39mDataFrame, sDataFrame]]:\n\u001b[0;32m--> 201\u001b[0m     \u001b[43mlogger\u001b[49m\u001b[38;5;241;43m.\u001b[39;49m\u001b[43minfo_def_report\u001b[49m\u001b[43m(\u001b[49m\n\u001b[1;32m    202\u001b[0m \u001b[43m        \u001b[49m\u001b[43mdataframe\u001b[49m\u001b[38;5;241;43m=\u001b[39;49m\u001b[38;5;28;43mtype\u001b[39;49m\u001b[43m(\u001b[49m\u001b[43mdf\u001b[49m\u001b[43m)\u001b[49m\u001b[43m,\u001b[49m\u001b[43m \u001b[49m\u001b[43mtimeseries\u001b[49m\u001b[38;5;241;43m=\u001b[39;49m\u001b[43mreport_config\u001b[49m\u001b[38;5;241;43m.\u001b[39;49m\u001b[43mvars\u001b[49m\u001b[38;5;241;43m.\u001b[39;49m\u001b[43mtimeseries\u001b[49m\u001b[38;5;241;43m.\u001b[39;49m\u001b[43mactive\u001b[49m\n\u001b[1;32m    203\u001b[0m \u001b[43m    \u001b[49m\u001b[43m)\u001b[49m\n\u001b[1;32m    205\u001b[0m     \u001b[38;5;28;01mif\u001b[39;00m (\n\u001b[1;32m    206\u001b[0m         df \u001b[38;5;129;01mis\u001b[39;00m \u001b[38;5;129;01mnot\u001b[39;00m \u001b[38;5;28;01mNone\u001b[39;00m\n\u001b[1;32m    207\u001b[0m         \u001b[38;5;129;01mand\u001b[39;00m \u001b[38;5;28misinstance\u001b[39m(df, pd\u001b[38;5;241m.\u001b[39mDataFrame)\n\u001b[1;32m    208\u001b[0m         \u001b[38;5;129;01mand\u001b[39;00m report_config\u001b[38;5;241m.\u001b[39mvars\u001b[38;5;241m.\u001b[39mtimeseries\u001b[38;5;241m.\u001b[39mactive\n\u001b[1;32m    209\u001b[0m     ):\n\u001b[1;32m    210\u001b[0m         \u001b[38;5;28;01mif\u001b[39;00m report_config\u001b[38;5;241m.\u001b[39mvars\u001b[38;5;241m.\u001b[39mtimeseries\u001b[38;5;241m.\u001b[39msortby:\n",
      "File \u001b[0;32m~/anaconda3/envs/data_mining/lib/python3.11/site-packages/ydata_profiling/utils/logger.py:29\u001b[0m, in \u001b[0;36mProfilingLogger.info_def_report\u001b[0;34m(self, dataframe, timeseries)\u001b[0m\n\u001b[1;32m     25\u001b[0m     report_type \u001b[38;5;241m=\u001b[39m \u001b[38;5;124m\"\u001b[39m\u001b[38;5;124mregular\u001b[39m\u001b[38;5;124m\"\u001b[39m\n\u001b[1;32m     27\u001b[0m datatype \u001b[38;5;241m=\u001b[39m \u001b[38;5;124m\"\u001b[39m\u001b[38;5;124mtimeseries\u001b[39m\u001b[38;5;124m\"\u001b[39m \u001b[38;5;28;01mif\u001b[39;00m timeseries \u001b[38;5;28;01melse\u001b[39;00m \u001b[38;5;124m\"\u001b[39m\u001b[38;5;124mtabular\u001b[39m\u001b[38;5;124m\"\u001b[39m\n\u001b[0;32m---> 29\u001b[0m \u001b[43manalytics_features\u001b[49m\u001b[43m(\u001b[49m\n\u001b[1;32m     30\u001b[0m \u001b[43m    \u001b[49m\u001b[43mdataframe\u001b[49m\u001b[38;5;241;43m=\u001b[39;49m\u001b[43mdataframe\u001b[49m\u001b[43m,\u001b[49m\u001b[43m \u001b[49m\u001b[43mdatatype\u001b[49m\u001b[38;5;241;43m=\u001b[39;49m\u001b[43mdatatype\u001b[49m\u001b[43m,\u001b[49m\u001b[43m \u001b[49m\u001b[43mreport_type\u001b[49m\u001b[38;5;241;43m=\u001b[39;49m\u001b[43mreport_type\u001b[49m\n\u001b[1;32m     31\u001b[0m \u001b[43m\u001b[49m\u001b[43m)\u001b[49m\n\u001b[1;32m     33\u001b[0m \u001b[38;5;28msuper\u001b[39m()\u001b[38;5;241m.\u001b[39minfo(\n\u001b[1;32m     34\u001b[0m     \u001b[38;5;124mf\u001b[39m\u001b[38;5;124m\"\u001b[39m\u001b[38;5;124m[PROFILING] Calculating profile with the following characteristics \u001b[39m\u001b[38;5;124m\"\u001b[39m\n\u001b[1;32m     35\u001b[0m     \u001b[38;5;124mf\u001b[39m\u001b[38;5;124m\"\u001b[39m\u001b[38;5;124m- \u001b[39m\u001b[38;5;132;01m{\u001b[39;00mdataframe\u001b[38;5;132;01m}\u001b[39;00m\u001b[38;5;124m | \u001b[39m\u001b[38;5;132;01m{\u001b[39;00mdatatype\u001b[38;5;132;01m}\u001b[39;00m\u001b[38;5;124m | \u001b[39m\u001b[38;5;132;01m{\u001b[39;00mreport_type\u001b[38;5;132;01m}\u001b[39;00m\u001b[38;5;124m.\u001b[39m\u001b[38;5;124m\"\u001b[39m\n\u001b[1;32m     36\u001b[0m )\n",
      "File \u001b[0;32m~/anaconda3/envs/data_mining/lib/python3.11/site-packages/ydata_profiling/utils/common.py:128\u001b[0m, in \u001b[0;36manalytics_features\u001b[0;34m(dataframe, datatype, report_type)\u001b[0m\n\u001b[1;32m    117\u001b[0m \u001b[38;5;28;01mwith\u001b[39;00m contextlib\u001b[38;5;241m.\u001b[39msuppress(\u001b[38;5;167;01mException\u001b[39;00m):\n\u001b[1;32m    118\u001b[0m     request_message \u001b[38;5;241m=\u001b[39m (\n\u001b[1;32m    119\u001b[0m         \u001b[38;5;124mf\u001b[39m\u001b[38;5;124m\"\u001b[39m\u001b[38;5;132;01m{\u001b[39;00mendpoint\u001b[38;5;132;01m}\u001b[39;00m\u001b[38;5;124mversion=\u001b[39m\u001b[38;5;132;01m{\u001b[39;00mpackage_version\u001b[38;5;132;01m}\u001b[39;00m\u001b[38;5;124m\"\u001b[39m\n\u001b[1;32m    120\u001b[0m         \u001b[38;5;124mf\u001b[39m\u001b[38;5;124m\"\u001b[39m\u001b[38;5;124m&python_version=\u001b[39m\u001b[38;5;132;01m{\u001b[39;00mpython_version\u001b[38;5;132;01m}\u001b[39;00m\u001b[38;5;124m\"\u001b[39m\n\u001b[0;32m   (...)\u001b[0m\n\u001b[1;32m    125\u001b[0m         \u001b[38;5;124mf\u001b[39m\u001b[38;5;124m\"\u001b[39m\u001b[38;5;124m&gpu=\u001b[39m\u001b[38;5;132;01m{\u001b[39;00m\u001b[38;5;28mstr\u001b[39m(gpu_present)\u001b[38;5;132;01m}\u001b[39;00m\u001b[38;5;124m\"\u001b[39m\n\u001b[1;32m    126\u001b[0m     )\n\u001b[0;32m--> 128\u001b[0m     \u001b[43mrequests\u001b[49m\u001b[38;5;241;43m.\u001b[39;49m\u001b[43mget\u001b[49m\u001b[43m(\u001b[49m\u001b[43mrequest_message\u001b[49m\u001b[43m)\u001b[49m\n",
      "File \u001b[0;32m~/anaconda3/envs/data_mining/lib/python3.11/site-packages/requests/api.py:73\u001b[0m, in \u001b[0;36mget\u001b[0;34m(url, params, **kwargs)\u001b[0m\n\u001b[1;32m     62\u001b[0m \u001b[38;5;28;01mdef\u001b[39;00m \u001b[38;5;21mget\u001b[39m(url, params\u001b[38;5;241m=\u001b[39m\u001b[38;5;28;01mNone\u001b[39;00m, \u001b[38;5;241m*\u001b[39m\u001b[38;5;241m*\u001b[39mkwargs):\n\u001b[1;32m     63\u001b[0m \u001b[38;5;250m    \u001b[39m\u001b[38;5;124mr\u001b[39m\u001b[38;5;124;03m\"\"\"Sends a GET request.\u001b[39;00m\n\u001b[1;32m     64\u001b[0m \n\u001b[1;32m     65\u001b[0m \u001b[38;5;124;03m    :param url: URL for the new :class:`Request` object.\u001b[39;00m\n\u001b[0;32m   (...)\u001b[0m\n\u001b[1;32m     70\u001b[0m \u001b[38;5;124;03m    :rtype: requests.Response\u001b[39;00m\n\u001b[1;32m     71\u001b[0m \u001b[38;5;124;03m    \"\"\"\u001b[39;00m\n\u001b[0;32m---> 73\u001b[0m     \u001b[38;5;28;01mreturn\u001b[39;00m \u001b[43mrequest\u001b[49m\u001b[43m(\u001b[49m\u001b[38;5;124;43m\"\u001b[39;49m\u001b[38;5;124;43mget\u001b[39;49m\u001b[38;5;124;43m\"\u001b[39;49m\u001b[43m,\u001b[49m\u001b[43m \u001b[49m\u001b[43murl\u001b[49m\u001b[43m,\u001b[49m\u001b[43m \u001b[49m\u001b[43mparams\u001b[49m\u001b[38;5;241;43m=\u001b[39;49m\u001b[43mparams\u001b[49m\u001b[43m,\u001b[49m\u001b[43m \u001b[49m\u001b[38;5;241;43m*\u001b[39;49m\u001b[38;5;241;43m*\u001b[39;49m\u001b[43mkwargs\u001b[49m\u001b[43m)\u001b[49m\n",
      "File \u001b[0;32m~/anaconda3/envs/data_mining/lib/python3.11/site-packages/requests/api.py:59\u001b[0m, in \u001b[0;36mrequest\u001b[0;34m(method, url, **kwargs)\u001b[0m\n\u001b[1;32m     55\u001b[0m \u001b[38;5;66;03m# By using the 'with' statement we are sure the session is closed, thus we\u001b[39;00m\n\u001b[1;32m     56\u001b[0m \u001b[38;5;66;03m# avoid leaving sockets open which can trigger a ResourceWarning in some\u001b[39;00m\n\u001b[1;32m     57\u001b[0m \u001b[38;5;66;03m# cases, and look like a memory leak in others.\u001b[39;00m\n\u001b[1;32m     58\u001b[0m \u001b[38;5;28;01mwith\u001b[39;00m sessions\u001b[38;5;241m.\u001b[39mSession() \u001b[38;5;28;01mas\u001b[39;00m session:\n\u001b[0;32m---> 59\u001b[0m     \u001b[38;5;28;01mreturn\u001b[39;00m \u001b[43msession\u001b[49m\u001b[38;5;241;43m.\u001b[39;49m\u001b[43mrequest\u001b[49m\u001b[43m(\u001b[49m\u001b[43mmethod\u001b[49m\u001b[38;5;241;43m=\u001b[39;49m\u001b[43mmethod\u001b[49m\u001b[43m,\u001b[49m\u001b[43m \u001b[49m\u001b[43murl\u001b[49m\u001b[38;5;241;43m=\u001b[39;49m\u001b[43murl\u001b[49m\u001b[43m,\u001b[49m\u001b[43m \u001b[49m\u001b[38;5;241;43m*\u001b[39;49m\u001b[38;5;241;43m*\u001b[39;49m\u001b[43mkwargs\u001b[49m\u001b[43m)\u001b[49m\n",
      "File \u001b[0;32m~/anaconda3/envs/data_mining/lib/python3.11/site-packages/requests/sessions.py:589\u001b[0m, in \u001b[0;36mSession.request\u001b[0;34m(self, method, url, params, data, headers, cookies, files, auth, timeout, allow_redirects, proxies, hooks, stream, verify, cert, json)\u001b[0m\n\u001b[1;32m    584\u001b[0m send_kwargs \u001b[38;5;241m=\u001b[39m {\n\u001b[1;32m    585\u001b[0m     \u001b[38;5;124m\"\u001b[39m\u001b[38;5;124mtimeout\u001b[39m\u001b[38;5;124m\"\u001b[39m: timeout,\n\u001b[1;32m    586\u001b[0m     \u001b[38;5;124m\"\u001b[39m\u001b[38;5;124mallow_redirects\u001b[39m\u001b[38;5;124m\"\u001b[39m: allow_redirects,\n\u001b[1;32m    587\u001b[0m }\n\u001b[1;32m    588\u001b[0m send_kwargs\u001b[38;5;241m.\u001b[39mupdate(settings)\n\u001b[0;32m--> 589\u001b[0m resp \u001b[38;5;241m=\u001b[39m \u001b[38;5;28;43mself\u001b[39;49m\u001b[38;5;241;43m.\u001b[39;49m\u001b[43msend\u001b[49m\u001b[43m(\u001b[49m\u001b[43mprep\u001b[49m\u001b[43m,\u001b[49m\u001b[43m \u001b[49m\u001b[38;5;241;43m*\u001b[39;49m\u001b[38;5;241;43m*\u001b[39;49m\u001b[43msend_kwargs\u001b[49m\u001b[43m)\u001b[49m\n\u001b[1;32m    591\u001b[0m \u001b[38;5;28;01mreturn\u001b[39;00m resp\n",
      "File \u001b[0;32m~/anaconda3/envs/data_mining/lib/python3.11/site-packages/requests/sessions.py:703\u001b[0m, in \u001b[0;36mSession.send\u001b[0;34m(self, request, **kwargs)\u001b[0m\n\u001b[1;32m    700\u001b[0m start \u001b[38;5;241m=\u001b[39m preferred_clock()\n\u001b[1;32m    702\u001b[0m \u001b[38;5;66;03m# Send the request\u001b[39;00m\n\u001b[0;32m--> 703\u001b[0m r \u001b[38;5;241m=\u001b[39m \u001b[43madapter\u001b[49m\u001b[38;5;241;43m.\u001b[39;49m\u001b[43msend\u001b[49m\u001b[43m(\u001b[49m\u001b[43mrequest\u001b[49m\u001b[43m,\u001b[49m\u001b[43m \u001b[49m\u001b[38;5;241;43m*\u001b[39;49m\u001b[38;5;241;43m*\u001b[39;49m\u001b[43mkwargs\u001b[49m\u001b[43m)\u001b[49m\n\u001b[1;32m    705\u001b[0m \u001b[38;5;66;03m# Total elapsed time of the request (approximately)\u001b[39;00m\n\u001b[1;32m    706\u001b[0m elapsed \u001b[38;5;241m=\u001b[39m preferred_clock() \u001b[38;5;241m-\u001b[39m start\n",
      "File \u001b[0;32m~/anaconda3/envs/data_mining/lib/python3.11/site-packages/requests/adapters.py:667\u001b[0m, in \u001b[0;36mHTTPAdapter.send\u001b[0;34m(self, request, stream, timeout, verify, cert, proxies)\u001b[0m\n\u001b[1;32m    664\u001b[0m     timeout \u001b[38;5;241m=\u001b[39m TimeoutSauce(connect\u001b[38;5;241m=\u001b[39mtimeout, read\u001b[38;5;241m=\u001b[39mtimeout)\n\u001b[1;32m    666\u001b[0m \u001b[38;5;28;01mtry\u001b[39;00m:\n\u001b[0;32m--> 667\u001b[0m     resp \u001b[38;5;241m=\u001b[39m \u001b[43mconn\u001b[49m\u001b[38;5;241;43m.\u001b[39;49m\u001b[43murlopen\u001b[49m\u001b[43m(\u001b[49m\n\u001b[1;32m    668\u001b[0m \u001b[43m        \u001b[49m\u001b[43mmethod\u001b[49m\u001b[38;5;241;43m=\u001b[39;49m\u001b[43mrequest\u001b[49m\u001b[38;5;241;43m.\u001b[39;49m\u001b[43mmethod\u001b[49m\u001b[43m,\u001b[49m\n\u001b[1;32m    669\u001b[0m \u001b[43m        \u001b[49m\u001b[43murl\u001b[49m\u001b[38;5;241;43m=\u001b[39;49m\u001b[43murl\u001b[49m\u001b[43m,\u001b[49m\n\u001b[1;32m    670\u001b[0m \u001b[43m        \u001b[49m\u001b[43mbody\u001b[49m\u001b[38;5;241;43m=\u001b[39;49m\u001b[43mrequest\u001b[49m\u001b[38;5;241;43m.\u001b[39;49m\u001b[43mbody\u001b[49m\u001b[43m,\u001b[49m\n\u001b[1;32m    671\u001b[0m \u001b[43m        \u001b[49m\u001b[43mheaders\u001b[49m\u001b[38;5;241;43m=\u001b[39;49m\u001b[43mrequest\u001b[49m\u001b[38;5;241;43m.\u001b[39;49m\u001b[43mheaders\u001b[49m\u001b[43m,\u001b[49m\n\u001b[1;32m    672\u001b[0m \u001b[43m        \u001b[49m\u001b[43mredirect\u001b[49m\u001b[38;5;241;43m=\u001b[39;49m\u001b[38;5;28;43;01mFalse\u001b[39;49;00m\u001b[43m,\u001b[49m\n\u001b[1;32m    673\u001b[0m \u001b[43m        \u001b[49m\u001b[43massert_same_host\u001b[49m\u001b[38;5;241;43m=\u001b[39;49m\u001b[38;5;28;43;01mFalse\u001b[39;49;00m\u001b[43m,\u001b[49m\n\u001b[1;32m    674\u001b[0m \u001b[43m        \u001b[49m\u001b[43mpreload_content\u001b[49m\u001b[38;5;241;43m=\u001b[39;49m\u001b[38;5;28;43;01mFalse\u001b[39;49;00m\u001b[43m,\u001b[49m\n\u001b[1;32m    675\u001b[0m \u001b[43m        \u001b[49m\u001b[43mdecode_content\u001b[49m\u001b[38;5;241;43m=\u001b[39;49m\u001b[38;5;28;43;01mFalse\u001b[39;49;00m\u001b[43m,\u001b[49m\n\u001b[1;32m    676\u001b[0m \u001b[43m        \u001b[49m\u001b[43mretries\u001b[49m\u001b[38;5;241;43m=\u001b[39;49m\u001b[38;5;28;43mself\u001b[39;49m\u001b[38;5;241;43m.\u001b[39;49m\u001b[43mmax_retries\u001b[49m\u001b[43m,\u001b[49m\n\u001b[1;32m    677\u001b[0m \u001b[43m        \u001b[49m\u001b[43mtimeout\u001b[49m\u001b[38;5;241;43m=\u001b[39;49m\u001b[43mtimeout\u001b[49m\u001b[43m,\u001b[49m\n\u001b[1;32m    678\u001b[0m \u001b[43m        \u001b[49m\u001b[43mchunked\u001b[49m\u001b[38;5;241;43m=\u001b[39;49m\u001b[43mchunked\u001b[49m\u001b[43m,\u001b[49m\n\u001b[1;32m    679\u001b[0m \u001b[43m    \u001b[49m\u001b[43m)\u001b[49m\n\u001b[1;32m    681\u001b[0m \u001b[38;5;28;01mexcept\u001b[39;00m (ProtocolError, \u001b[38;5;167;01mOSError\u001b[39;00m) \u001b[38;5;28;01mas\u001b[39;00m err:\n\u001b[1;32m    682\u001b[0m     \u001b[38;5;28;01mraise\u001b[39;00m \u001b[38;5;167;01mConnectionError\u001b[39;00m(err, request\u001b[38;5;241m=\u001b[39mrequest)\n",
      "File \u001b[0;32m~/anaconda3/envs/data_mining/lib/python3.11/site-packages/urllib3/connectionpool.py:789\u001b[0m, in \u001b[0;36mHTTPConnectionPool.urlopen\u001b[0;34m(self, method, url, body, headers, retries, redirect, assert_same_host, timeout, pool_timeout, release_conn, chunked, body_pos, preload_content, decode_content, **response_kw)\u001b[0m\n\u001b[1;32m    786\u001b[0m response_conn \u001b[38;5;241m=\u001b[39m conn \u001b[38;5;28;01mif\u001b[39;00m \u001b[38;5;129;01mnot\u001b[39;00m release_conn \u001b[38;5;28;01melse\u001b[39;00m \u001b[38;5;28;01mNone\u001b[39;00m\n\u001b[1;32m    788\u001b[0m \u001b[38;5;66;03m# Make the request on the HTTPConnection object\u001b[39;00m\n\u001b[0;32m--> 789\u001b[0m response \u001b[38;5;241m=\u001b[39m \u001b[38;5;28;43mself\u001b[39;49m\u001b[38;5;241;43m.\u001b[39;49m\u001b[43m_make_request\u001b[49m\u001b[43m(\u001b[49m\n\u001b[1;32m    790\u001b[0m \u001b[43m    \u001b[49m\u001b[43mconn\u001b[49m\u001b[43m,\u001b[49m\n\u001b[1;32m    791\u001b[0m \u001b[43m    \u001b[49m\u001b[43mmethod\u001b[49m\u001b[43m,\u001b[49m\n\u001b[1;32m    792\u001b[0m \u001b[43m    \u001b[49m\u001b[43murl\u001b[49m\u001b[43m,\u001b[49m\n\u001b[1;32m    793\u001b[0m \u001b[43m    \u001b[49m\u001b[43mtimeout\u001b[49m\u001b[38;5;241;43m=\u001b[39;49m\u001b[43mtimeout_obj\u001b[49m\u001b[43m,\u001b[49m\n\u001b[1;32m    794\u001b[0m \u001b[43m    \u001b[49m\u001b[43mbody\u001b[49m\u001b[38;5;241;43m=\u001b[39;49m\u001b[43mbody\u001b[49m\u001b[43m,\u001b[49m\n\u001b[1;32m    795\u001b[0m \u001b[43m    \u001b[49m\u001b[43mheaders\u001b[49m\u001b[38;5;241;43m=\u001b[39;49m\u001b[43mheaders\u001b[49m\u001b[43m,\u001b[49m\n\u001b[1;32m    796\u001b[0m \u001b[43m    \u001b[49m\u001b[43mchunked\u001b[49m\u001b[38;5;241;43m=\u001b[39;49m\u001b[43mchunked\u001b[49m\u001b[43m,\u001b[49m\n\u001b[1;32m    797\u001b[0m \u001b[43m    \u001b[49m\u001b[43mretries\u001b[49m\u001b[38;5;241;43m=\u001b[39;49m\u001b[43mretries\u001b[49m\u001b[43m,\u001b[49m\n\u001b[1;32m    798\u001b[0m \u001b[43m    \u001b[49m\u001b[43mresponse_conn\u001b[49m\u001b[38;5;241;43m=\u001b[39;49m\u001b[43mresponse_conn\u001b[49m\u001b[43m,\u001b[49m\n\u001b[1;32m    799\u001b[0m \u001b[43m    \u001b[49m\u001b[43mpreload_content\u001b[49m\u001b[38;5;241;43m=\u001b[39;49m\u001b[43mpreload_content\u001b[49m\u001b[43m,\u001b[49m\n\u001b[1;32m    800\u001b[0m \u001b[43m    \u001b[49m\u001b[43mdecode_content\u001b[49m\u001b[38;5;241;43m=\u001b[39;49m\u001b[43mdecode_content\u001b[49m\u001b[43m,\u001b[49m\n\u001b[1;32m    801\u001b[0m \u001b[43m    \u001b[49m\u001b[38;5;241;43m*\u001b[39;49m\u001b[38;5;241;43m*\u001b[39;49m\u001b[43mresponse_kw\u001b[49m\u001b[43m,\u001b[49m\n\u001b[1;32m    802\u001b[0m \u001b[43m\u001b[49m\u001b[43m)\u001b[49m\n\u001b[1;32m    804\u001b[0m \u001b[38;5;66;03m# Everything went great!\u001b[39;00m\n\u001b[1;32m    805\u001b[0m clean_exit \u001b[38;5;241m=\u001b[39m \u001b[38;5;28;01mTrue\u001b[39;00m\n",
      "File \u001b[0;32m~/anaconda3/envs/data_mining/lib/python3.11/site-packages/urllib3/connectionpool.py:466\u001b[0m, in \u001b[0;36mHTTPConnectionPool._make_request\u001b[0;34m(self, conn, method, url, body, headers, retries, timeout, chunked, response_conn, preload_content, decode_content, enforce_content_length)\u001b[0m\n\u001b[1;32m    463\u001b[0m \u001b[38;5;28;01mtry\u001b[39;00m:\n\u001b[1;32m    464\u001b[0m     \u001b[38;5;66;03m# Trigger any extra validation we need to do.\u001b[39;00m\n\u001b[1;32m    465\u001b[0m     \u001b[38;5;28;01mtry\u001b[39;00m:\n\u001b[0;32m--> 466\u001b[0m         \u001b[38;5;28;43mself\u001b[39;49m\u001b[38;5;241;43m.\u001b[39;49m\u001b[43m_validate_conn\u001b[49m\u001b[43m(\u001b[49m\u001b[43mconn\u001b[49m\u001b[43m)\u001b[49m\n\u001b[1;32m    467\u001b[0m     \u001b[38;5;28;01mexcept\u001b[39;00m (SocketTimeout, BaseSSLError) \u001b[38;5;28;01mas\u001b[39;00m e:\n\u001b[1;32m    468\u001b[0m         \u001b[38;5;28mself\u001b[39m\u001b[38;5;241m.\u001b[39m_raise_timeout(err\u001b[38;5;241m=\u001b[39me, url\u001b[38;5;241m=\u001b[39murl, timeout_value\u001b[38;5;241m=\u001b[39mconn\u001b[38;5;241m.\u001b[39mtimeout)\n",
      "File \u001b[0;32m~/anaconda3/envs/data_mining/lib/python3.11/site-packages/urllib3/connectionpool.py:1095\u001b[0m, in \u001b[0;36mHTTPSConnectionPool._validate_conn\u001b[0;34m(self, conn)\u001b[0m\n\u001b[1;32m   1093\u001b[0m \u001b[38;5;66;03m# Force connect early to allow us to validate the connection.\u001b[39;00m\n\u001b[1;32m   1094\u001b[0m \u001b[38;5;28;01mif\u001b[39;00m conn\u001b[38;5;241m.\u001b[39mis_closed:\n\u001b[0;32m-> 1095\u001b[0m     \u001b[43mconn\u001b[49m\u001b[38;5;241;43m.\u001b[39;49m\u001b[43mconnect\u001b[49m\u001b[43m(\u001b[49m\u001b[43m)\u001b[49m\n\u001b[1;32m   1097\u001b[0m \u001b[38;5;66;03m# TODO revise this, see https://github.com/urllib3/urllib3/issues/2791\u001b[39;00m\n\u001b[1;32m   1098\u001b[0m \u001b[38;5;28;01mif\u001b[39;00m \u001b[38;5;129;01mnot\u001b[39;00m conn\u001b[38;5;241m.\u001b[39mis_verified \u001b[38;5;129;01mand\u001b[39;00m \u001b[38;5;129;01mnot\u001b[39;00m conn\u001b[38;5;241m.\u001b[39mproxy_is_verified:\n",
      "File \u001b[0;32m~/anaconda3/envs/data_mining/lib/python3.11/site-packages/urllib3/connection.py:693\u001b[0m, in \u001b[0;36mHTTPSConnection.connect\u001b[0;34m(self)\u001b[0m\n\u001b[1;32m    691\u001b[0m \u001b[38;5;28;01mtry\u001b[39;00m:\n\u001b[1;32m    692\u001b[0m     sock: socket\u001b[38;5;241m.\u001b[39msocket \u001b[38;5;241m|\u001b[39m ssl\u001b[38;5;241m.\u001b[39mSSLSocket\n\u001b[0;32m--> 693\u001b[0m     \u001b[38;5;28mself\u001b[39m\u001b[38;5;241m.\u001b[39msock \u001b[38;5;241m=\u001b[39m sock \u001b[38;5;241m=\u001b[39m \u001b[38;5;28;43mself\u001b[39;49m\u001b[38;5;241;43m.\u001b[39;49m\u001b[43m_new_conn\u001b[49m\u001b[43m(\u001b[49m\u001b[43m)\u001b[49m\n\u001b[1;32m    694\u001b[0m     server_hostname: \u001b[38;5;28mstr\u001b[39m \u001b[38;5;241m=\u001b[39m \u001b[38;5;28mself\u001b[39m\u001b[38;5;241m.\u001b[39mhost\n\u001b[1;32m    695\u001b[0m     tls_in_tls \u001b[38;5;241m=\u001b[39m \u001b[38;5;28;01mFalse\u001b[39;00m\n",
      "File \u001b[0;32m~/anaconda3/envs/data_mining/lib/python3.11/site-packages/urllib3/connection.py:199\u001b[0m, in \u001b[0;36mHTTPConnection._new_conn\u001b[0;34m(self)\u001b[0m\n\u001b[1;32m    194\u001b[0m \u001b[38;5;250m\u001b[39m\u001b[38;5;124;03m\"\"\"Establish a socket connection and set nodelay settings on it.\u001b[39;00m\n\u001b[1;32m    195\u001b[0m \n\u001b[1;32m    196\u001b[0m \u001b[38;5;124;03m:return: New socket connection.\u001b[39;00m\n\u001b[1;32m    197\u001b[0m \u001b[38;5;124;03m\"\"\"\u001b[39;00m\n\u001b[1;32m    198\u001b[0m \u001b[38;5;28;01mtry\u001b[39;00m:\n\u001b[0;32m--> 199\u001b[0m     sock \u001b[38;5;241m=\u001b[39m \u001b[43mconnection\u001b[49m\u001b[38;5;241;43m.\u001b[39;49m\u001b[43mcreate_connection\u001b[49m\u001b[43m(\u001b[49m\n\u001b[1;32m    200\u001b[0m \u001b[43m        \u001b[49m\u001b[43m(\u001b[49m\u001b[38;5;28;43mself\u001b[39;49m\u001b[38;5;241;43m.\u001b[39;49m\u001b[43m_dns_host\u001b[49m\u001b[43m,\u001b[49m\u001b[43m \u001b[49m\u001b[38;5;28;43mself\u001b[39;49m\u001b[38;5;241;43m.\u001b[39;49m\u001b[43mport\u001b[49m\u001b[43m)\u001b[49m\u001b[43m,\u001b[49m\n\u001b[1;32m    201\u001b[0m \u001b[43m        \u001b[49m\u001b[38;5;28;43mself\u001b[39;49m\u001b[38;5;241;43m.\u001b[39;49m\u001b[43mtimeout\u001b[49m\u001b[43m,\u001b[49m\n\u001b[1;32m    202\u001b[0m \u001b[43m        \u001b[49m\u001b[43msource_address\u001b[49m\u001b[38;5;241;43m=\u001b[39;49m\u001b[38;5;28;43mself\u001b[39;49m\u001b[38;5;241;43m.\u001b[39;49m\u001b[43msource_address\u001b[49m\u001b[43m,\u001b[49m\n\u001b[1;32m    203\u001b[0m \u001b[43m        \u001b[49m\u001b[43msocket_options\u001b[49m\u001b[38;5;241;43m=\u001b[39;49m\u001b[38;5;28;43mself\u001b[39;49m\u001b[38;5;241;43m.\u001b[39;49m\u001b[43msocket_options\u001b[49m\u001b[43m,\u001b[49m\n\u001b[1;32m    204\u001b[0m \u001b[43m    \u001b[49m\u001b[43m)\u001b[49m\n\u001b[1;32m    205\u001b[0m \u001b[38;5;28;01mexcept\u001b[39;00m socket\u001b[38;5;241m.\u001b[39mgaierror \u001b[38;5;28;01mas\u001b[39;00m e:\n\u001b[1;32m    206\u001b[0m     \u001b[38;5;28;01mraise\u001b[39;00m NameResolutionError(\u001b[38;5;28mself\u001b[39m\u001b[38;5;241m.\u001b[39mhost, \u001b[38;5;28mself\u001b[39m, e) \u001b[38;5;28;01mfrom\u001b[39;00m \u001b[38;5;21;01me\u001b[39;00m\n",
      "File \u001b[0;32m~/anaconda3/envs/data_mining/lib/python3.11/site-packages/urllib3/util/connection.py:73\u001b[0m, in \u001b[0;36mcreate_connection\u001b[0;34m(address, timeout, source_address, socket_options)\u001b[0m\n\u001b[1;32m     71\u001b[0m \u001b[38;5;28;01mif\u001b[39;00m source_address:\n\u001b[1;32m     72\u001b[0m     sock\u001b[38;5;241m.\u001b[39mbind(source_address)\n\u001b[0;32m---> 73\u001b[0m \u001b[43msock\u001b[49m\u001b[38;5;241;43m.\u001b[39;49m\u001b[43mconnect\u001b[49m\u001b[43m(\u001b[49m\u001b[43msa\u001b[49m\u001b[43m)\u001b[49m\n\u001b[1;32m     74\u001b[0m \u001b[38;5;66;03m# Break explicitly a reference cycle\u001b[39;00m\n\u001b[1;32m     75\u001b[0m err \u001b[38;5;241m=\u001b[39m \u001b[38;5;28;01mNone\u001b[39;00m\n",
      "\u001b[0;31mKeyboardInterrupt\u001b[0m: "
     ]
    }
   ],
   "source": [
    "from ydata_profiling import ProfileReport\n",
    "\n",
    "# Assuming you have a pandas dataframe called train_ride_df\n",
    "profile = ProfileReport(train_ride_df, title=\"Train Ride Data Report\", explorative=True)\n",
    "\n",
    "# To save the report as an HTML file\n",
    "profile.to_file(\"../train_ride_report.html\")"
   ]
  },
  {
   "cell_type": "code",
   "execution_count": null,
   "id": "9131b3b81e74d53f",
   "metadata": {
    "ExecuteTime": {
     "end_time": "2024-11-21T09:21:58.442161Z",
     "start_time": "2024-11-21T09:21:58.431192Z"
    }
   },
   "outputs": [
    {
     "data": {
      "text/html": [
       "<div>\n",
       "<style scoped>\n",
       "    .dataframe tbody tr th:only-of-type {\n",
       "        vertical-align: middle;\n",
       "    }\n",
       "\n",
       "    .dataframe tbody tr th {\n",
       "        vertical-align: top;\n",
       "    }\n",
       "\n",
       "    .dataframe thead th {\n",
       "        text-align: right;\n",
       "    }\n",
       "</style>\n",
       "<table border=\"1\" class=\"dataframe\">\n",
       "  <thead>\n",
       "    <tr style=\"text-align: right;\">\n",
       "      <th></th>\n",
       "      <th>ID_Base</th>\n",
       "      <th>ID_Timestamp</th>\n",
       "      <th>stop_number</th>\n",
       "      <th>IBNR</th>\n",
       "      <th>long</th>\n",
       "      <th>lat</th>\n",
       "      <th>arrival_plan</th>\n",
       "      <th>departure_plan</th>\n",
       "      <th>arrival_delay_m</th>\n",
       "      <th>transformed_info_message</th>\n",
       "      <th>prev_arrival_delay_m</th>\n",
       "      <th>prev_departure_delay_m</th>\n",
       "      <th>weighted_avg_prev_delay</th>\n",
       "      <th>max_station_number</th>\n",
       "      <th>station_progress</th>\n",
       "    </tr>\n",
       "  </thead>\n",
       "  <tbody>\n",
       "    <tr>\n",
       "      <th>0</th>\n",
       "      <td>-1001326572688500578</td>\n",
       "      <td>2407082041</td>\n",
       "      <td>2</td>\n",
       "      <td>8011118.0</td>\n",
       "      <td>13.375988</td>\n",
       "      <td>52.509379</td>\n",
       "      <td>2024-07-08 20:44:00</td>\n",
       "      <td>2024-07-08 20:45:00</td>\n",
       "      <td>0.0</td>\n",
       "      <td>No message</td>\n",
       "      <td>0.0</td>\n",
       "      <td>0.0</td>\n",
       "      <td>0.000000</td>\n",
       "      <td>7</td>\n",
       "      <td>0.285714</td>\n",
       "    </tr>\n",
       "    <tr>\n",
       "      <th>1</th>\n",
       "      <td>-1001326572688500578</td>\n",
       "      <td>2407082041</td>\n",
       "      <td>3</td>\n",
       "      <td>8011160.0</td>\n",
       "      <td>9.095851</td>\n",
       "      <td>48.849792</td>\n",
       "      <td>NaT</td>\n",
       "      <td>NaT</td>\n",
       "      <td>NaN</td>\n",
       "      <td>No message</td>\n",
       "      <td>0.0</td>\n",
       "      <td>0.0</td>\n",
       "      <td>0.000000</td>\n",
       "      <td>7</td>\n",
       "      <td>0.428571</td>\n",
       "    </tr>\n",
       "    <tr>\n",
       "      <th>2</th>\n",
       "      <td>-1001326572688500578</td>\n",
       "      <td>2407082041</td>\n",
       "      <td>4</td>\n",
       "      <td>8011167.0</td>\n",
       "      <td>13.299437</td>\n",
       "      <td>52.530276</td>\n",
       "      <td>2024-07-08 20:55:00</td>\n",
       "      <td>2024-07-08 20:56:00</td>\n",
       "      <td>0.0</td>\n",
       "      <td>No message</td>\n",
       "      <td>0.0</td>\n",
       "      <td>0.0</td>\n",
       "      <td>0.000000</td>\n",
       "      <td>7</td>\n",
       "      <td>0.571429</td>\n",
       "    </tr>\n",
       "    <tr>\n",
       "      <th>3</th>\n",
       "      <td>-1001326572688500578</td>\n",
       "      <td>2407082041</td>\n",
       "      <td>5</td>\n",
       "      <td>8010404.0</td>\n",
       "      <td>13.196898</td>\n",
       "      <td>52.534648</td>\n",
       "      <td>2024-07-08 21:00:00</td>\n",
       "      <td>2024-07-08 21:03:00</td>\n",
       "      <td>2.0</td>\n",
       "      <td>No message</td>\n",
       "      <td>0.0</td>\n",
       "      <td>0.0</td>\n",
       "      <td>0.000000</td>\n",
       "      <td>7</td>\n",
       "      <td>0.714286</td>\n",
       "    </tr>\n",
       "    <tr>\n",
       "      <th>4</th>\n",
       "      <td>-1001326572688500578</td>\n",
       "      <td>2407082041</td>\n",
       "      <td>6</td>\n",
       "      <td>8080040.0</td>\n",
       "      <td>13.128917</td>\n",
       "      <td>52.549396</td>\n",
       "      <td>2024-07-08 21:06:00</td>\n",
       "      <td>2024-07-08 21:07:00</td>\n",
       "      <td>1.0</td>\n",
       "      <td>No message</td>\n",
       "      <td>2.0</td>\n",
       "      <td>0.0</td>\n",
       "      <td>0.666667</td>\n",
       "      <td>7</td>\n",
       "      <td>0.857143</td>\n",
       "    </tr>\n",
       "  </tbody>\n",
       "</table>\n",
       "</div>"
      ],
      "text/plain": [
       "                ID_Base ID_Timestamp stop_number       IBNR       long  \\\n",
       "0  -1001326572688500578   2407082041           2  8011118.0  13.375988   \n",
       "1  -1001326572688500578   2407082041           3  8011160.0   9.095851   \n",
       "2  -1001326572688500578   2407082041           4  8011167.0  13.299437   \n",
       "3  -1001326572688500578   2407082041           5  8010404.0  13.196898   \n",
       "4  -1001326572688500578   2407082041           6  8080040.0  13.128917   \n",
       "\n",
       "         lat        arrival_plan      departure_plan  arrival_delay_m  \\\n",
       "0  52.509379 2024-07-08 20:44:00 2024-07-08 20:45:00              0.0   \n",
       "1  48.849792                 NaT                 NaT              NaN   \n",
       "2  52.530276 2024-07-08 20:55:00 2024-07-08 20:56:00              0.0   \n",
       "3  52.534648 2024-07-08 21:00:00 2024-07-08 21:03:00              2.0   \n",
       "4  52.549396 2024-07-08 21:06:00 2024-07-08 21:07:00              1.0   \n",
       "\n",
       "  transformed_info_message  prev_arrival_delay_m  prev_departure_delay_m  \\\n",
       "0               No message                   0.0                     0.0   \n",
       "1               No message                   0.0                     0.0   \n",
       "2               No message                   0.0                     0.0   \n",
       "3               No message                   0.0                     0.0   \n",
       "4               No message                   2.0                     0.0   \n",
       "\n",
       "   weighted_avg_prev_delay  max_station_number  station_progress  \n",
       "0                 0.000000                   7          0.285714  \n",
       "1                 0.000000                   7          0.428571  \n",
       "2                 0.000000                   7          0.571429  \n",
       "3                 0.000000                   7          0.714286  \n",
       "4                 0.666667                   7          0.857143  "
      ]
     },
     "execution_count": 16,
     "metadata": {},
     "output_type": "execute_result"
    }
   ],
   "source": [
    "train_ride_df.head()"
   ]
  },
  {
   "cell_type": "code",
   "execution_count": null,
   "id": "b28296b76f02e92f",
   "metadata": {
    "ExecuteTime": {
     "end_time": "2024-11-21T09:42:46.725282Z",
     "start_time": "2024-11-21T09:42:12.011878Z"
    }
   },
   "outputs": [],
   "source": [
    "import dtale\n",
    "\n",
    "# Start the D-Tale interface\n",
    "d = dtale.show(train_ride_df)\n",
    "d.open_browser()"
   ]
  }
 ],
 "metadata": {
  "kernelspec": {
   "display_name": "data_mining",
   "language": "python",
   "name": "python3"
  },
  "language_info": {
   "codemirror_mode": {
    "name": "ipython",
    "version": 3
   },
   "file_extension": ".py",
   "mimetype": "text/x-python",
   "name": "python",
   "nbconvert_exporter": "python",
   "pygments_lexer": "ipython3",
   "version": "3.11.10"
  }
 },
 "nbformat": 4,
 "nbformat_minor": 5
}
