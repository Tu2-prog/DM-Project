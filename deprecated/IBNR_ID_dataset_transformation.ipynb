{
 "cells": [
  {
   "cell_type": "code",
   "execution_count": null,
   "id": "6a7cd3c4bbf35a40",
   "metadata": {
    "collapsed": true
   },
   "outputs": [],
   "source": "import csv"
  },
  {
   "metadata": {},
   "cell_type": "code",
   "outputs": [],
   "execution_count": null,
   "source": [
    "# Define file paths for input and output\n",
    "input_file_path = 'deutschland_nr.csv'  # Replace with the actual file path if needed\n",
    "output_file_path = 'ibnr_stations_index.csv'"
   ],
   "id": "a47c2f8bf9d59685"
  },
  {
   "metadata": {},
   "cell_type": "code",
   "outputs": [],
   "execution_count": null,
   "source": [
    "# Open and read from the uploaded file\n",
    "with open(input_file_path, 'r', encoding='latin1') as infile:\n",
    "    lines = infile.readlines()"
   ],
   "id": "e42ec14e44de8317"
  },
  {
   "metadata": {},
   "cell_type": "code",
   "outputs": [],
   "execution_count": null,
   "source": [
    "# Open the output CSV file\n",
    "with open(output_file_path, 'w', newline='', encoding='utf-8') as outfile:\n",
    "    writer = csv.writer(outfile)\n",
    "    writer.writerow(['IBNR', 'Station Name'])  # Write header\n",
    "\n",
    "    # Process each line\n",
    "    for line in lines:\n",
    "        # Strip extra whitespace\n",
    "        line = line.strip()\n",
    "        \n",
    "        # Split by semicolon to separate IBNR and names\n",
    "        parts = line.split(';')\n",
    "        ibnr_number = parts[0]  # The first element is IBNR\n",
    "        \n",
    "        # Process all station names if they exist, skip if empty\n",
    "        station_names = [name for name in parts[1:] if name]\n",
    "        \n",
    "        # Write each station name with the same IBNR in the CSV\n",
    "        for station_name in station_names:\n",
    "            writer.writerow([ibnr_number, station_name])\n",
    "\n",
    "print(\"Data successfully cleaned and saved to 'ibnr_stations_index.csv'\")"
   ],
   "id": "initial_id"
  }
 ],
 "metadata": {
  "kernelspec": {
   "display_name": "Python 3",
   "language": "python",
   "name": "python3"
  },
  "language_info": {
   "codemirror_mode": {
    "name": "ipython",
    "version": 2
   },
   "file_extension": ".py",
   "mimetype": "text/x-python",
   "name": "python",
   "nbconvert_exporter": "python",
   "pygments_lexer": "ipython2",
   "version": "2.7.6"
  }
 },
 "nbformat": 4,
 "nbformat_minor": 5
}
