{
 "cells": [
  {
   "cell_type": "code",
   "id": "initial_id",
   "metadata": {
    "collapsed": true,
    "ExecuteTime": {
     "end_time": "2024-11-21T09:19:37.782360Z",
     "start_time": "2024-11-21T09:19:37.778888Z"
    }
   },
   "source": "import pandas as pd",
   "outputs": [],
   "execution_count": 5
  },
  {
   "metadata": {
    "ExecuteTime": {
     "end_time": "2024-11-21T09:19:40.095473Z",
     "start_time": "2024-11-21T09:19:37.783367Z"
    }
   },
   "cell_type": "code",
   "source": [
    "# Load the data\n",
    "train_ride_df = pd.read_csv('./DBtrainrides_final_result.csv')"
   ],
   "id": "570612d1da6ec6a1",
   "outputs": [],
   "execution_count": 6
  },
  {
   "metadata": {
    "ExecuteTime": {
     "end_time": "2024-11-21T09:19:40.103925Z",
     "start_time": "2024-11-21T09:19:40.095473Z"
    }
   },
   "cell_type": "code",
   "source": "train_ride_df.head()",
   "id": "236644bea207af1c",
   "outputs": [
    {
     "data": {
      "text/plain": [
       "               ID_Base  ID_Timestamp  stop_number       IBNR       long  \\\n",
       "0 -1001326572688500578    2407082041            2  8011118.0  13.375988   \n",
       "1 -1001326572688500578    2407082041            3  8011160.0   9.095851   \n",
       "2 -1001326572688500578    2407082041            4  8011167.0  13.299437   \n",
       "3 -1001326572688500578    2407082041            5  8010404.0  13.196898   \n",
       "4 -1001326572688500578    2407082041            6  8080040.0  13.128917   \n",
       "\n",
       "         lat         arrival_plan       departure_plan  arrival_delay_m  \\\n",
       "0  52.509379  2024-07-08 20:44:00  2024-07-08 20:45:00              0.0   \n",
       "1  48.849792                  NaN                  NaN              NaN   \n",
       "2  52.530276  2024-07-08 20:55:00  2024-07-08 20:56:00              0.0   \n",
       "3  52.534648  2024-07-08 21:00:00  2024-07-08 21:03:00              2.0   \n",
       "4  52.549396  2024-07-08 21:06:00  2024-07-08 21:07:00              1.0   \n",
       "\n",
       "  transformed_info_message  prev_arrival_delay_m  prev_departure_delay_m  \\\n",
       "0               No message                   0.0                     0.0   \n",
       "1               No message                   0.0                     0.0   \n",
       "2               No message                   0.0                     0.0   \n",
       "3               No message                   0.0                     0.0   \n",
       "4               No message                   2.0                     0.0   \n",
       "\n",
       "   weighted_avg_prev_delay  max_station_number  station_progress  \n",
       "0                 0.000000                   7          0.285714  \n",
       "1                 0.000000                   7          0.428571  \n",
       "2                 0.000000                   7          0.571429  \n",
       "3                 0.000000                   7          0.714286  \n",
       "4                 0.666667                   7          0.857143  "
      ],
      "text/html": [
       "<div>\n",
       "<style scoped>\n",
       "    .dataframe tbody tr th:only-of-type {\n",
       "        vertical-align: middle;\n",
       "    }\n",
       "\n",
       "    .dataframe tbody tr th {\n",
       "        vertical-align: top;\n",
       "    }\n",
       "\n",
       "    .dataframe thead th {\n",
       "        text-align: right;\n",
       "    }\n",
       "</style>\n",
       "<table border=\"1\" class=\"dataframe\">\n",
       "  <thead>\n",
       "    <tr style=\"text-align: right;\">\n",
       "      <th></th>\n",
       "      <th>ID_Base</th>\n",
       "      <th>ID_Timestamp</th>\n",
       "      <th>stop_number</th>\n",
       "      <th>IBNR</th>\n",
       "      <th>long</th>\n",
       "      <th>lat</th>\n",
       "      <th>arrival_plan</th>\n",
       "      <th>departure_plan</th>\n",
       "      <th>arrival_delay_m</th>\n",
       "      <th>transformed_info_message</th>\n",
       "      <th>prev_arrival_delay_m</th>\n",
       "      <th>prev_departure_delay_m</th>\n",
       "      <th>weighted_avg_prev_delay</th>\n",
       "      <th>max_station_number</th>\n",
       "      <th>station_progress</th>\n",
       "    </tr>\n",
       "  </thead>\n",
       "  <tbody>\n",
       "    <tr>\n",
       "      <th>0</th>\n",
       "      <td>-1001326572688500578</td>\n",
       "      <td>2407082041</td>\n",
       "      <td>2</td>\n",
       "      <td>8011118.0</td>\n",
       "      <td>13.375988</td>\n",
       "      <td>52.509379</td>\n",
       "      <td>2024-07-08 20:44:00</td>\n",
       "      <td>2024-07-08 20:45:00</td>\n",
       "      <td>0.0</td>\n",
       "      <td>No message</td>\n",
       "      <td>0.0</td>\n",
       "      <td>0.0</td>\n",
       "      <td>0.000000</td>\n",
       "      <td>7</td>\n",
       "      <td>0.285714</td>\n",
       "    </tr>\n",
       "    <tr>\n",
       "      <th>1</th>\n",
       "      <td>-1001326572688500578</td>\n",
       "      <td>2407082041</td>\n",
       "      <td>3</td>\n",
       "      <td>8011160.0</td>\n",
       "      <td>9.095851</td>\n",
       "      <td>48.849792</td>\n",
       "      <td>NaN</td>\n",
       "      <td>NaN</td>\n",
       "      <td>NaN</td>\n",
       "      <td>No message</td>\n",
       "      <td>0.0</td>\n",
       "      <td>0.0</td>\n",
       "      <td>0.000000</td>\n",
       "      <td>7</td>\n",
       "      <td>0.428571</td>\n",
       "    </tr>\n",
       "    <tr>\n",
       "      <th>2</th>\n",
       "      <td>-1001326572688500578</td>\n",
       "      <td>2407082041</td>\n",
       "      <td>4</td>\n",
       "      <td>8011167.0</td>\n",
       "      <td>13.299437</td>\n",
       "      <td>52.530276</td>\n",
       "      <td>2024-07-08 20:55:00</td>\n",
       "      <td>2024-07-08 20:56:00</td>\n",
       "      <td>0.0</td>\n",
       "      <td>No message</td>\n",
       "      <td>0.0</td>\n",
       "      <td>0.0</td>\n",
       "      <td>0.000000</td>\n",
       "      <td>7</td>\n",
       "      <td>0.571429</td>\n",
       "    </tr>\n",
       "    <tr>\n",
       "      <th>3</th>\n",
       "      <td>-1001326572688500578</td>\n",
       "      <td>2407082041</td>\n",
       "      <td>5</td>\n",
       "      <td>8010404.0</td>\n",
       "      <td>13.196898</td>\n",
       "      <td>52.534648</td>\n",
       "      <td>2024-07-08 21:00:00</td>\n",
       "      <td>2024-07-08 21:03:00</td>\n",
       "      <td>2.0</td>\n",
       "      <td>No message</td>\n",
       "      <td>0.0</td>\n",
       "      <td>0.0</td>\n",
       "      <td>0.000000</td>\n",
       "      <td>7</td>\n",
       "      <td>0.714286</td>\n",
       "    </tr>\n",
       "    <tr>\n",
       "      <th>4</th>\n",
       "      <td>-1001326572688500578</td>\n",
       "      <td>2407082041</td>\n",
       "      <td>6</td>\n",
       "      <td>8080040.0</td>\n",
       "      <td>13.128917</td>\n",
       "      <td>52.549396</td>\n",
       "      <td>2024-07-08 21:06:00</td>\n",
       "      <td>2024-07-08 21:07:00</td>\n",
       "      <td>1.0</td>\n",
       "      <td>No message</td>\n",
       "      <td>2.0</td>\n",
       "      <td>0.0</td>\n",
       "      <td>0.666667</td>\n",
       "      <td>7</td>\n",
       "      <td>0.857143</td>\n",
       "    </tr>\n",
       "  </tbody>\n",
       "</table>\n",
       "</div>"
      ]
     },
     "execution_count": 7,
     "metadata": {},
     "output_type": "execute_result"
    }
   ],
   "execution_count": 7
  },
  {
   "metadata": {
    "ExecuteTime": {
     "end_time": "2024-11-21T09:19:40.286969Z",
     "start_time": "2024-11-21T09:19:40.104931Z"
    }
   },
   "cell_type": "code",
   "source": "train_ride_df.count()",
   "id": "5baa0759d41339eb",
   "outputs": [
    {
     "data": {
      "text/plain": [
       "ID_Base                     2430251\n",
       "ID_Timestamp                2430251\n",
       "stop_number                 2430251\n",
       "IBNR                        2309163\n",
       "long                        2430251\n",
       "lat                         2430251\n",
       "arrival_plan                1598621\n",
       "departure_plan              1598621\n",
       "arrival_delay_m             1598621\n",
       "transformed_info_message    2430251\n",
       "prev_arrival_delay_m        2430251\n",
       "prev_departure_delay_m      2430251\n",
       "weighted_avg_prev_delay     2430251\n",
       "max_station_number          2430251\n",
       "station_progress            2430251\n",
       "dtype: int64"
      ]
     },
     "execution_count": 8,
     "metadata": {},
     "output_type": "execute_result"
    }
   ],
   "execution_count": 8
  },
  {
   "metadata": {
    "ExecuteTime": {
     "end_time": "2024-11-21T09:19:40.292237Z",
     "start_time": "2024-11-21T09:19:40.286969Z"
    }
   },
   "cell_type": "code",
   "source": "train_ride_df.info()",
   "id": "fca9b2ee8f23fdae",
   "outputs": [
    {
     "name": "stdout",
     "output_type": "stream",
     "text": [
      "<class 'pandas.core.frame.DataFrame'>\n",
      "RangeIndex: 2430251 entries, 0 to 2430250\n",
      "Data columns (total 15 columns):\n",
      " #   Column                    Dtype  \n",
      "---  ------                    -----  \n",
      " 0   ID_Base                   int64  \n",
      " 1   ID_Timestamp              int64  \n",
      " 2   stop_number               int64  \n",
      " 3   IBNR                      float64\n",
      " 4   long                      float64\n",
      " 5   lat                       float64\n",
      " 6   arrival_plan              object \n",
      " 7   departure_plan            object \n",
      " 8   arrival_delay_m           float64\n",
      " 9   transformed_info_message  object \n",
      " 10  prev_arrival_delay_m      float64\n",
      " 11  prev_departure_delay_m    float64\n",
      " 12  weighted_avg_prev_delay   float64\n",
      " 13  max_station_number        int64  \n",
      " 14  station_progress          float64\n",
      "dtypes: float64(8), int64(4), object(3)\n",
      "memory usage: 278.1+ MB\n"
     ]
    }
   ],
   "execution_count": 9
  },
  {
   "metadata": {
    "ExecuteTime": {
     "end_time": "2024-11-21T09:19:41.068273Z",
     "start_time": "2024-11-21T09:19:40.292237Z"
    }
   },
   "cell_type": "code",
   "source": [
    "# Define column groups\n",
    "id_columns = ['ID_Base', 'ID_Timestamp', 'stop_number', 'IBNR']  # Removed 'starting_station_IBNR' and 'zip' as they are not present in the DataFrame\n",
    "float_columns = [\n",
    "    'long', 'lat', 'arrival_delay_m', 'prev_arrival_delay_m', \n",
    "    'prev_departure_delay_m', 'weighted_avg_prev_delay', 'station_progress'\n",
    "]  # Removed 'cumulative_delay', 'delay_gain', etc., as they are not present\n",
    "datetime_columns = ['arrival_plan', 'departure_plan']  # 'arrival_time' and 'departure_time' are missing\n",
    "categorical_columns = [\n",
    "    'transformed_info_message'  # Removed 'clear_station_name', 'origin_departure_plan', etc., as they are missing\n",
    "]\n",
    "\n",
    "# Identify columns that are present in the dataframe\n",
    "existing_id_columns = [col for col in id_columns if col in train_ride_df.columns]\n",
    "existing_float_columns = [col for col in float_columns if col in train_ride_df.columns]\n",
    "existing_datetime_columns = [col for col in datetime_columns if col in train_ride_df.columns]\n",
    "existing_categorical_columns = [col for col in categorical_columns if col in train_ride_df.columns]\n",
    "\n",
    "# Convert columns to appropriate data types based on logical assumptions\n",
    "\n",
    "# Convert ID columns and station-related columns to object (not int64)\n",
    "train_ride_df[existing_id_columns] = train_ride_df[existing_id_columns].astype('object')\n",
    "\n",
    "# Convert geospatial and delay-related columns to float64\n",
    "train_ride_df[existing_float_columns] = train_ride_df[existing_float_columns].astype('float64')\n",
    "\n",
    "# Convert datetime columns to datetime type\n",
    "train_ride_df[existing_datetime_columns] = train_ride_df[existing_datetime_columns].apply(pd.to_datetime)\n",
    "\n",
    "# Convert categorical columns to object type\n",
    "train_ride_df[existing_categorical_columns] = train_ride_df[existing_categorical_columns].astype('object')\n",
    "\n",
    "# Check the data types after conversion\n",
    "train_ride_df.dtypes"
   ],
   "id": "a0571f04e1a69ff0",
   "outputs": [
    {
     "data": {
      "text/plain": [
       "ID_Base                             object\n",
       "ID_Timestamp                        object\n",
       "stop_number                         object\n",
       "IBNR                                object\n",
       "long                               float64\n",
       "lat                                float64\n",
       "arrival_plan                datetime64[ns]\n",
       "departure_plan              datetime64[ns]\n",
       "arrival_delay_m                    float64\n",
       "transformed_info_message            object\n",
       "prev_arrival_delay_m               float64\n",
       "prev_departure_delay_m             float64\n",
       "weighted_avg_prev_delay            float64\n",
       "max_station_number                   int64\n",
       "station_progress                   float64\n",
       "dtype: object"
      ]
     },
     "execution_count": 10,
     "metadata": {},
     "output_type": "execute_result"
    }
   ],
   "execution_count": 10
  },
  {
   "metadata": {
    "ExecuteTime": {
     "end_time": "2024-11-21T09:19:41.163939Z",
     "start_time": "2024-11-21T09:19:41.068273Z"
    }
   },
   "cell_type": "code",
   "source": [
    "# Identify relevant numeric columns (those of type float64 and int64)\n",
    "numeric_columns = train_ride_df.select_dtypes(include=['float64', 'int64']).columns\n",
    "numeric_columns"
   ],
   "id": "432c2cc3b903c2dc",
   "outputs": [
    {
     "data": {
      "text/plain": [
       "Index(['long', 'lat', 'arrival_delay_m', 'prev_arrival_delay_m',\n",
       "       'prev_departure_delay_m', 'weighted_avg_prev_delay',\n",
       "       'max_station_number', 'station_progress'],\n",
       "      dtype='object')"
      ]
     },
     "execution_count": 11,
     "metadata": {},
     "output_type": "execute_result"
    }
   ],
   "execution_count": 11
  },
  {
   "metadata": {
    "ExecuteTime": {
     "end_time": "2024-11-21T09:19:41.321301Z",
     "start_time": "2024-11-21T09:19:41.163939Z"
    }
   },
   "cell_type": "code",
   "source": [
    "# Identify relevant numeric columns (those of type float64 and int64)\n",
    "numeric_columns = train_ride_df.select_dtypes(include=['float64', 'int64']).columns\n",
    "\n",
    "# Count NaN values in each numeric column\n",
    "nan_counts = train_ride_df[numeric_columns].isna().sum()\n",
    "\n",
    "# Display the count of NaN values for each numeric column\n",
    "nan_counts"
   ],
   "id": "5e10e0dab58dc245",
   "outputs": [
    {
     "data": {
      "text/plain": [
       "long                            0\n",
       "lat                             0\n",
       "arrival_delay_m            831630\n",
       "prev_arrival_delay_m            0\n",
       "prev_departure_delay_m          0\n",
       "weighted_avg_prev_delay         0\n",
       "max_station_number              0\n",
       "station_progress                0\n",
       "dtype: int64"
      ]
     },
     "execution_count": 12,
     "metadata": {},
     "output_type": "execute_result"
    }
   ],
   "execution_count": 12
  },
  {
   "metadata": {
    "ExecuteTime": {
     "end_time": "2024-11-21T09:19:56.629227Z",
     "start_time": "2024-11-21T09:19:41.321301Z"
    }
   },
   "cell_type": "code",
   "source": [
    "import matplotlib.pyplot as plt\n",
    "import seaborn as sns\n",
    "\n",
    "# Identify relevant numeric columns (those of type float64 and int64)\n",
    "numeric_columns = train_ride_df.select_dtypes(include=['float64', 'int64']).columns\n",
    "\n",
    "# Print the number of non-NaN values for each column\n",
    "for col in numeric_columns:\n",
    "    print(f'{col}: {train_ride_df[col].notna().sum()} non-NaN values')\n",
    "\n",
    "# Create boxplots for each numeric column\n",
    "plt.figure(figsize=(12, 10))\n",
    "for i, col in enumerate(numeric_columns, 1):\n",
    "    plt.subplot(len(numeric_columns)//2 + 1, 2, i)\n",
    "    sns.boxplot(x=train_ride_df[col])\n",
    "    plt.title(f'Boxplot of {col}')\n",
    "    plt.tight_layout()\n",
    "\n",
    "plt.show()"
   ],
   "id": "6017e5ce4ea1bd6e",
   "outputs": [
    {
     "name": "stdout",
     "output_type": "stream",
     "text": [
      "long: 2430251 non-NaN values\n",
      "lat: 2430251 non-NaN values\n",
      "arrival_delay_m: 1598621 non-NaN values\n",
      "prev_arrival_delay_m: 2430251 non-NaN values\n",
      "prev_departure_delay_m: 2430251 non-NaN values\n",
      "weighted_avg_prev_delay: 2430251 non-NaN values\n",
      "max_station_number: 2430251 non-NaN values\n",
      "station_progress: 2430251 non-NaN values\n"
     ]
    },
    {
     "data": {
      "text/plain": [
       "<Figure size 1200x1000 with 8 Axes>"
      ],
      "image/png": "[encoded data removed]"
     },
     "metadata": {},
     "output_type": "display_data"
    }
   ],
   "execution_count": 13
  },
  {
   "metadata": {
    "ExecuteTime": {
     "end_time": "2024-11-21T09:28:56.879474Z",
     "start_time": "2024-11-21T09:28:56.010723Z"
    }
   },
   "cell_type": "code",
   "source": [
    "from ydata_profiling import ProfileReport\n",
    "\n",
    "# Assuming you have a pandas dataframe called train_ride_df\n",
    "profile = ProfileReport(train_ride_df, title=\"Train Ride Data Report\", explorative=True)\n",
    "\n",
    "# To save the report as an HTML file\n",
    "profile.to_file(\"train_ride_report.html\")"
   ],
   "id": "d2665df61ec088d4",
   "outputs": [
    {
     "ename": "ValidationError",
     "evalue": "1 validation error for Settings\ninfer_types\n  extra fields not permitted (type=value_error.extra)",
     "output_type": "error",
     "traceback": [
      "\u001B[1;31m---------------------------------------------------------------------------\u001B[0m",
      "\u001B[1;31mValidationError\u001B[0m                           Traceback (most recent call last)",
      "Cell \u001B[1;32mIn[16], line 4\u001B[0m\n\u001B[0;32m      1\u001B[0m \u001B[38;5;28;01mfrom\u001B[39;00m \u001B[38;5;21;01mydata_profiling\u001B[39;00m \u001B[38;5;28;01mimport\u001B[39;00m ProfileReport\n\u001B[0;32m      3\u001B[0m \u001B[38;5;66;03m# Assuming you have a pandas dataframe called train_ride_df\u001B[39;00m\n\u001B[1;32m----> 4\u001B[0m profile \u001B[38;5;241m=\u001B[39m \u001B[43mProfileReport\u001B[49m\u001B[43m(\u001B[49m\u001B[43mtrain_ride_df\u001B[49m\u001B[43m,\u001B[49m\u001B[43m \u001B[49m\u001B[43mtitle\u001B[49m\u001B[38;5;241;43m=\u001B[39;49m\u001B[38;5;124;43m\"\u001B[39;49m\u001B[38;5;124;43mTrain Ride Data Report\u001B[39;49m\u001B[38;5;124;43m\"\u001B[39;49m\u001B[43m,\u001B[49m\u001B[43m \u001B[49m\u001B[43mexplorative\u001B[49m\u001B[38;5;241;43m=\u001B[39;49m\u001B[38;5;28;43;01mTrue\u001B[39;49;00m\u001B[43m,\u001B[49m\u001B[43m \u001B[49m\u001B[43minfer_types\u001B[49m\u001B[38;5;241;43m=\u001B[39;49m\u001B[38;5;28;43;01mFalse\u001B[39;49;00m\u001B[43m)\u001B[49m\n\u001B[0;32m      6\u001B[0m \u001B[38;5;66;03m# To save the report as an HTML file\u001B[39;00m\n\u001B[0;32m      7\u001B[0m profile\u001B[38;5;241m.\u001B[39mto_file(\u001B[38;5;124m\"\u001B[39m\u001B[38;5;124mtrain_ride_report.html\u001B[39m\u001B[38;5;124m\"\u001B[39m)\n",
      "File \u001B[1;32m~\\PycharmProjects\\DM-Project\\venv\\Lib\\site-packages\\ydata_profiling\\profile_report.py:142\u001B[0m, in \u001B[0;36mProfileReport.__init__\u001B[1;34m(self, df, minimal, tsmode, sortby, sensitive, explorative, sample, config_file, lazy, typeset, summarizer, config, type_schema, **kwargs)\u001B[0m\n\u001B[0;32m    137\u001B[0m     report_config \u001B[38;5;241m=\u001B[39m report_config\u001B[38;5;241m.\u001B[39mupdate(\n\u001B[0;32m    138\u001B[0m         Settings()\u001B[38;5;241m.\u001B[39mupdate(shorthands)\u001B[38;5;241m.\u001B[39mdict(exclude_defaults\u001B[38;5;241m=\u001B[39m\u001B[38;5;28;01mTrue\u001B[39;00m)\n\u001B[0;32m    139\u001B[0m     )\n\u001B[0;32m    141\u001B[0m \u001B[38;5;28;01mif\u001B[39;00m kwargs:\n\u001B[1;32m--> 142\u001B[0m     report_config \u001B[38;5;241m=\u001B[39m \u001B[43mreport_config\u001B[49m\u001B[38;5;241;43m.\u001B[39;49m\u001B[43mupdate\u001B[49m\u001B[43m(\u001B[49m\u001B[43mkwargs\u001B[49m\u001B[43m)\u001B[49m\n\u001B[0;32m    144\u001B[0m report_config\u001B[38;5;241m.\u001B[39mvars\u001B[38;5;241m.\u001B[39mtimeseries\u001B[38;5;241m.\u001B[39mactive \u001B[38;5;241m=\u001B[39m tsmode\n\u001B[0;32m    145\u001B[0m \u001B[38;5;28;01mif\u001B[39;00m tsmode \u001B[38;5;129;01mand\u001B[39;00m sortby:\n",
      "File \u001B[1;32m~\\PycharmProjects\\DM-Project\\venv\\Lib\\site-packages\\ydata_profiling\\config.py:358\u001B[0m, in \u001B[0;36mSettings.update\u001B[1;34m(self, updates)\u001B[0m\n\u001B[0;32m    356\u001B[0m \u001B[38;5;28;01mdef\u001B[39;00m \u001B[38;5;21mupdate\u001B[39m(\u001B[38;5;28mself\u001B[39m, updates: \u001B[38;5;28mdict\u001B[39m) \u001B[38;5;241m-\u001B[39m\u001B[38;5;241m>\u001B[39m \u001B[38;5;124m\"\u001B[39m\u001B[38;5;124mSettings\u001B[39m\u001B[38;5;124m\"\u001B[39m:\n\u001B[0;32m    357\u001B[0m     update \u001B[38;5;241m=\u001B[39m _merge_dictionaries(\u001B[38;5;28mself\u001B[39m\u001B[38;5;241m.\u001B[39mdict(), updates)\n\u001B[1;32m--> 358\u001B[0m     \u001B[38;5;28;01mreturn\u001B[39;00m \u001B[38;5;28;43mself\u001B[39;49m\u001B[38;5;241;43m.\u001B[39;49m\u001B[43mparse_obj\u001B[49m\u001B[43m(\u001B[49m\u001B[38;5;28;43mself\u001B[39;49m\u001B[38;5;241;43m.\u001B[39;49m\u001B[43mcopy\u001B[49m\u001B[43m(\u001B[49m\u001B[43mupdate\u001B[49m\u001B[38;5;241;43m=\u001B[39;49m\u001B[43mupdate\u001B[49m\u001B[43m)\u001B[49m\u001B[43m)\u001B[49m\n",
      "File \u001B[1;32m~\\PycharmProjects\\DM-Project\\venv\\Lib\\site-packages\\pydantic\\v1\\main.py:526\u001B[0m, in \u001B[0;36mBaseModel.parse_obj\u001B[1;34m(cls, obj)\u001B[0m\n\u001B[0;32m    524\u001B[0m         exc \u001B[38;5;241m=\u001B[39m \u001B[38;5;167;01mTypeError\u001B[39;00m(\u001B[38;5;124mf\u001B[39m\u001B[38;5;124m'\u001B[39m\u001B[38;5;132;01m{\u001B[39;00m\u001B[38;5;28mcls\u001B[39m\u001B[38;5;241m.\u001B[39m\u001B[38;5;18m__name__\u001B[39m\u001B[38;5;132;01m}\u001B[39;00m\u001B[38;5;124m expected dict not \u001B[39m\u001B[38;5;132;01m{\u001B[39;00mobj\u001B[38;5;241m.\u001B[39m\u001B[38;5;18m__class__\u001B[39m\u001B[38;5;241m.\u001B[39m\u001B[38;5;18m__name__\u001B[39m\u001B[38;5;132;01m}\u001B[39;00m\u001B[38;5;124m'\u001B[39m)\n\u001B[0;32m    525\u001B[0m         \u001B[38;5;28;01mraise\u001B[39;00m ValidationError([ErrorWrapper(exc, loc\u001B[38;5;241m=\u001B[39mROOT_KEY)], \u001B[38;5;28mcls\u001B[39m) \u001B[38;5;28;01mfrom\u001B[39;00m \u001B[38;5;21;01me\u001B[39;00m\n\u001B[1;32m--> 526\u001B[0m \u001B[38;5;28;01mreturn\u001B[39;00m \u001B[38;5;28;43mcls\u001B[39;49m\u001B[43m(\u001B[49m\u001B[38;5;241;43m*\u001B[39;49m\u001B[38;5;241;43m*\u001B[39;49m\u001B[43mobj\u001B[49m\u001B[43m)\u001B[49m\n",
      "File \u001B[1;32m~\\PycharmProjects\\DM-Project\\venv\\Lib\\site-packages\\pydantic\\v1\\env_settings.py:40\u001B[0m, in \u001B[0;36mBaseSettings.__init__\u001B[1;34m(__pydantic_self__, _env_file, _env_file_encoding, _env_nested_delimiter, _secrets_dir, **values)\u001B[0m\n\u001B[0;32m     31\u001B[0m \u001B[38;5;28;01mdef\u001B[39;00m \u001B[38;5;21m__init__\u001B[39m(\n\u001B[0;32m     32\u001B[0m     __pydantic_self__,\n\u001B[0;32m     33\u001B[0m     _env_file: Optional[DotenvType] \u001B[38;5;241m=\u001B[39m env_file_sentinel,\n\u001B[1;32m   (...)\u001B[0m\n\u001B[0;32m     38\u001B[0m ) \u001B[38;5;241m-\u001B[39m\u001B[38;5;241m>\u001B[39m \u001B[38;5;28;01mNone\u001B[39;00m:\n\u001B[0;32m     39\u001B[0m     \u001B[38;5;66;03m# Uses something other than `self` the first arg to allow \"self\" as a settable attribute\u001B[39;00m\n\u001B[1;32m---> 40\u001B[0m     \u001B[38;5;28;43msuper\u001B[39;49m\u001B[43m(\u001B[49m\u001B[43m)\u001B[49m\u001B[38;5;241;43m.\u001B[39;49m\u001B[38;5;21;43m__init__\u001B[39;49m\u001B[43m(\u001B[49m\n\u001B[0;32m     41\u001B[0m \u001B[43m        \u001B[49m\u001B[38;5;241;43m*\u001B[39;49m\u001B[38;5;241;43m*\u001B[39;49m\u001B[43m__pydantic_self__\u001B[49m\u001B[38;5;241;43m.\u001B[39;49m\u001B[43m_build_values\u001B[49m\u001B[43m(\u001B[49m\n\u001B[0;32m     42\u001B[0m \u001B[43m            \u001B[49m\u001B[43mvalues\u001B[49m\u001B[43m,\u001B[49m\n\u001B[0;32m     43\u001B[0m \u001B[43m            \u001B[49m\u001B[43m_env_file\u001B[49m\u001B[38;5;241;43m=\u001B[39;49m\u001B[43m_env_file\u001B[49m\u001B[43m,\u001B[49m\n\u001B[0;32m     44\u001B[0m \u001B[43m            \u001B[49m\u001B[43m_env_file_encoding\u001B[49m\u001B[38;5;241;43m=\u001B[39;49m\u001B[43m_env_file_encoding\u001B[49m\u001B[43m,\u001B[49m\n\u001B[0;32m     45\u001B[0m \u001B[43m            \u001B[49m\u001B[43m_env_nested_delimiter\u001B[49m\u001B[38;5;241;43m=\u001B[39;49m\u001B[43m_env_nested_delimiter\u001B[49m\u001B[43m,\u001B[49m\n\u001B[0;32m     46\u001B[0m \u001B[43m            \u001B[49m\u001B[43m_secrets_dir\u001B[49m\u001B[38;5;241;43m=\u001B[39;49m\u001B[43m_secrets_dir\u001B[49m\u001B[43m,\u001B[49m\n\u001B[0;32m     47\u001B[0m \u001B[43m        \u001B[49m\u001B[43m)\u001B[49m\n\u001B[0;32m     48\u001B[0m \u001B[43m    \u001B[49m\u001B[43m)\u001B[49m\n",
      "File \u001B[1;32m~\\PycharmProjects\\DM-Project\\venv\\Lib\\site-packages\\pydantic\\v1\\main.py:341\u001B[0m, in \u001B[0;36mBaseModel.__init__\u001B[1;34m(__pydantic_self__, **data)\u001B[0m\n\u001B[0;32m    339\u001B[0m values, fields_set, validation_error \u001B[38;5;241m=\u001B[39m validate_model(__pydantic_self__\u001B[38;5;241m.\u001B[39m\u001B[38;5;18m__class__\u001B[39m, data)\n\u001B[0;32m    340\u001B[0m \u001B[38;5;28;01mif\u001B[39;00m validation_error:\n\u001B[1;32m--> 341\u001B[0m     \u001B[38;5;28;01mraise\u001B[39;00m validation_error\n\u001B[0;32m    342\u001B[0m \u001B[38;5;28;01mtry\u001B[39;00m:\n\u001B[0;32m    343\u001B[0m     object_setattr(__pydantic_self__, \u001B[38;5;124m'\u001B[39m\u001B[38;5;124m__dict__\u001B[39m\u001B[38;5;124m'\u001B[39m, values)\n",
      "\u001B[1;31mValidationError\u001B[0m: 1 validation error for Settings\ninfer_types\n  extra fields not permitted (type=value_error.extra)"
     ]
    }
   ],
   "execution_count": 16
  },
  {
   "metadata": {
    "ExecuteTime": {
     "end_time": "2024-11-21T09:21:58.442161Z",
     "start_time": "2024-11-21T09:21:58.431192Z"
    }
   },
   "cell_type": "code",
   "source": "train_ride_df.head()",
   "id": "9131b3b81e74d53f",
   "outputs": [
    {
     "data": {
      "text/plain": [
       "                ID_Base ID_Timestamp stop_number       IBNR       long  \\\n",
       "0  -1001326572688500578   2407082041           2  8011118.0  13.375988   \n",
       "1  -1001326572688500578   2407082041           3  8011160.0   9.095851   \n",
       "2  -1001326572688500578   2407082041           4  8011167.0  13.299437   \n",
       "3  -1001326572688500578   2407082041           5  8010404.0  13.196898   \n",
       "4  -1001326572688500578   2407082041           6  8080040.0  13.128917   \n",
       "\n",
       "         lat        arrival_plan      departure_plan  arrival_delay_m  \\\n",
       "0  52.509379 2024-07-08 20:44:00 2024-07-08 20:45:00              0.0   \n",
       "1  48.849792                 NaT                 NaT              NaN   \n",
       "2  52.530276 2024-07-08 20:55:00 2024-07-08 20:56:00              0.0   \n",
       "3  52.534648 2024-07-08 21:00:00 2024-07-08 21:03:00              2.0   \n",
       "4  52.549396 2024-07-08 21:06:00 2024-07-08 21:07:00              1.0   \n",
       "\n",
       "  transformed_info_message  prev_arrival_delay_m  prev_departure_delay_m  \\\n",
       "0               No message                   0.0                     0.0   \n",
       "1               No message                   0.0                     0.0   \n",
       "2               No message                   0.0                     0.0   \n",
       "3               No message                   0.0                     0.0   \n",
       "4               No message                   2.0                     0.0   \n",
       "\n",
       "   weighted_avg_prev_delay  max_station_number  station_progress  \n",
       "0                 0.000000                   7          0.285714  \n",
       "1                 0.000000                   7          0.428571  \n",
       "2                 0.000000                   7          0.571429  \n",
       "3                 0.000000                   7          0.714286  \n",
       "4                 0.666667                   7          0.857143  "
      ],
      "text/html": [
       "<div>\n",
       "<style scoped>\n",
       "    .dataframe tbody tr th:only-of-type {\n",
       "        vertical-align: middle;\n",
       "    }\n",
       "\n",
       "    .dataframe tbody tr th {\n",
       "        vertical-align: top;\n",
       "    }\n",
       "\n",
       "    .dataframe thead th {\n",
       "        text-align: right;\n",
       "    }\n",
       "</style>\n",
       "<table border=\"1\" class=\"dataframe\">\n",
       "  <thead>\n",
       "    <tr style=\"text-align: right;\">\n",
       "      <th></th>\n",
       "      <th>ID_Base</th>\n",
       "      <th>ID_Timestamp</th>\n",
       "      <th>stop_number</th>\n",
       "      <th>IBNR</th>\n",
       "      <th>long</th>\n",
       "      <th>lat</th>\n",
       "      <th>arrival_plan</th>\n",
       "      <th>departure_plan</th>\n",
       "      <th>arrival_delay_m</th>\n",
       "      <th>transformed_info_message</th>\n",
       "      <th>prev_arrival_delay_m</th>\n",
       "      <th>prev_departure_delay_m</th>\n",
       "      <th>weighted_avg_prev_delay</th>\n",
       "      <th>max_station_number</th>\n",
       "      <th>station_progress</th>\n",
       "    </tr>\n",
       "  </thead>\n",
       "  <tbody>\n",
       "    <tr>\n",
       "      <th>0</th>\n",
       "      <td>-1001326572688500578</td>\n",
       "      <td>2407082041</td>\n",
       "      <td>2</td>\n",
       "      <td>8011118.0</td>\n",
       "      <td>13.375988</td>\n",
       "      <td>52.509379</td>\n",
       "      <td>2024-07-08 20:44:00</td>\n",
       "      <td>2024-07-08 20:45:00</td>\n",
       "      <td>0.0</td>\n",
       "      <td>No message</td>\n",
       "      <td>0.0</td>\n",
       "      <td>0.0</td>\n",
       "      <td>0.000000</td>\n",
       "      <td>7</td>\n",
       "      <td>0.285714</td>\n",
       "    </tr>\n",
       "    <tr>\n",
       "      <th>1</th>\n",
       "      <td>-1001326572688500578</td>\n",
       "      <td>2407082041</td>\n",
       "      <td>3</td>\n",
       "      <td>8011160.0</td>\n",
       "      <td>9.095851</td>\n",
       "      <td>48.849792</td>\n",
       "      <td>NaT</td>\n",
       "      <td>NaT</td>\n",
       "      <td>NaN</td>\n",
       "      <td>No message</td>\n",
       "      <td>0.0</td>\n",
       "      <td>0.0</td>\n",
       "      <td>0.000000</td>\n",
       "      <td>7</td>\n",
       "      <td>0.428571</td>\n",
       "    </tr>\n",
       "    <tr>\n",
       "      <th>2</th>\n",
       "      <td>-1001326572688500578</td>\n",
       "      <td>2407082041</td>\n",
       "      <td>4</td>\n",
       "      <td>8011167.0</td>\n",
       "      <td>13.299437</td>\n",
       "      <td>52.530276</td>\n",
       "      <td>2024-07-08 20:55:00</td>\n",
       "      <td>2024-07-08 20:56:00</td>\n",
       "      <td>0.0</td>\n",
       "      <td>No message</td>\n",
       "      <td>0.0</td>\n",
       "      <td>0.0</td>\n",
       "      <td>0.000000</td>\n",
       "      <td>7</td>\n",
       "      <td>0.571429</td>\n",
       "    </tr>\n",
       "    <tr>\n",
       "      <th>3</th>\n",
       "      <td>-1001326572688500578</td>\n",
       "      <td>2407082041</td>\n",
       "      <td>5</td>\n",
       "      <td>8010404.0</td>\n",
       "      <td>13.196898</td>\n",
       "      <td>52.534648</td>\n",
       "      <td>2024-07-08 21:00:00</td>\n",
       "      <td>2024-07-08 21:03:00</td>\n",
       "      <td>2.0</td>\n",
       "      <td>No message</td>\n",
       "      <td>0.0</td>\n",
       "      <td>0.0</td>\n",
       "      <td>0.000000</td>\n",
       "      <td>7</td>\n",
       "      <td>0.714286</td>\n",
       "    </tr>\n",
       "    <tr>\n",
       "      <th>4</th>\n",
       "      <td>-1001326572688500578</td>\n",
       "      <td>2407082041</td>\n",
       "      <td>6</td>\n",
       "      <td>8080040.0</td>\n",
       "      <td>13.128917</td>\n",
       "      <td>52.549396</td>\n",
       "      <td>2024-07-08 21:06:00</td>\n",
       "      <td>2024-07-08 21:07:00</td>\n",
       "      <td>1.0</td>\n",
       "      <td>No message</td>\n",
       "      <td>2.0</td>\n",
       "      <td>0.0</td>\n",
       "      <td>0.666667</td>\n",
       "      <td>7</td>\n",
       "      <td>0.857143</td>\n",
       "    </tr>\n",
       "  </tbody>\n",
       "</table>\n",
       "</div>"
      ]
     },
     "execution_count": 15,
     "metadata": {},
     "output_type": "execute_result"
    }
   ],
   "execution_count": 15
  },
  {
   "metadata": {
    "ExecuteTime": {
     "end_time": "2024-11-21T09:42:46.725282Z",
     "start_time": "2024-11-21T09:42:12.011878Z"
    }
   },
   "cell_type": "code",
   "source": [
    "import dtale\n",
    "\n",
    "# Start the D-Tale interface\n",
    "d = dtale.show(train_ride_df)\n",
    "d.open_browser()"
   ],
   "id": "b28296b76f02e92f",
   "outputs": [],
   "execution_count": 20
  }
 ],
 "metadata": {
  "kernelspec": {
   "display_name": "Python 3",
   "language": "python",
   "name": "python3"
  },
  "language_info": {
   "codemirror_mode": {
    "name": "ipython",
    "version": 2
   },
   "file_extension": ".py",
   "mimetype": "text/x-python",
   "name": "python",
   "nbconvert_exporter": "python",
   "pygments_lexer": "ipython2",
   "version": "2.7.6"
  }
 },
 "nbformat": 4,
 "nbformat_minor": 5
}
