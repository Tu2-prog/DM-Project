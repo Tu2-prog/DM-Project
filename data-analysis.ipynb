{
 "cells": [
  {
   "cell_type": "code",
   "id": "initial_id",
   "metadata": {
    "ExecuteTime": {
     "end_time": "2024-10-26T06:17:26.362260Z",
     "start_time": "2024-10-26T06:17:25.622331Z"
    }
   },
   "source": [
    "import pandas as pd"
   ],
   "outputs": [],
   "execution_count": 1
  },
  {
   "cell_type": "code",
   "id": "3e163ad16df9d843",
   "metadata": {
    "ExecuteTime": {
     "end_time": "2024-10-26T06:17:51.243672Z",
     "start_time": "2024-10-26T06:17:26.370796Z"
    }
   },
   "source": [
    "train_rides_df = pd.read_csv('DBtrainrides.csv')"
   ],
   "outputs": [],
   "execution_count": 2
  },
  {
   "cell_type": "code",
   "id": "c0244e58bec1240a",
   "metadata": {
    "ExecuteTime": {
     "end_time": "2024-10-26T06:17:51.549431Z",
     "start_time": "2024-10-26T06:17:51.527036Z"
    }
   },
   "source": "train_rides_df.head()",
   "outputs": [
    {
     "data": {
      "text/plain": [
       "                                  ID line  \\\n",
       "0  1573967790757085557-2407072312-14   20   \n",
       "1    349781417030375472-2407080017-1   18   \n",
       "2  7157250219775883918-2407072120-25    1   \n",
       "3    349781417030375472-2407080017-2   18   \n",
       "4   1983158592123451570-2407080010-3   33   \n",
       "\n",
       "                                                path   eva_nr  category  \\\n",
       "0  Stolberg(Rheinl)Hbf Gl.44|Eschweiler-St.Jöris|...  8000001         2   \n",
       "1                                                NaN  8000001         2   \n",
       "2  Hamm(Westf)Hbf|Kamen|Kamen-Methler|Dortmund-Ku...  8000406         4   \n",
       "3                                         Aachen Hbf  8000404         5   \n",
       "4                            Herzogenrath|Kohlscheid  8000404         5   \n",
       "\n",
       "             station                state    city    zip      long        lat  \\\n",
       "0         Aachen Hbf  Nordrhein-Westfalen  Aachen  52064  6.091499  50.767800   \n",
       "1         Aachen Hbf  Nordrhein-Westfalen  Aachen  52064  6.091499  50.767800   \n",
       "2  Aachen-Rothe Erde  Nordrhein-Westfalen  Aachen  52066  6.116475  50.770202   \n",
       "3        Aachen West  Nordrhein-Westfalen  Aachen  52072  6.070715  50.780360   \n",
       "4        Aachen West  Nordrhein-Westfalen  Aachen  52072  6.070715  50.780360   \n",
       "\n",
       "          arrival_plan       departure_plan       arrival_change  \\\n",
       "0  2024-07-08 00:00:00  2024-07-08 00:01:00  2024-07-08 00:03:00   \n",
       "1                  NaN  2024-07-08 00:17:00                  NaN   \n",
       "2  2024-07-08 00:03:00  2024-07-08 00:04:00  2024-07-08 00:03:00   \n",
       "3  2024-07-08 00:20:00  2024-07-08 00:21:00                  NaN   \n",
       "4  2024-07-08 00:20:00  2024-07-08 00:21:00  2024-07-08 00:20:00   \n",
       "\n",
       "      departure_change  arrival_delay_m  departure_delay_m info  \\\n",
       "0  2024-07-08 00:04:00                3                  3  NaN   \n",
       "1                  NaN                0                  0  NaN   \n",
       "2  2024-07-08 00:04:00                0                  0  NaN   \n",
       "3                  NaN                0                  0  NaN   \n",
       "4  2024-07-08 00:21:00                0                  0  NaN   \n",
       "\n",
       "  arrival_delay_check departure_delay_check  \n",
       "0             on_time               on_time  \n",
       "1             on_time               on_time  \n",
       "2             on_time               on_time  \n",
       "3             on_time               on_time  \n",
       "4             on_time               on_time  "
      ],
      "text/html": [
       "<div>\n",
       "<style scoped>\n",
       "    .dataframe tbody tr th:only-of-type {\n",
       "        vertical-align: middle;\n",
       "    }\n",
       "\n",
       "    .dataframe tbody tr th {\n",
       "        vertical-align: top;\n",
       "    }\n",
       "\n",
       "    .dataframe thead th {\n",
       "        text-align: right;\n",
       "    }\n",
       "</style>\n",
       "<table border=\"1\" class=\"dataframe\">\n",
       "  <thead>\n",
       "    <tr style=\"text-align: right;\">\n",
       "      <th></th>\n",
       "      <th>ID</th>\n",
       "      <th>line</th>\n",
       "      <th>path</th>\n",
       "      <th>eva_nr</th>\n",
       "      <th>category</th>\n",
       "      <th>station</th>\n",
       "      <th>state</th>\n",
       "      <th>city</th>\n",
       "      <th>zip</th>\n",
       "      <th>long</th>\n",
       "      <th>lat</th>\n",
       "      <th>arrival_plan</th>\n",
       "      <th>departure_plan</th>\n",
       "      <th>arrival_change</th>\n",
       "      <th>departure_change</th>\n",
       "      <th>arrival_delay_m</th>\n",
       "      <th>departure_delay_m</th>\n",
       "      <th>info</th>\n",
       "      <th>arrival_delay_check</th>\n",
       "      <th>departure_delay_check</th>\n",
       "    </tr>\n",
       "  </thead>\n",
       "  <tbody>\n",
       "    <tr>\n",
       "      <th>0</th>\n",
       "      <td>1573967790757085557-2407072312-14</td>\n",
       "      <td>20</td>\n",
       "      <td>Stolberg(Rheinl)Hbf Gl.44|Eschweiler-St.Jöris|...</td>\n",
       "      <td>8000001</td>\n",
       "      <td>2</td>\n",
       "      <td>Aachen Hbf</td>\n",
       "      <td>Nordrhein-Westfalen</td>\n",
       "      <td>Aachen</td>\n",
       "      <td>52064</td>\n",
       "      <td>6.091499</td>\n",
       "      <td>50.767800</td>\n",
       "      <td>2024-07-08 00:00:00</td>\n",
       "      <td>2024-07-08 00:01:00</td>\n",
       "      <td>2024-07-08 00:03:00</td>\n",
       "      <td>2024-07-08 00:04:00</td>\n",
       "      <td>3</td>\n",
       "      <td>3</td>\n",
       "      <td>NaN</td>\n",
       "      <td>on_time</td>\n",
       "      <td>on_time</td>\n",
       "    </tr>\n",
       "    <tr>\n",
       "      <th>1</th>\n",
       "      <td>349781417030375472-2407080017-1</td>\n",
       "      <td>18</td>\n",
       "      <td>NaN</td>\n",
       "      <td>8000001</td>\n",
       "      <td>2</td>\n",
       "      <td>Aachen Hbf</td>\n",
       "      <td>Nordrhein-Westfalen</td>\n",
       "      <td>Aachen</td>\n",
       "      <td>52064</td>\n",
       "      <td>6.091499</td>\n",
       "      <td>50.767800</td>\n",
       "      <td>NaN</td>\n",
       "      <td>2024-07-08 00:17:00</td>\n",
       "      <td>NaN</td>\n",
       "      <td>NaN</td>\n",
       "      <td>0</td>\n",
       "      <td>0</td>\n",
       "      <td>NaN</td>\n",
       "      <td>on_time</td>\n",
       "      <td>on_time</td>\n",
       "    </tr>\n",
       "    <tr>\n",
       "      <th>2</th>\n",
       "      <td>7157250219775883918-2407072120-25</td>\n",
       "      <td>1</td>\n",
       "      <td>Hamm(Westf)Hbf|Kamen|Kamen-Methler|Dortmund-Ku...</td>\n",
       "      <td>8000406</td>\n",
       "      <td>4</td>\n",
       "      <td>Aachen-Rothe Erde</td>\n",
       "      <td>Nordrhein-Westfalen</td>\n",
       "      <td>Aachen</td>\n",
       "      <td>52066</td>\n",
       "      <td>6.116475</td>\n",
       "      <td>50.770202</td>\n",
       "      <td>2024-07-08 00:03:00</td>\n",
       "      <td>2024-07-08 00:04:00</td>\n",
       "      <td>2024-07-08 00:03:00</td>\n",
       "      <td>2024-07-08 00:04:00</td>\n",
       "      <td>0</td>\n",
       "      <td>0</td>\n",
       "      <td>NaN</td>\n",
       "      <td>on_time</td>\n",
       "      <td>on_time</td>\n",
       "    </tr>\n",
       "    <tr>\n",
       "      <th>3</th>\n",
       "      <td>349781417030375472-2407080017-2</td>\n",
       "      <td>18</td>\n",
       "      <td>Aachen Hbf</td>\n",
       "      <td>8000404</td>\n",
       "      <td>5</td>\n",
       "      <td>Aachen West</td>\n",
       "      <td>Nordrhein-Westfalen</td>\n",
       "      <td>Aachen</td>\n",
       "      <td>52072</td>\n",
       "      <td>6.070715</td>\n",
       "      <td>50.780360</td>\n",
       "      <td>2024-07-08 00:20:00</td>\n",
       "      <td>2024-07-08 00:21:00</td>\n",
       "      <td>NaN</td>\n",
       "      <td>NaN</td>\n",
       "      <td>0</td>\n",
       "      <td>0</td>\n",
       "      <td>NaN</td>\n",
       "      <td>on_time</td>\n",
       "      <td>on_time</td>\n",
       "    </tr>\n",
       "    <tr>\n",
       "      <th>4</th>\n",
       "      <td>1983158592123451570-2407080010-3</td>\n",
       "      <td>33</td>\n",
       "      <td>Herzogenrath|Kohlscheid</td>\n",
       "      <td>8000404</td>\n",
       "      <td>5</td>\n",
       "      <td>Aachen West</td>\n",
       "      <td>Nordrhein-Westfalen</td>\n",
       "      <td>Aachen</td>\n",
       "      <td>52072</td>\n",
       "      <td>6.070715</td>\n",
       "      <td>50.780360</td>\n",
       "      <td>2024-07-08 00:20:00</td>\n",
       "      <td>2024-07-08 00:21:00</td>\n",
       "      <td>2024-07-08 00:20:00</td>\n",
       "      <td>2024-07-08 00:21:00</td>\n",
       "      <td>0</td>\n",
       "      <td>0</td>\n",
       "      <td>NaN</td>\n",
       "      <td>on_time</td>\n",
       "      <td>on_time</td>\n",
       "    </tr>\n",
       "  </tbody>\n",
       "</table>\n",
       "</div>"
      ]
     },
     "execution_count": 3,
     "metadata": {},
     "output_type": "execute_result"
    }
   ],
   "execution_count": 3
  },
  {
   "cell_type": "code",
   "id": "8a2f994d4e9521d2",
   "metadata": {
    "ExecuteTime": {
     "end_time": "2024-10-26T06:17:51.671973Z",
     "start_time": "2024-10-26T06:17:51.622793Z"
    }
   },
   "source": [
    "zip_df=train_rides_df.groupby(\"zip\").size().reset_index(name=\"count\")\n",
    "zip_df.head()"
   ],
   "outputs": [
    {
     "data": {
      "text/plain": [
       "    zip  count\n",
       "0  1067   2458\n",
       "1  1069   2045\n",
       "2  1097   3305\n",
       "3  1109   1800\n",
       "4  1127    597"
      ],
      "text/html": [
       "<div>\n",
       "<style scoped>\n",
       "    .dataframe tbody tr th:only-of-type {\n",
       "        vertical-align: middle;\n",
       "    }\n",
       "\n",
       "    .dataframe tbody tr th {\n",
       "        vertical-align: top;\n",
       "    }\n",
       "\n",
       "    .dataframe thead th {\n",
       "        text-align: right;\n",
       "    }\n",
       "</style>\n",
       "<table border=\"1\" class=\"dataframe\">\n",
       "  <thead>\n",
       "    <tr style=\"text-align: right;\">\n",
       "      <th></th>\n",
       "      <th>zip</th>\n",
       "      <th>count</th>\n",
       "    </tr>\n",
       "  </thead>\n",
       "  <tbody>\n",
       "    <tr>\n",
       "      <th>0</th>\n",
       "      <td>1067</td>\n",
       "      <td>2458</td>\n",
       "    </tr>\n",
       "    <tr>\n",
       "      <th>1</th>\n",
       "      <td>1069</td>\n",
       "      <td>2045</td>\n",
       "    </tr>\n",
       "    <tr>\n",
       "      <th>2</th>\n",
       "      <td>1097</td>\n",
       "      <td>3305</td>\n",
       "    </tr>\n",
       "    <tr>\n",
       "      <th>3</th>\n",
       "      <td>1109</td>\n",
       "      <td>1800</td>\n",
       "    </tr>\n",
       "    <tr>\n",
       "      <th>4</th>\n",
       "      <td>1127</td>\n",
       "      <td>597</td>\n",
       "    </tr>\n",
       "  </tbody>\n",
       "</table>\n",
       "</div>"
      ]
     },
     "execution_count": 4,
     "metadata": {},
     "output_type": "execute_result"
    }
   ],
   "execution_count": 4
  },
  {
   "cell_type": "code",
   "id": "2c0e6296efd0523e",
   "metadata": {
    "ExecuteTime": {
     "end_time": "2024-10-26T06:17:52.828335Z",
     "start_time": "2024-10-26T06:17:51.753783Z"
    }
   },
   "source": [
    "train_rides_df.count()"
   ],
   "outputs": [
    {
     "data": {
      "text/plain": [
       "ID                       2061357\n",
       "line                     2061357\n",
       "path                     1850002\n",
       "eva_nr                   2061357\n",
       "category                 2061357\n",
       "station                  2061357\n",
       "state                    2061357\n",
       "city                     2061357\n",
       "zip                      2061357\n",
       "long                     2061357\n",
       "lat                      2061357\n",
       "arrival_plan             1850002\n",
       "departure_plan           2061357\n",
       "arrival_change           1585727\n",
       "departure_change         1721431\n",
       "arrival_delay_m          2061357\n",
       "departure_delay_m        2061357\n",
       "info                      645341\n",
       "arrival_delay_check      2061357\n",
       "departure_delay_check    2061357\n",
       "dtype: int64"
      ]
     },
     "execution_count": 5,
     "metadata": {},
     "output_type": "execute_result"
    }
   ],
   "execution_count": 5
  },
  {
   "cell_type": "markdown",
   "id": "303ea62c1b071231",
   "metadata": {},
   "source": [
    "2,061,357–1,850,002 = 211,355 fewer cases in the 'path' column"
   ]
  },
  {
   "cell_type": "code",
   "id": "b4566cc2a1364e2c",
   "metadata": {
    "ExecuteTime": {
     "end_time": "2024-10-26T06:17:53.336Z",
     "start_time": "2024-10-26T06:17:52.916022Z"
    }
   },
   "source": [
    "# Step 2: Create a new DataFrame with a count of how often each 'eva_nr' is mentioned\n",
    "station_mapping_df = train_rides_df.groupby(['eva_nr', 'station', 'category', 'city', 'long', 'lat']).size().reset_index(name='count')\n",
    "\n",
    "# Step 3: Optionally, reset the index for a cleaner DataFrame\n",
    "station_mapping_df = station_mapping_df.reset_index(drop=True)\n",
    "\n",
    "# Display the new DataFrame\n",
    "station_mapping_df.head()"
   ],
   "outputs": [
    {
     "data": {
      "text/plain": [
       "    eva_nr     station  category        city       long        lat  count\n",
       "0  8000001  Aachen Hbf         2      Aachen   6.091499  50.767800   1488\n",
       "1  8000002   Aalen Hbf         3       Aalen  10.096271  48.841013    823\n",
       "2  8000004  Altenbeken         3  Altenbeken   8.943319  51.766433    848\n",
       "3  8000007       Alzey         3       Alzey   8.109749  49.750200    591\n",
       "4  8000009     Ansbach         3     Ansbach  10.578239  49.298032    829"
      ],
      "text/html": [
       "<div>\n",
       "<style scoped>\n",
       "    .dataframe tbody tr th:only-of-type {\n",
       "        vertical-align: middle;\n",
       "    }\n",
       "\n",
       "    .dataframe tbody tr th {\n",
       "        vertical-align: top;\n",
       "    }\n",
       "\n",
       "    .dataframe thead th {\n",
       "        text-align: right;\n",
       "    }\n",
       "</style>\n",
       "<table border=\"1\" class=\"dataframe\">\n",
       "  <thead>\n",
       "    <tr style=\"text-align: right;\">\n",
       "      <th></th>\n",
       "      <th>eva_nr</th>\n",
       "      <th>station</th>\n",
       "      <th>category</th>\n",
       "      <th>city</th>\n",
       "      <th>long</th>\n",
       "      <th>lat</th>\n",
       "      <th>count</th>\n",
       "    </tr>\n",
       "  </thead>\n",
       "  <tbody>\n",
       "    <tr>\n",
       "      <th>0</th>\n",
       "      <td>8000001</td>\n",
       "      <td>Aachen Hbf</td>\n",
       "      <td>2</td>\n",
       "      <td>Aachen</td>\n",
       "      <td>6.091499</td>\n",
       "      <td>50.767800</td>\n",
       "      <td>1488</td>\n",
       "    </tr>\n",
       "    <tr>\n",
       "      <th>1</th>\n",
       "      <td>8000002</td>\n",
       "      <td>Aalen Hbf</td>\n",
       "      <td>3</td>\n",
       "      <td>Aalen</td>\n",
       "      <td>10.096271</td>\n",
       "      <td>48.841013</td>\n",
       "      <td>823</td>\n",
       "    </tr>\n",
       "    <tr>\n",
       "      <th>2</th>\n",
       "      <td>8000004</td>\n",
       "      <td>Altenbeken</td>\n",
       "      <td>3</td>\n",
       "      <td>Altenbeken</td>\n",
       "      <td>8.943319</td>\n",
       "      <td>51.766433</td>\n",
       "      <td>848</td>\n",
       "    </tr>\n",
       "    <tr>\n",
       "      <th>3</th>\n",
       "      <td>8000007</td>\n",
       "      <td>Alzey</td>\n",
       "      <td>3</td>\n",
       "      <td>Alzey</td>\n",
       "      <td>8.109749</td>\n",
       "      <td>49.750200</td>\n",
       "      <td>591</td>\n",
       "    </tr>\n",
       "    <tr>\n",
       "      <th>4</th>\n",
       "      <td>8000009</td>\n",
       "      <td>Ansbach</td>\n",
       "      <td>3</td>\n",
       "      <td>Ansbach</td>\n",
       "      <td>10.578239</td>\n",
       "      <td>49.298032</td>\n",
       "      <td>829</td>\n",
       "    </tr>\n",
       "  </tbody>\n",
       "</table>\n",
       "</div>"
      ]
     },
     "execution_count": 6,
     "metadata": {},
     "output_type": "execute_result"
    }
   ],
   "execution_count": 6
  },
  {
   "cell_type": "code",
   "id": "bdf9441d4bd02e86",
   "metadata": {
    "ExecuteTime": {
     "end_time": "2024-10-26T06:17:53.463797Z",
     "start_time": "2024-10-26T06:17:53.454419Z"
    }
   },
   "source": [
    "station_mapping_df.count()"
   ],
   "outputs": [
    {
     "data": {
      "text/plain": [
       "eva_nr      1996\n",
       "station     1996\n",
       "category    1996\n",
       "city        1996\n",
       "long        1996\n",
       "lat         1996\n",
       "count       1996\n",
       "dtype: int64"
      ]
     },
     "execution_count": 7,
     "metadata": {},
     "output_type": "execute_result"
    }
   ],
   "execution_count": 7
  },
  {
   "cell_type": "markdown",
   "id": "fa8dc49563f5d29c",
   "metadata": {},
   "source": [
    "what is the average number of stations per category? go check the 'category' column"
   ]
  },
  {
   "cell_type": "code",
   "id": "4dc7686a45211ca2",
   "metadata": {
    "ExecuteTime": {
     "end_time": "2024-10-26T06:17:53.638579Z",
     "start_time": "2024-10-26T06:17:53.635252Z"
    }
   },
   "source": [
    "# # Step 1: Split the 'path' into individual stations where 'path' is not empty\n",
    "# # Create a new DataFrame that splits the 'path' column\n",
    "# stations_df = train_rides_df['path'].str.split('|', expand=True)\n",
    "# \n",
    "# # Step 2: Keep the same 'eva_nr', 'station', and 'city' columns, add the split station columns\n",
    "# split_stations_df = pd.concat([train_rides_df[['ID','eva_nr', 'station', 'city']], stations_df], axis=1)\n",
    "# \n",
    "# split_stations_df.head()"
   ],
   "outputs": [],
   "execution_count": 8
  },
  {
   "metadata": {
    "jupyter": {
     "is_executing": true
    },
    "ExecuteTime": {
     "start_time": "2024-10-26T06:17:53.710540Z"
    }
   },
   "cell_type": "code",
   "source": [
    "# Step 1: Split the 'path' into individual stations where 'path' is not empty\n",
    "train_rides_df['path'] = train_rides_df['path'].fillna('')\n",
    "\n",
    "# Step 2: Split each 'path' entry by '|', creating multiple rows per station\n",
    "split_stations_df = train_rides_df.assign(station_name=train_rides_df['path'].str.split('|')).explode('station_name').drop(columns=['path'])\n",
    "\n",
    "# Display the result\n",
    "split_stations_df.head()"
   ],
   "id": "cec16dfaf8b5e869",
   "outputs": [],
   "execution_count": null
  },
  {
   "cell_type": "code",
   "id": "9b7ac5d8dcc4e97",
   "metadata": {
    "ExecuteTime": {
     "end_time": "2024-10-26T06:17:23.435137Z",
     "start_time": "2024-10-26T05:50:52.982723Z"
    }
   },
   "source": "# split_stations_df.head()",
   "outputs": [],
   "execution_count": 9
  },
  {
   "cell_type": "markdown",
   "id": "50022bd79351d221",
   "metadata": {},
   "source": [
    "Visualise the stations in a map (/grid) (without it being mapped in a real map) and see if there are any patterns. George \\\\\n",
    "\n",
    "Additionally, use the same map to see the delay (in % of total rides) per station and per zip. Delay in this case would be if the train did not arrive / leave at the intended time. George \\\\\n",
    "\n",
    "\n",
    "See if we can use K-means to cluster the stations into mini regions to see if the entire region has delay problems. We do not know what k to use, so we can try a few values. Check the distance per stations and see by eye if the clusters make sense to create. Raphael"
   ]
  },
  {
   "metadata": {
    "ExecuteTime": {
     "end_time": "2024-10-26T06:17:23.437663300Z",
     "start_time": "2024-10-26T05:50:53.128143Z"
    }
   },
   "cell_type": "code",
   "source": "# import dask.dataframe as dd",
   "id": "397a08776ef82ce4",
   "outputs": [],
   "execution_count": 10
  },
  {
   "metadata": {
    "ExecuteTime": {
     "end_time": "2024-10-26T06:17:23.438664400Z",
     "start_time": "2024-10-26T05:50:53.289612Z"
    }
   },
   "cell_type": "code",
   "source": [
    "# # Load your DataFrame as a Dask DataFrame\n",
    "# dask_df = dd.from_pandas(train_rides_df, npartitions=10)\n",
    "# \n",
    "# # Step 1: Find the maximum number of splits by checking the station counts in each 'path'\n",
    "# max_stations = dask_df['path'].str.count('|').max().compute() + 1\n",
    "# \n",
    "# # Step 2: Split the 'path' column into the calculated number of station columns\n",
    "# station_columns_df = dask_df['path'].str.split('|', expand=True, n=max_stations)\n",
    "# \n",
    "# # Step 3: Concatenate with relevant identifiers and location details\n",
    "# train_rides_with_stations_df = dd.concat(\n",
    "#     [dask_df[['ID', 'eva_nr', 'station', 'city']], station_columns_df],\n",
    "#     axis=1\n",
    "# )\n",
    "# \n",
    "# # Step 4: Reshape to long format\n",
    "# stations_long_format_df = train_rides_with_stations_df.melt(\n",
    "#     id_vars=['ID', 'eva_nr', 'station', 'city'], \n",
    "#     var_name='station_sequence', \n",
    "#     value_name='station_name'\n",
    "# ).dropna(subset=['station_name'])\n",
    "# \n",
    "# # Compute the final DataFrame\n",
    "# result_df = stations_long_format_df.compute()"
   ],
   "id": "885b4557a4611d33",
   "outputs": [],
   "execution_count": 11
  },
  {
   "cell_type": "code",
   "id": "ed4ac2189baf80a0",
   "metadata": {
    "ExecuteTime": {
     "end_time": "2024-10-26T06:17:23.438664400Z",
     "start_time": "2024-10-26T05:50:53.335099Z"
    }
   },
   "source": [
    "# # Step 1: Split the 'path' column into separate station columns for each stop\n",
    "# station_columns_df = train_rides_df['path'].str.split('|', expand=True)\n",
    "# \n",
    "# # Step 2: Concatenate with relevant identifiers and location details to keep track of each train ride\n",
    "# train_rides_with_stations_df = pd.concat([train_rides_df[['ID', 'eva_nr', 'station', 'city']], station_columns_df], axis=1)\n",
    "# \n",
    "# # Step 3: Reshape to a long format with each station as a separate row, preserving ride details\n",
    "# stations_long_format_df = train_rides_with_stations_df.melt(\n",
    "#     id_vars=['ID', 'eva_nr', 'station', 'city'], \n",
    "#     var_name='station_sequence', \n",
    "#     value_name='station_name'\n",
    "# )\n",
    "# stations_long_format_df = stations_long_format_df.dropna(subset=['station_name'])"
   ],
   "outputs": [],
   "execution_count": 12
  },
  {
   "cell_type": "code",
   "id": "80d2bb22dbd19ae2",
   "metadata": {
    "ExecuteTime": {
     "end_time": "2024-10-26T06:17:23.438664400Z",
     "start_time": "2024-10-26T05:50:53.471609Z"
    }
   },
   "source": [
    "# # Step 4: Merge with 'station_mapping_df' to retrieve 'eva_nr' for each station\n",
    "# stations_with_eva_df = stations_long_format_df.merge(\n",
    "#     station_mapping_df[['station', 'eva_nr']], \n",
    "#     left_on='station_name',\n",
    "#     right_on='station',\n",
    "#     how='left',\n",
    "#     suffixes=('', '_mapped')\n",
    "# )\n",
    "# \n",
    "# # Step 5: Drop duplicate or unnecessary columns for a clean DataFrame\n",
    "# final_station_mapping_df = stations_with_eva_df.drop(columns=['station'])\n",
    "# \n",
    "# # Step 6: Reset index for a cleaner, ordered display\n",
    "# final_station_mapping_df = final_station_mapping_df.reset_index(drop=True)\n",
    "# \n",
    "# # Display the final DataFrame\n",
    "# final_station_mapping_df"
   ],
   "outputs": [],
   "execution_count": 13
  },
  {
   "cell_type": "code",
   "id": "8faaa39ce83e3aa",
   "metadata": {
    "ExecuteTime": {
     "end_time": "2024-10-26T06:17:23.439808500Z",
     "start_time": "2024-10-26T05:50:53.525848Z"
    }
   },
   "source": [
    "import plotly.express as px"
   ],
   "outputs": [],
   "execution_count": 14
  },
  {
   "cell_type": "code",
   "id": "590015fc836cef6b",
   "metadata": {
    "ExecuteTime": {
     "end_time": "2024-10-26T06:17:23.439808500Z",
     "start_time": "2024-10-26T05:50:53.702626Z"
    }
   },
   "source": [
    "# # Generate a blank point graph\n",
    "# fig_blank = px.scatter(train_rides_df, x=\"long\", y=\"lat\", title=\"Blank Point Graph of Longitude and Latitude\")\n",
    "# \n",
    "# # Show plot\n",
    "# fig_blank.show()"
   ],
   "outputs": [],
   "execution_count": 15
  },
  {
   "cell_type": "code",
   "id": "39ae17eee8c1628d",
   "metadata": {
    "ExecuteTime": {
     "end_time": "2024-10-26T06:17:23.441650300Z",
     "start_time": "2024-10-26T05:50:53.736644Z"
    }
   },
   "source": [
    "# # Generate a map using longitude and latitude\n",
    "# fig_map = px.scatter_mapbox(train_rides_df, lat=\"lat\", lon=\"long\", \n",
    "#                             mapbox_style=\"open-street-map\", \n",
    "#                             title=\"Map of Train Stations Based on Longitude and Latitude\")\n",
    "# # Show plot\n",
    "# fig_map.show()"
   ],
   "outputs": [],
   "execution_count": 16
  }
 ],
 "metadata": {
  "kernelspec": {
   "display_name": "Python 3 (ipykernel)",
   "language": "python",
   "name": "python3"
  },
  "language_info": {
   "codemirror_mode": {
    "name": "ipython",
    "version": 3
   },
   "file_extension": ".py",
   "mimetype": "text/x-python",
   "name": "python",
   "nbconvert_exporter": "python",
   "pygments_lexer": "ipython3",
   "version": "3.8.10"
  }
 },
 "nbformat": 4,
 "nbformat_minor": 5
}
