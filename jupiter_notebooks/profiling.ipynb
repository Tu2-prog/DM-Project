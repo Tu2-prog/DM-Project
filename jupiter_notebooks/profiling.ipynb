{
 "cells": [
  {
   "cell_type": "code",
   "execution_count": 1,
   "metadata": {},
   "outputs": [
    {
     "name": "stderr",
     "output_type": "stream",
     "text": [
      "/home/tu2/anaconda3/envs/data_mining/lib/python3.11/site-packages/tqdm/auto.py:21: TqdmWarning: IProgress not found. Please update jupyter and ipywidgets. See https://ipywidgets.readthedocs.io/en/stable/user_install.html\n",
      "  from .autonotebook import tqdm as notebook_tqdm\n"
     ]
    }
   ],
   "source": [
    "import pandas as pd\n",
    "from ydata_profiling import ProfileReport"
   ]
  },
  {
   "cell_type": "code",
   "execution_count": 2,
   "metadata": {},
   "outputs": [
    {
     "name": "stderr",
     "output_type": "stream",
     "text": [
      "Summarize dataset: 100%|██████████| 66/66 [01:21<00:00,  1.23s/it, Completed]                                   \n",
      "Generate report structure: 100%|██████████| 1/1 [00:09<00:00,  9.51s/it]\n",
      "Render HTML: 100%|██████████| 1/1 [00:01<00:00,  1.04s/it]\n",
      "Export report to file: 100%|██████████| 1/1 [00:00<00:00, 60.59it/s]\n"
     ]
    }
   ],
   "source": [
    "df = pd.read_csv(\"../DBtrainrides.csv\")\n",
    "profile = ProfileReport(df, title=\"Initial Profile Report\")\n",
    "profile.to_file(\"../initial_profiling.html\")"
   ]
  },
  {
   "cell_type": "code",
   "execution_count": 3,
   "metadata": {},
   "outputs": [
    {
     "name": "stderr",
     "output_type": "stream",
     "text": [
      "Summarize dataset:  15%|█▍        | 7/48 [00:07<00:38,  1.06it/s, Describe variable:IBNR]                 /home/tu2/anaconda3/envs/data_mining/lib/python3.11/site-packages/ydata_profiling/model/pandas/describe_numeric_pandas.py:133: RuntimeWarning: overflow encountered in scalar subtract\n",
      "  stats[\"range\"] = stats[\"max\"] - stats[\"min\"]\n",
      "Summarize dataset:  90%|█████████ | 45/50 [00:45<00:02,  2.36it/s, Calculate auto correlation]                        /home/tu2/anaconda3/envs/data_mining/lib/python3.11/site-packages/pandas/core/reshape/tile.py:404: RuntimeWarning: overflow encountered in scalar subtract\n",
      "  adj = (mx - mn) * 0.001  # 0.1% of the range\n",
      "/home/tu2/anaconda3/envs/data_mining/lib/python3.11/site-packages/ydata_profiling/model/pandas/discretize_pandas.py:52: FutureWarning: Setting an item of incompatible dtype is deprecated and will raise in a future error of pandas. Value '[4. 4. 4. ... 5. 5. 5.]' has dtype incompatible with int64, please explicitly cast to a compatible dtype first.\n",
      "  discretized_df.loc[:, column] = self._discretize_column(\n",
      "Summarize dataset: 100%|██████████| 894/894 [10:57<00:00,  1.36it/s, Completed]                                                                 \n",
      "Generate report structure: 100%|██████████| 1/1 [00:09<00:00,  9.65s/it]\n",
      "Render HTML: 100%|██████████| 1/1 [00:12<00:00, 12.14s/it]\n",
      "Export report to file: 100%|██████████| 1/1 [00:00<00:00,  5.57it/s]\n"
     ]
    }
   ],
   "source": [
    "df = pd.read_csv(\"../DBtrainrides_final_result.csv\")\n",
    "profile = ProfileReport(df, title=\"Profiling Report\")\n",
    "profile.to_file(\"../profiling.html\")"
   ]
  },
  {
   "cell_type": "markdown",
   "metadata": {},
   "source": [
    "# Initial Dataset\n",
    "- the data seems to be clearly structured and mostly complete\n",
    "- the previous data analyses that we made are still valid since there are some missing values that need to mitigated -> some of them already dealt with -> info or path\n",
    "- delay variables are mostly correlated to the features that are also representing the delay"
   ]
  },
  {
   "cell_type": "markdown",
   "metadata": {},
   "source": [
    "# Current Dataset\n",
    "- from the report it seems that the target variable is not related to the target variables (final csv and initial csv) -> only the departure_delay_m and other features derived from it may be \n",
    "- there are some peculiar outliers in the data\n",
    "    - arrival_delay_m / departure_delay_m = 159 minutes\n",
    "    - average distance between stops = 120\n",
    "\n",
    "- there are still some missing values that are still not handled well -> we still do not have the whole IBNR; arrival/departure_delay check or minutes are still having NaN values; the same goes for the the arrival_plan; arrival_change and departure_change; \n",
    "- city are mostly evenly distributed but there is a certain peak in the regions with zip numbers around 20000\n",
    "- for some reason we receive negative values\n",
    "- distance from origin does not make sense\n",
    "- we currently have too many features right now -> 44 may need some form of dimensionality reduction? also for the initial models after the baseline"
   ]
  },
  {
   "cell_type": "code",
   "execution_count": 4,
   "metadata": {},
   "outputs": [
    {
     "name": "stderr",
     "output_type": "stream",
     "text": [
      "/tmp/ipykernel_42381/714393583.py:1: DtypeWarning: Columns (3) have mixed types. Specify dtype option on import or set low_memory=False.\n",
      "  df = pd.read_csv(\"../DBtrainrides_restored_lat_long.csv\")\n",
      "Summarize dataset:  26%|██▌       | 7/27 [00:16<00:39,  1.99s/it, Describe variable:last_station]         /home/tu2/anaconda3/envs/data_mining/lib/python3.11/site-packages/ydata_profiling/model/pandas/describe_numeric_pandas.py:133: RuntimeWarning: overflow encountered in scalar subtract\n",
      "  stats[\"range\"] = stats[\"max\"] - stats[\"min\"]\n",
      "Summarize dataset:  83%|████████▎ | 24/29 [00:30<00:02,  2.36it/s, Calculate auto correlation]                /home/tu2/anaconda3/envs/data_mining/lib/python3.11/site-packages/pandas/core/reshape/tile.py:404: RuntimeWarning: overflow encountered in scalar subtract\n",
      "  adj = (mx - mn) * 0.001  # 0.1% of the range\n",
      "/home/tu2/anaconda3/envs/data_mining/lib/python3.11/site-packages/ydata_profiling/model/pandas/discretize_pandas.py:52: FutureWarning: Setting an item of incompatible dtype is deprecated and will raise in a future error of pandas. Value '[3. 3. 3. ... 8. 8. 8.]' has dtype incompatible with int64, please explicitly cast to a compatible dtype first.\n",
      "  discretized_df.loc[:, column] = self._discretize_column(\n",
      "Summarize dataset: 100%|██████████| 132/132 [01:53<00:00,  1.16it/s, Completed]                                          \n",
      "Generate report structure: 100%|██████████| 1/1 [00:04<00:00,  4.65s/it]\n",
      "Render HTML: 100%|██████████| 1/1 [00:01<00:00,  1.93s/it]\n",
      "Export report to file: 100%|██████████| 1/1 [00:00<00:00, 22.62it/s]\n"
     ]
    }
   ],
   "source": [
    "df = pd.read_csv(\"../DBtrainrides_restored_lat_long.csv\")\n",
    "profile = ProfileReport(df, title=\"Long Lat Restored Profiling Report\")\n",
    "profile.to_file(\"../long-lat-restored-profiling.html\")"
   ]
  },
  {
   "cell_type": "markdown",
   "metadata": {},
   "source": [
    "# Long Lat Restored\n",
    "\n",
    "- In the intermediate results we still need to clean up the arrival_delay_m and the departure_delay_m feature\n",
    "    - may be critical since we do not know the exact arrival_plan and departure_plan -> due to the explosion of the path variable\n",
    "    - however, we still need to mitigate this problem as this feature is highly correlated to the target variable -> so this target variable needs to be fully reconstructed\n",
    "- why do we have a feature where it is always NaN?"
   ]
  },
  {
   "cell_type": "markdown",
   "metadata": {},
   "source": [
    "# Research Papers\n",
    "- Accidents\n",
    "- Follow Up and Traffic Changes\n",
    "- Signal Disturbance\n",
    "- Overflow Electricity\n",
    "- Speed restrictions \n",
    "\n",
    "Although I do not know from where we should get these data in the first place"
   ]
  }
 ],
 "metadata": {
  "kernelspec": {
   "display_name": "data_mining",
   "language": "python",
   "name": "python3"
  },
  "language_info": {
   "codemirror_mode": {
    "name": "ipython",
    "version": 3
   },
   "file_extension": ".py",
   "mimetype": "text/x-python",
   "name": "python",
   "nbconvert_exporter": "python",
   "pygments_lexer": "ipython3",
   "version": "3.11.10"
  }
 },
 "nbformat": 4,
 "nbformat_minor": 2
}
