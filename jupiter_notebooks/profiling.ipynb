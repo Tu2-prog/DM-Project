{
 "cells": [
  {
   "cell_type": "code",
   "execution_count": 13,
   "metadata": {},
   "outputs": [],
   "source": [
    "import pandas as pd\n",
    "from ydata_profiling import ProfileReport"
   ]
  },
  {
   "cell_type": "code",
   "execution_count": 14,
   "metadata": {},
   "outputs": [
    {
     "name": "stderr",
     "output_type": "stream",
     "text": [
      "Summarize dataset: 100%|██████████| 66/66 [01:33<00:00,  1.41s/it, Completed]                                   \n",
      "Generate report structure: 100%|██████████| 1/1 [00:07<00:00,  7.34s/it]\n",
      "Render HTML: 100%|██████████| 1/1 [00:00<00:00,  1.01it/s]\n",
      "Export report to file: 100%|██████████| 1/1 [00:00<00:00, 60.94it/s]\n"
     ]
    }
   ],
   "source": [
    "df = pd.read_csv(\"../DBtrainrides.csv\")\n",
    "profile = ProfileReport(df, title=\"Initial Profile Report\")\n",
    "profile.to_file(\"../initial_profiling.html\")"
   ]
  },
  {
   "cell_type": "code",
   "execution_count": 15,
   "metadata": {},
   "outputs": [
    {
     "name": "stderr",
     "output_type": "stream",
     "text": [
      "Summarize dataset:  12%|█▏        | 6/49 [00:05<00:25,  1.71it/s, Describe variable:ID_Timestamp]         /home/tu2/anaconda3/envs/data_mining/lib/python3.11/site-packages/ydata_profiling/model/pandas/describe_numeric_pandas.py:133: RuntimeWarning: overflow encountered in scalar subtract\n",
      "  stats[\"range\"] = stats[\"max\"] - stats[\"min\"]\n",
      "Summarize dataset:  90%|█████████ | 46/51 [00:38<00:01,  3.17it/s, Calculate auto correlation]                        /home/tu2/anaconda3/envs/data_mining/lib/python3.11/site-packages/pandas/core/reshape/tile.py:404: RuntimeWarning: overflow encountered in scalar subtract\n",
      "  adj = (mx - mn) * 0.001  # 0.1% of the range\n",
      "/home/tu2/anaconda3/envs/data_mining/lib/python3.11/site-packages/ydata_profiling/model/pandas/discretize_pandas.py:52: FutureWarning: Setting an item of incompatible dtype is deprecated and will raise in a future error of pandas. Value '[4. 4. 4. ... 5. 5. 5.]' has dtype incompatible with int64, please explicitly cast to a compatible dtype first.\n",
      "  discretized_df.loc[:, column] = self._discretize_column(\n",
      "Summarize dataset: 100%|██████████| 954/954 [08:45<00:00,  1.82it/s, Completed]                                                                 \n",
      "Generate report structure: 100%|██████████| 1/1 [00:10<00:00, 10.14s/it]\n",
      "Render HTML: 100%|██████████| 1/1 [00:13<00:00, 13.61s/it]\n",
      "Export report to file: 100%|██████████| 1/1 [00:00<00:00,  6.22it/s]\n"
     ]
    }
   ],
   "source": [
    "df = pd.read_csv(\"../DBtrainrides_final_result.csv\")\n",
    "profile = ProfileReport(df, title=\"Profiling Report\")\n",
    "profile.to_file(\"../profiling.html\")"
   ]
  }
 ],
 "metadata": {
  "kernelspec": {
   "display_name": "data_mining",
   "language": "python",
   "name": "python3"
  },
  "language_info": {
   "codemirror_mode": {
    "name": "ipython",
    "version": 3
   },
   "file_extension": ".py",
   "mimetype": "text/x-python",
   "name": "python",
   "nbconvert_exporter": "python",
   "pygments_lexer": "ipython3",
   "version": "3.11.10"
  }
 },
 "nbformat": 4,
 "nbformat_minor": 2
}
