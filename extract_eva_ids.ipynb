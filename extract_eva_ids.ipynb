{
 "cells": [
  {
   "metadata": {
    "ExecuteTime": {
     "end_time": "2024-11-01T09:28:18.705487Z",
     "start_time": "2024-11-01T09:28:13.973777Z"
    }
   },
   "cell_type": "code",
   "source": "#!pip install pdfplumber",
   "id": "9a9074f3c7195a02",
   "outputs": [
    {
     "name": "stdout",
     "output_type": "stream",
     "text": [
      "Collecting pdfplumber\n",
      "  Downloading pdfplumber-0.11.4-py3-none-any.whl.metadata (41 kB)\n",
      "     ---------------------------------------- 0.0/42.0 kB ? eta -:--:--\n",
      "     --------------------------- ---------- 30.7/42.0 kB 660.6 kB/s eta 0:00:01\n",
      "     -------------------------------------- 42.0/42.0 kB 675.6 kB/s eta 0:00:00\n",
      "Collecting pdfminer.six==20231228 (from pdfplumber)\n",
      "  Downloading pdfminer.six-20231228-py3-none-any.whl.metadata (4.2 kB)\n",
      "Requirement already satisfied: Pillow>=9.1 in c:\\users\\georg\\miniconda3\\lib\\site-packages (from pdfplumber) (10.2.0)\n",
      "Collecting pypdfium2>=4.18.0 (from pdfplumber)\n",
      "  Downloading pypdfium2-4.30.0-py3-none-win_amd64.whl.metadata (48 kB)\n",
      "     ---------------------------------------- 0.0/48.5 kB ? eta -:--:--\n",
      "     --------------------------------- ------ 41.0/48.5 kB 2.0 MB/s eta 0:00:01\n",
      "     --------------------------------- ------ 41.0/48.5 kB 2.0 MB/s eta 0:00:01\n",
      "     --------------------------------- ------ 41.0/48.5 kB 2.0 MB/s eta 0:00:01\n",
      "     -------------------------------------- 48.5/48.5 kB 222.5 kB/s eta 0:00:00\n",
      "Requirement already satisfied: charset-normalizer>=2.0.0 in c:\\users\\georg\\miniconda3\\lib\\site-packages (from pdfminer.six==20231228->pdfplumber) (2.0.4)\n",
      "Requirement already satisfied: cryptography>=36.0.0 in c:\\users\\georg\\miniconda3\\lib\\site-packages (from pdfminer.six==20231228->pdfplumber) (42.0.5)\n",
      "Requirement already satisfied: cffi>=1.12 in c:\\users\\georg\\miniconda3\\lib\\site-packages (from cryptography>=36.0.0->pdfminer.six==20231228->pdfplumber) (1.16.0)\n",
      "Requirement already satisfied: pycparser in c:\\users\\georg\\miniconda3\\lib\\site-packages (from cffi>=1.12->cryptography>=36.0.0->pdfminer.six==20231228->pdfplumber) (2.21)\n",
      "Downloading pdfplumber-0.11.4-py3-none-any.whl (59 kB)\n",
      "   ---------------------------------------- 0.0/59.2 kB ? eta -:--:--\n",
      "   ---------------------------------------- 59.2/59.2 kB ? eta 0:00:00\n",
      "Downloading pdfminer.six-20231228-py3-none-any.whl (5.6 MB)\n",
      "   ---------------------------------------- 0.0/5.6 MB ? eta -:--:--\n",
      "   ----- ---------------------------------- 0.8/5.6 MB 26.1 MB/s eta 0:00:01\n",
      "   --------------- ------------------------ 2.1/5.6 MB 27.3 MB/s eta 0:00:01\n",
      "   ------------------------- -------------- 3.6/5.6 MB 28.5 MB/s eta 0:00:01\n",
      "   --------------------------------- ------ 4.7/5.6 MB 27.2 MB/s eta 0:00:01\n",
      "   ---------------------------------------  5.6/5.6 MB 27.6 MB/s eta 0:00:01\n",
      "   ---------------------------------------- 5.6/5.6 MB 23.9 MB/s eta 0:00:00\n",
      "Downloading pypdfium2-4.30.0-py3-none-win_amd64.whl (2.9 MB)\n",
      "   ---------------------------------------- 0.0/2.9 MB ? eta -:--:--\n",
      "   ---------- ----------------------------- 0.8/2.9 MB 24.1 MB/s eta 0:00:01\n",
      "   ------------------------------- -------- 2.3/2.9 MB 24.1 MB/s eta 0:00:01\n",
      "   ---------------------------------------- 2.9/2.9 MB 23.1 MB/s eta 0:00:00\n",
      "Installing collected packages: pypdfium2, pdfminer.six, pdfplumber\n",
      "Successfully installed pdfminer.six-20231228 pdfplumber-0.11.4 pypdfium2-4.30.0\n"
     ]
    }
   ],
   "execution_count": 1
  },
  {
   "cell_type": "code",
   "id": "8c9fefea9323b96c",
   "metadata": {
    "collapsed": true,
    "ExecuteTime": {
     "end_time": "2024-11-01T09:28:43.924330Z",
     "start_time": "2024-11-01T09:28:43.846577Z"
    }
   },
   "source": "import pdfplumber",
   "outputs": [],
   "execution_count": 2
  },
  {
   "metadata": {
    "ExecuteTime": {
     "end_time": "2024-11-01T09:30:18.431864Z",
     "start_time": "2024-11-01T09:30:13.385709Z"
    }
   },
   "cell_type": "code",
   "source": [
    "# Open the PDF file\n",
    "with pdfplumber.open('20141001_IBNR.pdf') as pdf:\n",
    "    text = \"\"\n",
    "    for page in pdf.pages:\n",
    "        text += page.extract_text() + \"\\n\"\n",
    "\n",
    "# Save the extracted text to a file\n",
    "with open('extracted_text.txt', 'w', encoding='utf-8') as f:\n",
    "    f.write(text)"
   ],
   "id": "initial_id",
   "outputs": [],
   "execution_count": 3
  },
  {
   "metadata": {
    "ExecuteTime": {
     "end_time": "2024-11-01T09:35:01.233777Z",
     "start_time": "2024-11-01T09:35:01.217629Z"
    }
   },
   "cell_type": "code",
   "source": [
    "import csv\n",
    "\n",
    "# Read from the text file\n",
    "with open('extracted_text.txt', 'r', encoding='utf-8') as infile:\n",
    "    lines = infile.readlines()\n",
    "\n",
    "# Open the output CSV file\n",
    "with open('stations.csv', 'w', newline='', encoding='utf-8') as outfile:\n",
    "    writer = csv.writer(outfile)\n",
    "    writer.writerow(['Station Name', 'IBNR'])  # Write header\n",
    "\n",
    "    # Process each line, skipping metadata and separating station name and IBNR\n",
    "    for line in lines:\n",
    "        # Remove extra whitespace and skip irrelevant lines\n",
    "        line = line.strip()\n",
    "        if not line or \"IBNR\" in line or \"OpenStreetMap\" in line:\n",
    "            continue\n",
    "\n",
    "        # Split into station name and IBNR code (assuming IBNR is always the last item)\n",
    "        parts = line.split()\n",
    "        station_name = ' '.join(parts[:-1])  # Everything except the last part\n",
    "        ibnr_number = parts[-1]  # Last part as IBNR\n",
    "\n",
    "        # Write to CSV\n",
    "        writer.writerow([station_name, ibnr_number])\n",
    "\n",
    "print(\"Data successfully cleaned and saved to 'stations.csv'\")"
   ],
   "id": "9c1fa63d7de42b5f",
   "outputs": [
    {
     "name": "stdout",
     "output_type": "stream",
     "text": [
      "Data successfully cleaned and saved to 'stations.csv'\n"
     ]
    }
   ],
   "execution_count": 9
  },
  {
   "metadata": {
    "ExecuteTime": {
     "end_time": "2024-11-01T11:42:52.025124Z",
     "start_time": "2024-11-01T11:42:51.980478Z"
    }
   },
   "cell_type": "code",
   "source": [
    "import csv\n",
    "\n",
    "# Define file paths for input and output\n",
    "input_file_path = 'deutschland_nr.csv'  # Replace with the actual file path if needed\n",
    "output_file_path = 'stations_v2.csv'\n",
    "\n",
    "# Open and read from the uploaded file\n",
    "with open(input_file_path, 'r', encoding='latin1') as infile:\n",
    "    lines = infile.readlines()\n",
    "\n",
    "# Open the output CSV file\n",
    "with open(output_file_path, 'w', newline='', encoding='utf-8') as outfile:\n",
    "    writer = csv.writer(outfile)\n",
    "    writer.writerow(['IBNR', 'Station Name'])  # Write header\n",
    "\n",
    "    # Process each line\n",
    "    for line in lines:\n",
    "        # Strip extra whitespace\n",
    "        line = line.strip()\n",
    "        \n",
    "        # Split by semicolon to separate IBNR and names\n",
    "        parts = line.split(';')\n",
    "        ibnr_number = parts[0]  # The first element is IBNR\n",
    "        \n",
    "        # Process all station names if they exist, skip if empty\n",
    "        station_names = [name for name in parts[1:] if name]\n",
    "        \n",
    "        # Write each station name with the same IBNR in the CSV\n",
    "        for station_name in station_names:\n",
    "            writer.writerow([ibnr_number, station_name])\n",
    "\n",
    "print(\"Data successfully cleaned and saved to 'stations_v2.csv'\")"
   ],
   "id": "efd399e4e4598cff",
   "outputs": [
    {
     "name": "stdout",
     "output_type": "stream",
     "text": [
      "Data successfully cleaned and saved to 'stations_v2.csv'\n"
     ]
    }
   ],
   "execution_count": 10
  }
 ],
 "metadata": {
  "kernelspec": {
   "display_name": "Python 3",
   "language": "python",
   "name": "python3"
  },
  "language_info": {
   "codemirror_mode": {
    "name": "ipython",
    "version": 2
   },
   "file_extension": ".py",
   "mimetype": "text/x-python",
   "name": "python",
   "nbconvert_exporter": "python",
   "pygments_lexer": "ipython2",
   "version": "2.7.6"
  }
 },
 "nbformat": 4,
 "nbformat_minor": 5
}
