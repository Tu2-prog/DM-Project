{
 "cells": [
  {
   "cell_type": "code",
   "id": "initial_id",
   "metadata": {
    "ExecuteTime": {
     "end_time": "2024-11-04T19:07:18.256714Z",
     "start_time": "2024-11-04T19:07:17.924416Z"
    }
   },
   "source": [
    "import pandas as pd\n",
    "import numpy as np"
   ],
   "outputs": [],
   "execution_count": 1
  },
  {
   "cell_type": "code",
   "id": "3e163ad16df9d843",
   "metadata": {
    "ExecuteTime": {
     "end_time": "2024-11-04T19:07:24.317006Z",
     "start_time": "2024-11-04T19:07:18.258226Z"
    }
   },
   "source": [
    "train_rides_df = pd.read_csv('DBtrainrides.csv')"
   ],
   "outputs": [],
   "execution_count": 2
  },
  {
   "metadata": {
    "ExecuteTime": {
     "end_time": "2024-11-04T19:07:26.419703Z",
     "start_time": "2024-11-04T19:07:24.318290Z"
    }
   },
   "cell_type": "code",
   "source": [
    "# Split the ID column into 'ID_Base' and 'ID_Number'\n",
    "train_rides_df[['ID_Base', 'ID_Timestamp', 'ID_Stop_Number']] = train_rides_df['ID'].str.rsplit('-', n=2, expand=True)\n",
    "\n",
    "# Convert 'ID_Number' to numeric\n",
    "train_rides_df['ID_Stop_Number'] = pd.to_numeric(train_rides_df['ID_Stop_Number'])"
   ],
   "id": "9449afd8ca0b8a08",
   "outputs": [],
   "execution_count": 3
  },
  {
   "metadata": {
    "ExecuteTime": {
     "end_time": "2024-11-04T19:07:27.382786Z",
     "start_time": "2024-11-04T19:07:26.420706Z"
    }
   },
   "cell_type": "code",
   "source": [
    "# Rename 'eva_nr' to 'starting_station_IBNR'\n",
    "train_rides_df = train_rides_df.rename(columns={'eva_nr': 'starting_station_IBNR'})\n",
    "\n",
    "# Drop starting station string, time and accompanying data \n",
    "train_rides_df.drop(['station', 'state', 'city', 'long', 'lat', 'category'], axis=1, inplace=True)\n",
    "train_rides_df.drop(['arrival_plan', 'departure_plan', 'arrival_change', 'departure_change', 'arrival_delay_m', 'departure_delay_m', 'info', 'arrival_delay_check', 'departure_delay_check'], axis=1, inplace=True)"
   ],
   "id": "4557200d16f14034",
   "outputs": [],
   "execution_count": 4
  },
  {
   "metadata": {
    "ExecuteTime": {
     "end_time": "2024-11-04T19:07:27.607973Z",
     "start_time": "2024-11-04T19:07:27.383791Z"
    }
   },
   "cell_type": "code",
   "source": [
    "# Remove 'ID' column and reorder columns so 'ID_Base', 'ID_Number', 'ID_Timestamp' are at the start\n",
    "new_column_order = ['ID_Base', 'ID_Timestamp', 'ID_Stop_Number'] + [col for col in train_rides_df.columns if\n",
    "                                                                    col not in ['ID', 'ID_Base',\n",
    "                                                                                'ID_Timestamp', 'ID_Stop_Number',\n",
    "                                                                                ]\n",
    "                                                                    ]\n",
    "train_rides_df = train_rides_df.drop(columns=['ID'])\n",
    "train_rides_df = train_rides_df[new_column_order]"
   ],
   "id": "b9bdec241684b8dd",
   "outputs": [],
   "execution_count": 5
  },
  {
   "cell_type": "code",
   "id": "c6eef97a",
   "metadata": {
    "ExecuteTime": {
     "end_time": "2024-11-04T19:07:27.617748Z",
     "start_time": "2024-11-04T19:07:27.608976Z"
    }
   },
   "source": [
    "# Display the first few rows of the train rides DataFrame\n",
    "train_rides_df.head()"
   ],
   "outputs": [
    {
     "data": {
      "text/plain": [
       "               ID_Base ID_Timestamp  ID_Stop_Number line  \\\n",
       "0  1573967790757085557   2407072312              14   20   \n",
       "1   349781417030375472   2407080017               1   18   \n",
       "2  7157250219775883918   2407072120              25    1   \n",
       "3   349781417030375472   2407080017               2   18   \n",
       "4  1983158592123451570   2407080010               3   33   \n",
       "\n",
       "                                                path  starting_station_IBNR  \\\n",
       "0  Stolberg(Rheinl)Hbf Gl.44|Eschweiler-St.Jöris|...                8000001   \n",
       "1                                                NaN                8000001   \n",
       "2  Hamm(Westf)Hbf|Kamen|Kamen-Methler|Dortmund-Ku...                8000406   \n",
       "3                                         Aachen Hbf                8000404   \n",
       "4                            Herzogenrath|Kohlscheid                8000404   \n",
       "\n",
       "     zip  \n",
       "0  52064  \n",
       "1  52064  \n",
       "2  52066  \n",
       "3  52072  \n",
       "4  52072  "
      ],
      "text/html": [
       "<div>\n",
       "<style scoped>\n",
       "    .dataframe tbody tr th:only-of-type {\n",
       "        vertical-align: middle;\n",
       "    }\n",
       "\n",
       "    .dataframe tbody tr th {\n",
       "        vertical-align: top;\n",
       "    }\n",
       "\n",
       "    .dataframe thead th {\n",
       "        text-align: right;\n",
       "    }\n",
       "</style>\n",
       "<table border=\"1\" class=\"dataframe\">\n",
       "  <thead>\n",
       "    <tr style=\"text-align: right;\">\n",
       "      <th></th>\n",
       "      <th>ID_Base</th>\n",
       "      <th>ID_Timestamp</th>\n",
       "      <th>ID_Stop_Number</th>\n",
       "      <th>line</th>\n",
       "      <th>path</th>\n",
       "      <th>starting_station_IBNR</th>\n",
       "      <th>zip</th>\n",
       "    </tr>\n",
       "  </thead>\n",
       "  <tbody>\n",
       "    <tr>\n",
       "      <th>0</th>\n",
       "      <td>1573967790757085557</td>\n",
       "      <td>2407072312</td>\n",
       "      <td>14</td>\n",
       "      <td>20</td>\n",
       "      <td>Stolberg(Rheinl)Hbf Gl.44|Eschweiler-St.Jöris|...</td>\n",
       "      <td>8000001</td>\n",
       "      <td>52064</td>\n",
       "    </tr>\n",
       "    <tr>\n",
       "      <th>1</th>\n",
       "      <td>349781417030375472</td>\n",
       "      <td>2407080017</td>\n",
       "      <td>1</td>\n",
       "      <td>18</td>\n",
       "      <td>NaN</td>\n",
       "      <td>8000001</td>\n",
       "      <td>52064</td>\n",
       "    </tr>\n",
       "    <tr>\n",
       "      <th>2</th>\n",
       "      <td>7157250219775883918</td>\n",
       "      <td>2407072120</td>\n",
       "      <td>25</td>\n",
       "      <td>1</td>\n",
       "      <td>Hamm(Westf)Hbf|Kamen|Kamen-Methler|Dortmund-Ku...</td>\n",
       "      <td>8000406</td>\n",
       "      <td>52066</td>\n",
       "    </tr>\n",
       "    <tr>\n",
       "      <th>3</th>\n",
       "      <td>349781417030375472</td>\n",
       "      <td>2407080017</td>\n",
       "      <td>2</td>\n",
       "      <td>18</td>\n",
       "      <td>Aachen Hbf</td>\n",
       "      <td>8000404</td>\n",
       "      <td>52072</td>\n",
       "    </tr>\n",
       "    <tr>\n",
       "      <th>4</th>\n",
       "      <td>1983158592123451570</td>\n",
       "      <td>2407080010</td>\n",
       "      <td>3</td>\n",
       "      <td>33</td>\n",
       "      <td>Herzogenrath|Kohlscheid</td>\n",
       "      <td>8000404</td>\n",
       "      <td>52072</td>\n",
       "    </tr>\n",
       "  </tbody>\n",
       "</table>\n",
       "</div>"
      ]
     },
     "execution_count": 6,
     "metadata": {},
     "output_type": "execute_result"
    }
   ],
   "execution_count": 6
  },
  {
   "cell_type": "code",
   "id": "65bd1f15",
   "metadata": {
    "ExecuteTime": {
     "end_time": "2024-11-04T19:07:27.797623Z",
     "start_time": "2024-11-04T19:07:27.618752Z"
    }
   },
   "source": [
    "# Count missing values to understand data quality\n",
    "train_rides_df.count()"
   ],
   "outputs": [
    {
     "data": {
      "text/plain": [
       "ID_Base                  2061357\n",
       "ID_Timestamp             2061357\n",
       "ID_Stop_Number           2061357\n",
       "line                     2061357\n",
       "path                     1850002\n",
       "starting_station_IBNR    2061357\n",
       "zip                      2061357\n",
       "dtype: int64"
      ]
     },
     "execution_count": 7,
     "metadata": {},
     "output_type": "execute_result"
    }
   ],
   "execution_count": 7
  },
  {
   "cell_type": "code",
   "id": "2f609c9d",
   "metadata": {
    "ExecuteTime": {
     "end_time": "2024-11-04T19:07:27.835869Z",
     "start_time": "2024-11-04T19:07:27.798630Z"
    }
   },
   "source": [
    "# Group by 'zip' to understand distribution\n",
    "zip_df = train_rides_df.groupby('zip').size().reset_index(name='count')\n",
    "zip_df"
   ],
   "outputs": [
    {
     "data": {
      "text/plain": [
       "        zip  count\n",
       "0      1067   2458\n",
       "1      1069   2045\n",
       "2      1097   3305\n",
       "3      1109   1800\n",
       "4      1127    597\n",
       "...     ...    ...\n",
       "1646  99817    453\n",
       "1647  99867    494\n",
       "1648  99880    424\n",
       "1649  99947    453\n",
       "1650  99974    421\n",
       "\n",
       "[1651 rows x 2 columns]"
      ],
      "text/html": [
       "<div>\n",
       "<style scoped>\n",
       "    .dataframe tbody tr th:only-of-type {\n",
       "        vertical-align: middle;\n",
       "    }\n",
       "\n",
       "    .dataframe tbody tr th {\n",
       "        vertical-align: top;\n",
       "    }\n",
       "\n",
       "    .dataframe thead th {\n",
       "        text-align: right;\n",
       "    }\n",
       "</style>\n",
       "<table border=\"1\" class=\"dataframe\">\n",
       "  <thead>\n",
       "    <tr style=\"text-align: right;\">\n",
       "      <th></th>\n",
       "      <th>zip</th>\n",
       "      <th>count</th>\n",
       "    </tr>\n",
       "  </thead>\n",
       "  <tbody>\n",
       "    <tr>\n",
       "      <th>0</th>\n",
       "      <td>1067</td>\n",
       "      <td>2458</td>\n",
       "    </tr>\n",
       "    <tr>\n",
       "      <th>1</th>\n",
       "      <td>1069</td>\n",
       "      <td>2045</td>\n",
       "    </tr>\n",
       "    <tr>\n",
       "      <th>2</th>\n",
       "      <td>1097</td>\n",
       "      <td>3305</td>\n",
       "    </tr>\n",
       "    <tr>\n",
       "      <th>3</th>\n",
       "      <td>1109</td>\n",
       "      <td>1800</td>\n",
       "    </tr>\n",
       "    <tr>\n",
       "      <th>4</th>\n",
       "      <td>1127</td>\n",
       "      <td>597</td>\n",
       "    </tr>\n",
       "    <tr>\n",
       "      <th>...</th>\n",
       "      <td>...</td>\n",
       "      <td>...</td>\n",
       "    </tr>\n",
       "    <tr>\n",
       "      <th>1646</th>\n",
       "      <td>99817</td>\n",
       "      <td>453</td>\n",
       "    </tr>\n",
       "    <tr>\n",
       "      <th>1647</th>\n",
       "      <td>99867</td>\n",
       "      <td>494</td>\n",
       "    </tr>\n",
       "    <tr>\n",
       "      <th>1648</th>\n",
       "      <td>99880</td>\n",
       "      <td>424</td>\n",
       "    </tr>\n",
       "    <tr>\n",
       "      <th>1649</th>\n",
       "      <td>99947</td>\n",
       "      <td>453</td>\n",
       "    </tr>\n",
       "    <tr>\n",
       "      <th>1650</th>\n",
       "      <td>99974</td>\n",
       "      <td>421</td>\n",
       "    </tr>\n",
       "  </tbody>\n",
       "</table>\n",
       "<p>1651 rows × 2 columns</p>\n",
       "</div>"
      ]
     },
     "execution_count": 8,
     "metadata": {},
     "output_type": "execute_result"
    }
   ],
   "execution_count": 8
  },
  {
   "cell_type": "code",
   "id": "70eb5756",
   "metadata": {
    "ExecuteTime": {
     "end_time": "2024-11-04T19:07:27.856120Z",
     "start_time": "2024-11-04T19:07:27.835869Z"
    }
   },
   "source": [
    "# Step 2: Create a new DataFrame with a count of how often each 'eva_nr' is mentioned\n",
    "station_mapping_df = train_rides_df['starting_station_IBNR'].value_counts().reset_index()\n",
    "station_mapping_df.columns = ['starting_station_IBNR', 'count']\n",
    "station_mapping_df"
   ],
   "outputs": [
    {
     "data": {
      "text/plain": [
       "      starting_station_IBNR  count\n",
       "0                   8004128   8732\n",
       "1                   8089047   8312\n",
       "2                   8000262   7814\n",
       "3                   8004132   7598\n",
       "4                   8004131   7382\n",
       "...                     ...    ...\n",
       "1991                8007768     95\n",
       "1992                8005644     74\n",
       "1993                8005543     49\n",
       "1994                8010035      5\n",
       "1995                8010241      5\n",
       "\n",
       "[1996 rows x 2 columns]"
      ],
      "text/html": [
       "<div>\n",
       "<style scoped>\n",
       "    .dataframe tbody tr th:only-of-type {\n",
       "        vertical-align: middle;\n",
       "    }\n",
       "\n",
       "    .dataframe tbody tr th {\n",
       "        vertical-align: top;\n",
       "    }\n",
       "\n",
       "    .dataframe thead th {\n",
       "        text-align: right;\n",
       "    }\n",
       "</style>\n",
       "<table border=\"1\" class=\"dataframe\">\n",
       "  <thead>\n",
       "    <tr style=\"text-align: right;\">\n",
       "      <th></th>\n",
       "      <th>starting_station_IBNR</th>\n",
       "      <th>count</th>\n",
       "    </tr>\n",
       "  </thead>\n",
       "  <tbody>\n",
       "    <tr>\n",
       "      <th>0</th>\n",
       "      <td>8004128</td>\n",
       "      <td>8732</td>\n",
       "    </tr>\n",
       "    <tr>\n",
       "      <th>1</th>\n",
       "      <td>8089047</td>\n",
       "      <td>8312</td>\n",
       "    </tr>\n",
       "    <tr>\n",
       "      <th>2</th>\n",
       "      <td>8000262</td>\n",
       "      <td>7814</td>\n",
       "    </tr>\n",
       "    <tr>\n",
       "      <th>3</th>\n",
       "      <td>8004132</td>\n",
       "      <td>7598</td>\n",
       "    </tr>\n",
       "    <tr>\n",
       "      <th>4</th>\n",
       "      <td>8004131</td>\n",
       "      <td>7382</td>\n",
       "    </tr>\n",
       "    <tr>\n",
       "      <th>...</th>\n",
       "      <td>...</td>\n",
       "      <td>...</td>\n",
       "    </tr>\n",
       "    <tr>\n",
       "      <th>1991</th>\n",
       "      <td>8007768</td>\n",
       "      <td>95</td>\n",
       "    </tr>\n",
       "    <tr>\n",
       "      <th>1992</th>\n",
       "      <td>8005644</td>\n",
       "      <td>74</td>\n",
       "    </tr>\n",
       "    <tr>\n",
       "      <th>1993</th>\n",
       "      <td>8005543</td>\n",
       "      <td>49</td>\n",
       "    </tr>\n",
       "    <tr>\n",
       "      <th>1994</th>\n",
       "      <td>8010035</td>\n",
       "      <td>5</td>\n",
       "    </tr>\n",
       "    <tr>\n",
       "      <th>1995</th>\n",
       "      <td>8010241</td>\n",
       "      <td>5</td>\n",
       "    </tr>\n",
       "  </tbody>\n",
       "</table>\n",
       "<p>1996 rows × 2 columns</p>\n",
       "</div>"
      ]
     },
     "execution_count": 9,
     "metadata": {},
     "output_type": "execute_result"
    }
   ],
   "execution_count": 9
  },
  {
   "cell_type": "code",
   "id": "ef2ce7e6",
   "metadata": {
    "ExecuteTime": {
     "end_time": "2024-11-04T19:07:27.861863Z",
     "start_time": "2024-11-04T19:07:27.857125Z"
    }
   },
   "source": [
    "# Count number of unique 'eva_nr' to understand the spread across different stations\n",
    "station_mapping_df.count()"
   ],
   "outputs": [
    {
     "data": {
      "text/plain": [
       "starting_station_IBNR    1996\n",
       "count                    1996\n",
       "dtype: int64"
      ]
     },
     "execution_count": 10,
     "metadata": {},
     "output_type": "execute_result"
    }
   ],
   "execution_count": 10
  },
  {
   "metadata": {
    "ExecuteTime": {
     "end_time": "2024-11-04T19:07:28.660447Z",
     "start_time": "2024-11-04T19:07:27.862867Z"
    }
   },
   "cell_type": "code",
   "source": [
    "# Step 1: Group by 'ID_Base' and 'ID_Timestamp', then find the maximum 'ID_Stop_Number'\n",
    "# Use idxmax() to get the index of the row with the highest 'ID_Stop_Number' for each group\n",
    "max_stop_numbers_idx = train_rides_df.groupby(['ID_Base', 'ID_Timestamp'])['ID_Stop_Number'].idxmax()\n",
    "\n",
    "# Step 2: Filter the DataFrame to keep only the rows with the highest 'ID_Stop_Number' per group\n",
    "max_stop_numbers_df = train_rides_df.loc[max_stop_numbers_idx]\n",
    "\n",
    "# Step 3: Remove duplicates: drop rows with the same 'ID_Base' and 'ID_Timestamp'\n",
    "max_stop_numbers_df = max_stop_numbers_df.drop_duplicates(subset=['ID_Base', 'ID_Timestamp'], keep='first')\n",
    "\n",
    "max_stop_numbers_df = max_stop_numbers_df.sort_values(by=['starting_station_IBNR', 'ID_Base', 'ID_Timestamp'])\n",
    "\n",
    "max_stop_numbers_df.head()"
   ],
   "id": "c2b16b957c119f8a",
   "outputs": [
    {
     "data": {
      "text/plain": [
       "                      ID_Base ID_Timestamp  ID_Stop_Number line path  \\\n",
       "286645   -2065137557584893414   2407082237               1   29  NaN   \n",
       "595517   -2065137557584893414   2407092237               1   29  NaN   \n",
       "906467   -2065137557584893414   2407102237               1   29  NaN   \n",
       "1216357  -2065137557584893414   2407112237               1   29  NaN   \n",
       "1523701  -2065137557584893414   2407122237               1   29  NaN   \n",
       "\n",
       "         starting_station_IBNR    zip  \n",
       "286645                 8000001  52064  \n",
       "595517                 8000001  52064  \n",
       "906467                 8000001  52064  \n",
       "1216357                8000001  52064  \n",
       "1523701                8000001  52064  "
      ],
      "text/html": [
       "<div>\n",
       "<style scoped>\n",
       "    .dataframe tbody tr th:only-of-type {\n",
       "        vertical-align: middle;\n",
       "    }\n",
       "\n",
       "    .dataframe tbody tr th {\n",
       "        vertical-align: top;\n",
       "    }\n",
       "\n",
       "    .dataframe thead th {\n",
       "        text-align: right;\n",
       "    }\n",
       "</style>\n",
       "<table border=\"1\" class=\"dataframe\">\n",
       "  <thead>\n",
       "    <tr style=\"text-align: right;\">\n",
       "      <th></th>\n",
       "      <th>ID_Base</th>\n",
       "      <th>ID_Timestamp</th>\n",
       "      <th>ID_Stop_Number</th>\n",
       "      <th>line</th>\n",
       "      <th>path</th>\n",
       "      <th>starting_station_IBNR</th>\n",
       "      <th>zip</th>\n",
       "    </tr>\n",
       "  </thead>\n",
       "  <tbody>\n",
       "    <tr>\n",
       "      <th>286645</th>\n",
       "      <td>-2065137557584893414</td>\n",
       "      <td>2407082237</td>\n",
       "      <td>1</td>\n",
       "      <td>29</td>\n",
       "      <td>NaN</td>\n",
       "      <td>8000001</td>\n",
       "      <td>52064</td>\n",
       "    </tr>\n",
       "    <tr>\n",
       "      <th>595517</th>\n",
       "      <td>-2065137557584893414</td>\n",
       "      <td>2407092237</td>\n",
       "      <td>1</td>\n",
       "      <td>29</td>\n",
       "      <td>NaN</td>\n",
       "      <td>8000001</td>\n",
       "      <td>52064</td>\n",
       "    </tr>\n",
       "    <tr>\n",
       "      <th>906467</th>\n",
       "      <td>-2065137557584893414</td>\n",
       "      <td>2407102237</td>\n",
       "      <td>1</td>\n",
       "      <td>29</td>\n",
       "      <td>NaN</td>\n",
       "      <td>8000001</td>\n",
       "      <td>52064</td>\n",
       "    </tr>\n",
       "    <tr>\n",
       "      <th>1216357</th>\n",
       "      <td>-2065137557584893414</td>\n",
       "      <td>2407112237</td>\n",
       "      <td>1</td>\n",
       "      <td>29</td>\n",
       "      <td>NaN</td>\n",
       "      <td>8000001</td>\n",
       "      <td>52064</td>\n",
       "    </tr>\n",
       "    <tr>\n",
       "      <th>1523701</th>\n",
       "      <td>-2065137557584893414</td>\n",
       "      <td>2407122237</td>\n",
       "      <td>1</td>\n",
       "      <td>29</td>\n",
       "      <td>NaN</td>\n",
       "      <td>8000001</td>\n",
       "      <td>52064</td>\n",
       "    </tr>\n",
       "  </tbody>\n",
       "</table>\n",
       "</div>"
      ]
     },
     "execution_count": 11,
     "metadata": {},
     "output_type": "execute_result"
    }
   ],
   "execution_count": 11
  },
  {
   "metadata": {
    "ExecuteTime": {
     "end_time": "2024-11-04T19:07:28.711684Z",
     "start_time": "2024-11-04T19:07:28.660447Z"
    }
   },
   "cell_type": "code",
   "source": "max_stop_numbers_df.count()",
   "id": "eda9c89189867664",
   "outputs": [
    {
     "data": {
      "text/plain": [
       "ID_Base                  257818\n",
       "ID_Timestamp             257818\n",
       "ID_Stop_Number           257818\n",
       "line                     257818\n",
       "path                     217022\n",
       "starting_station_IBNR    257818\n",
       "zip                      257818\n",
       "dtype: int64"
      ]
     },
     "execution_count": 12,
     "metadata": {},
     "output_type": "execute_result"
    }
   ],
   "execution_count": 12
  },
  {
   "metadata": {
    "ExecuteTime": {
     "end_time": "2024-11-04T19:07:31.116120Z",
     "start_time": "2024-11-04T19:07:28.711684Z"
    }
   },
   "cell_type": "code",
   "source": [
    "# Step 4: Split the 'path' into individual stations by '|', creating a list in each row\n",
    "max_stop_numbers_df = max_stop_numbers_df.assign(last_station=max_stop_numbers_df['path'].str.split('|'))\n",
    "\n",
    "# Step 5: Explode the 'last_station' column to create individual rows for each station\n",
    "exploded_stations_df = max_stop_numbers_df.explode('last_station').drop(columns=['path'])\n",
    "\n",
    "# Step 6: Add a counter to keep track of the sequence of stops within each path\n",
    "exploded_stations_df['stop_number'] = exploded_stations_df.groupby(['ID_Base', 'ID_Timestamp']).cumcount() + 1\n",
    "\n",
    "# Step 8: Sort by 'starting_station_IBNR', 'ID_Base', 'ID_Timestamp', and then 'stop_number'\n",
    "exploded_stations_df = exploded_stations_df.sort_values(by=['starting_station_IBNR', 'ID_Base', 'ID_Timestamp', 'stop_number'])\n",
    "\n",
    "# Reset the index to keep things clean\n",
    "exploded_stations_df.reset_index(drop=True, inplace=True)\n",
    "\n",
    "# Step 9: Fill missing values in 'path' with empty strings\n",
    "max_stop_numbers_df['last_station'] = max_stop_numbers_df['last_station'].replace(\"\", np.nan)\n",
    "\n",
    "# Display the filtered and exploded result\n",
    "exploded_stations_df.head()"
   ],
   "id": "e814e2b761fb694d",
   "outputs": [
    {
     "data": {
      "text/plain": [
       "                ID_Base ID_Timestamp  ID_Stop_Number line  \\\n",
       "0  -2065137557584893414   2407082237               1   29   \n",
       "1  -2065137557584893414   2407092237               1   29   \n",
       "2  -2065137557584893414   2407102237               1   29   \n",
       "3  -2065137557584893414   2407112237               1   29   \n",
       "4  -2065137557584893414   2407122237               1   29   \n",
       "\n",
       "   starting_station_IBNR    zip last_station  stop_number  \n",
       "0                8000001  52064          NaN            1  \n",
       "1                8000001  52064          NaN            1  \n",
       "2                8000001  52064          NaN            1  \n",
       "3                8000001  52064          NaN            1  \n",
       "4                8000001  52064          NaN            1  "
      ],
      "text/html": [
       "<div>\n",
       "<style scoped>\n",
       "    .dataframe tbody tr th:only-of-type {\n",
       "        vertical-align: middle;\n",
       "    }\n",
       "\n",
       "    .dataframe tbody tr th {\n",
       "        vertical-align: top;\n",
       "    }\n",
       "\n",
       "    .dataframe thead th {\n",
       "        text-align: right;\n",
       "    }\n",
       "</style>\n",
       "<table border=\"1\" class=\"dataframe\">\n",
       "  <thead>\n",
       "    <tr style=\"text-align: right;\">\n",
       "      <th></th>\n",
       "      <th>ID_Base</th>\n",
       "      <th>ID_Timestamp</th>\n",
       "      <th>ID_Stop_Number</th>\n",
       "      <th>line</th>\n",
       "      <th>starting_station_IBNR</th>\n",
       "      <th>zip</th>\n",
       "      <th>last_station</th>\n",
       "      <th>stop_number</th>\n",
       "    </tr>\n",
       "  </thead>\n",
       "  <tbody>\n",
       "    <tr>\n",
       "      <th>0</th>\n",
       "      <td>-2065137557584893414</td>\n",
       "      <td>2407082237</td>\n",
       "      <td>1</td>\n",
       "      <td>29</td>\n",
       "      <td>8000001</td>\n",
       "      <td>52064</td>\n",
       "      <td>NaN</td>\n",
       "      <td>1</td>\n",
       "    </tr>\n",
       "    <tr>\n",
       "      <th>1</th>\n",
       "      <td>-2065137557584893414</td>\n",
       "      <td>2407092237</td>\n",
       "      <td>1</td>\n",
       "      <td>29</td>\n",
       "      <td>8000001</td>\n",
       "      <td>52064</td>\n",
       "      <td>NaN</td>\n",
       "      <td>1</td>\n",
       "    </tr>\n",
       "    <tr>\n",
       "      <th>2</th>\n",
       "      <td>-2065137557584893414</td>\n",
       "      <td>2407102237</td>\n",
       "      <td>1</td>\n",
       "      <td>29</td>\n",
       "      <td>8000001</td>\n",
       "      <td>52064</td>\n",
       "      <td>NaN</td>\n",
       "      <td>1</td>\n",
       "    </tr>\n",
       "    <tr>\n",
       "      <th>3</th>\n",
       "      <td>-2065137557584893414</td>\n",
       "      <td>2407112237</td>\n",
       "      <td>1</td>\n",
       "      <td>29</td>\n",
       "      <td>8000001</td>\n",
       "      <td>52064</td>\n",
       "      <td>NaN</td>\n",
       "      <td>1</td>\n",
       "    </tr>\n",
       "    <tr>\n",
       "      <th>4</th>\n",
       "      <td>-2065137557584893414</td>\n",
       "      <td>2407122237</td>\n",
       "      <td>1</td>\n",
       "      <td>29</td>\n",
       "      <td>8000001</td>\n",
       "      <td>52064</td>\n",
       "      <td>NaN</td>\n",
       "      <td>1</td>\n",
       "    </tr>\n",
       "  </tbody>\n",
       "</table>\n",
       "</div>"
      ]
     },
     "execution_count": 13,
     "metadata": {},
     "output_type": "execute_result"
    }
   ],
   "execution_count": 13
  },
  {
   "metadata": {
    "ExecuteTime": {
     "end_time": "2024-11-04T19:07:31.124886Z",
     "start_time": "2024-11-04T19:07:31.117630Z"
    }
   },
   "cell_type": "code",
   "source": "exploded_stations_df",
   "id": "e73aa0443163bce2",
   "outputs": [
    {
     "data": {
      "text/plain": [
       "                      ID_Base ID_Timestamp  ID_Stop_Number line  \\\n",
       "0        -2065137557584893414   2407082237               1   29   \n",
       "1        -2065137557584893414   2407092237               1   29   \n",
       "2        -2065137557584893414   2407102237               1   29   \n",
       "3        -2065137557584893414   2407112237               1   29   \n",
       "4        -2065137557584893414   2407122237               1   29   \n",
       "...                       ...          ...             ...  ...   \n",
       "2785184   6234297817509604666   2407112012              12   70   \n",
       "2785185   6234297817509604666   2407112012              12   70   \n",
       "2785186   6234297817509604666   2407112012              12   70   \n",
       "2785187   6234297817509604666   2407112012              12   70   \n",
       "2785188   6234297817509604666   2407112012              12   70   \n",
       "\n",
       "         starting_station_IBNR    zip       last_station  stop_number  \n",
       "0                      8000001  52064                NaN            1  \n",
       "1                      8000001  52064                NaN            1  \n",
       "2                      8000001  52064                NaN            1  \n",
       "3                      8000001  52064                NaN            1  \n",
       "4                      8000001  52064                NaN            1  \n",
       "...                        ...    ...                ...          ...  \n",
       "2785184                8098360  68642  Stockstadt(Rhein)            7  \n",
       "2785185                8098360  68642         Biebesheim            8  \n",
       "2785186                8098360  68642          Gernsheim            9  \n",
       "2785187                8098360  68642      Groß-Rohrheim           10  \n",
       "2785188                8098360  68642             Biblis           11  \n",
       "\n",
       "[2785189 rows x 8 columns]"
      ],
      "text/html": [
       "<div>\n",
       "<style scoped>\n",
       "    .dataframe tbody tr th:only-of-type {\n",
       "        vertical-align: middle;\n",
       "    }\n",
       "\n",
       "    .dataframe tbody tr th {\n",
       "        vertical-align: top;\n",
       "    }\n",
       "\n",
       "    .dataframe thead th {\n",
       "        text-align: right;\n",
       "    }\n",
       "</style>\n",
       "<table border=\"1\" class=\"dataframe\">\n",
       "  <thead>\n",
       "    <tr style=\"text-align: right;\">\n",
       "      <th></th>\n",
       "      <th>ID_Base</th>\n",
       "      <th>ID_Timestamp</th>\n",
       "      <th>ID_Stop_Number</th>\n",
       "      <th>line</th>\n",
       "      <th>starting_station_IBNR</th>\n",
       "      <th>zip</th>\n",
       "      <th>last_station</th>\n",
       "      <th>stop_number</th>\n",
       "    </tr>\n",
       "  </thead>\n",
       "  <tbody>\n",
       "    <tr>\n",
       "      <th>0</th>\n",
       "      <td>-2065137557584893414</td>\n",
       "      <td>2407082237</td>\n",
       "      <td>1</td>\n",
       "      <td>29</td>\n",
       "      <td>8000001</td>\n",
       "      <td>52064</td>\n",
       "      <td>NaN</td>\n",
       "      <td>1</td>\n",
       "    </tr>\n",
       "    <tr>\n",
       "      <th>1</th>\n",
       "      <td>-2065137557584893414</td>\n",
       "      <td>2407092237</td>\n",
       "      <td>1</td>\n",
       "      <td>29</td>\n",
       "      <td>8000001</td>\n",
       "      <td>52064</td>\n",
       "      <td>NaN</td>\n",
       "      <td>1</td>\n",
       "    </tr>\n",
       "    <tr>\n",
       "      <th>2</th>\n",
       "      <td>-2065137557584893414</td>\n",
       "      <td>2407102237</td>\n",
       "      <td>1</td>\n",
       "      <td>29</td>\n",
       "      <td>8000001</td>\n",
       "      <td>52064</td>\n",
       "      <td>NaN</td>\n",
       "      <td>1</td>\n",
       "    </tr>\n",
       "    <tr>\n",
       "      <th>3</th>\n",
       "      <td>-2065137557584893414</td>\n",
       "      <td>2407112237</td>\n",
       "      <td>1</td>\n",
       "      <td>29</td>\n",
       "      <td>8000001</td>\n",
       "      <td>52064</td>\n",
       "      <td>NaN</td>\n",
       "      <td>1</td>\n",
       "    </tr>\n",
       "    <tr>\n",
       "      <th>4</th>\n",
       "      <td>-2065137557584893414</td>\n",
       "      <td>2407122237</td>\n",
       "      <td>1</td>\n",
       "      <td>29</td>\n",
       "      <td>8000001</td>\n",
       "      <td>52064</td>\n",
       "      <td>NaN</td>\n",
       "      <td>1</td>\n",
       "    </tr>\n",
       "    <tr>\n",
       "      <th>...</th>\n",
       "      <td>...</td>\n",
       "      <td>...</td>\n",
       "      <td>...</td>\n",
       "      <td>...</td>\n",
       "      <td>...</td>\n",
       "      <td>...</td>\n",
       "      <td>...</td>\n",
       "      <td>...</td>\n",
       "    </tr>\n",
       "    <tr>\n",
       "      <th>2785184</th>\n",
       "      <td>6234297817509604666</td>\n",
       "      <td>2407112012</td>\n",
       "      <td>12</td>\n",
       "      <td>70</td>\n",
       "      <td>8098360</td>\n",
       "      <td>68642</td>\n",
       "      <td>Stockstadt(Rhein)</td>\n",
       "      <td>7</td>\n",
       "    </tr>\n",
       "    <tr>\n",
       "      <th>2785185</th>\n",
       "      <td>6234297817509604666</td>\n",
       "      <td>2407112012</td>\n",
       "      <td>12</td>\n",
       "      <td>70</td>\n",
       "      <td>8098360</td>\n",
       "      <td>68642</td>\n",
       "      <td>Biebesheim</td>\n",
       "      <td>8</td>\n",
       "    </tr>\n",
       "    <tr>\n",
       "      <th>2785186</th>\n",
       "      <td>6234297817509604666</td>\n",
       "      <td>2407112012</td>\n",
       "      <td>12</td>\n",
       "      <td>70</td>\n",
       "      <td>8098360</td>\n",
       "      <td>68642</td>\n",
       "      <td>Gernsheim</td>\n",
       "      <td>9</td>\n",
       "    </tr>\n",
       "    <tr>\n",
       "      <th>2785187</th>\n",
       "      <td>6234297817509604666</td>\n",
       "      <td>2407112012</td>\n",
       "      <td>12</td>\n",
       "      <td>70</td>\n",
       "      <td>8098360</td>\n",
       "      <td>68642</td>\n",
       "      <td>Groß-Rohrheim</td>\n",
       "      <td>10</td>\n",
       "    </tr>\n",
       "    <tr>\n",
       "      <th>2785188</th>\n",
       "      <td>6234297817509604666</td>\n",
       "      <td>2407112012</td>\n",
       "      <td>12</td>\n",
       "      <td>70</td>\n",
       "      <td>8098360</td>\n",
       "      <td>68642</td>\n",
       "      <td>Biblis</td>\n",
       "      <td>11</td>\n",
       "    </tr>\n",
       "  </tbody>\n",
       "</table>\n",
       "<p>2785189 rows × 8 columns</p>\n",
       "</div>"
      ]
     },
     "execution_count": 14,
     "metadata": {},
     "output_type": "execute_result"
    }
   ],
   "execution_count": 14
  },
  {
   "metadata": {
    "ExecuteTime": {
     "end_time": "2024-11-04T19:07:31.381067Z",
     "start_time": "2024-11-04T19:07:31.125892Z"
    }
   },
   "cell_type": "code",
   "source": "exploded_stations_df.count()",
   "id": "4f726d7da129e5f9",
   "outputs": [
    {
     "data": {
      "text/plain": [
       "ID_Base                  2785189\n",
       "ID_Timestamp             2785189\n",
       "ID_Stop_Number           2785189\n",
       "line                     2785189\n",
       "starting_station_IBNR    2785189\n",
       "zip                      2785189\n",
       "last_station             2744393\n",
       "stop_number              2785189\n",
       "dtype: int64"
      ]
     },
     "execution_count": 15,
     "metadata": {},
     "output_type": "execute_result"
    }
   ],
   "execution_count": 15
  },
  {
   "metadata": {
    "ExecuteTime": {
     "end_time": "2024-11-04T19:07:31.383946Z",
     "start_time": "2024-11-04T19:07:31.381067Z"
    }
   },
   "cell_type": "code",
   "source": "exploded_stations_df = exploded_stations_df",
   "id": "7918c213c1858216",
   "outputs": [],
   "execution_count": 16
  },
  {
   "metadata": {
    "ExecuteTime": {
     "end_time": "2024-11-04T19:07:31.640483Z",
     "start_time": "2024-11-04T19:07:31.384952Z"
    }
   },
   "cell_type": "code",
   "source": "exploded_stations_df.count()",
   "id": "3547b25a9eee949a",
   "outputs": [
    {
     "data": {
      "text/plain": [
       "ID_Base                  2785189\n",
       "ID_Timestamp             2785189\n",
       "ID_Stop_Number           2785189\n",
       "line                     2785189\n",
       "starting_station_IBNR    2785189\n",
       "zip                      2785189\n",
       "last_station             2744393\n",
       "stop_number              2785189\n",
       "dtype: int64"
      ]
     },
     "execution_count": 17,
     "metadata": {},
     "output_type": "execute_result"
    }
   ],
   "execution_count": 17
  },
  {
   "metadata": {
    "ExecuteTime": {
     "end_time": "2024-11-04T19:07:31.649434Z",
     "start_time": "2024-11-04T19:07:31.640483Z"
    }
   },
   "cell_type": "code",
   "source": "ibnr_index_df = pd.read_csv('ibnr_stations_index.csv')",
   "id": "6b5ce4eff478f215",
   "outputs": [],
   "execution_count": 18
  },
  {
   "cell_type": "code",
   "id": "c99062d14b9635b2",
   "metadata": {
    "ExecuteTime": {
     "end_time": "2024-11-04T19:07:32.288217Z",
     "start_time": "2024-11-04T19:07:31.649434Z"
    }
   },
   "source": [
    "# Remove any leading or trailing spaces and set to lower case letters\n",
    "exploded_stations_df['last_station'] = exploded_stations_df['last_station'].str.strip().str.lower()\n",
    "ibnr_index_df['Station Name'] = ibnr_index_df['Station Name'].str.strip().str.lower()"
   ],
   "outputs": [],
   "execution_count": 19
  },
  {
   "metadata": {
    "ExecuteTime": {
     "end_time": "2024-11-04T19:07:32.294136Z",
     "start_time": "2024-11-04T19:07:32.289221Z"
    }
   },
   "cell_type": "code",
   "source": "ibnr_index_df",
   "id": "23e6510b4f4a9531",
   "outputs": [
    {
     "data": {
      "text/plain": [
       "         IBNR         Station Name\n",
       "0     8000001           aachen hbf\n",
       "1     8000001                   ac\n",
       "2     8000001               aken c\n",
       "3     8000001           aquisgrana\n",
       "4     8000001      aix-la-chapelle\n",
       "...       ...                  ...\n",
       "9128  8098553    hamburg-altona(s)\n",
       "9129  8098555        bensersiel ne\n",
       "9130  8099503       hildesheim gbf\n",
       "9131  8099506  stolberg(rheinl)gbf\n",
       "9132  8099507   neustadt(holst)gbf\n",
       "\n",
       "[9133 rows x 2 columns]"
      ],
      "text/html": [
       "<div>\n",
       "<style scoped>\n",
       "    .dataframe tbody tr th:only-of-type {\n",
       "        vertical-align: middle;\n",
       "    }\n",
       "\n",
       "    .dataframe tbody tr th {\n",
       "        vertical-align: top;\n",
       "    }\n",
       "\n",
       "    .dataframe thead th {\n",
       "        text-align: right;\n",
       "    }\n",
       "</style>\n",
       "<table border=\"1\" class=\"dataframe\">\n",
       "  <thead>\n",
       "    <tr style=\"text-align: right;\">\n",
       "      <th></th>\n",
       "      <th>IBNR</th>\n",
       "      <th>Station Name</th>\n",
       "    </tr>\n",
       "  </thead>\n",
       "  <tbody>\n",
       "    <tr>\n",
       "      <th>0</th>\n",
       "      <td>8000001</td>\n",
       "      <td>aachen hbf</td>\n",
       "    </tr>\n",
       "    <tr>\n",
       "      <th>1</th>\n",
       "      <td>8000001</td>\n",
       "      <td>ac</td>\n",
       "    </tr>\n",
       "    <tr>\n",
       "      <th>2</th>\n",
       "      <td>8000001</td>\n",
       "      <td>aken c</td>\n",
       "    </tr>\n",
       "    <tr>\n",
       "      <th>3</th>\n",
       "      <td>8000001</td>\n",
       "      <td>aquisgrana</td>\n",
       "    </tr>\n",
       "    <tr>\n",
       "      <th>4</th>\n",
       "      <td>8000001</td>\n",
       "      <td>aix-la-chapelle</td>\n",
       "    </tr>\n",
       "    <tr>\n",
       "      <th>...</th>\n",
       "      <td>...</td>\n",
       "      <td>...</td>\n",
       "    </tr>\n",
       "    <tr>\n",
       "      <th>9128</th>\n",
       "      <td>8098553</td>\n",
       "      <td>hamburg-altona(s)</td>\n",
       "    </tr>\n",
       "    <tr>\n",
       "      <th>9129</th>\n",
       "      <td>8098555</td>\n",
       "      <td>bensersiel ne</td>\n",
       "    </tr>\n",
       "    <tr>\n",
       "      <th>9130</th>\n",
       "      <td>8099503</td>\n",
       "      <td>hildesheim gbf</td>\n",
       "    </tr>\n",
       "    <tr>\n",
       "      <th>9131</th>\n",
       "      <td>8099506</td>\n",
       "      <td>stolberg(rheinl)gbf</td>\n",
       "    </tr>\n",
       "    <tr>\n",
       "      <th>9132</th>\n",
       "      <td>8099507</td>\n",
       "      <td>neustadt(holst)gbf</td>\n",
       "    </tr>\n",
       "  </tbody>\n",
       "</table>\n",
       "<p>9133 rows × 2 columns</p>\n",
       "</div>"
      ]
     },
     "execution_count": 20,
     "metadata": {},
     "output_type": "execute_result"
    }
   ],
   "execution_count": 20
  },
  {
   "metadata": {
    "ExecuteTime": {
     "end_time": "2024-11-04T19:07:32.878002Z",
     "start_time": "2024-11-04T19:07:32.295141Z"
    }
   },
   "cell_type": "code",
   "source": [
    "# Updated merge using 'station' instead of 'Station Name'\n",
    "exploded_stations_df_with_ibnr_df = exploded_stations_df.merge(\n",
    "    ibnr_index_df,\n",
    "    how='left',\n",
    "    left_on='last_station',\n",
    "    right_on='Station Name'\n",
    ")"
   ],
   "id": "4f4151fad8335f95",
   "outputs": [],
   "execution_count": 21
  },
  {
   "cell_type": "code",
   "id": "7e3ae814ddf4ff6a",
   "metadata": {
    "ExecuteTime": {
     "end_time": "2024-11-04T19:07:32.886509Z",
     "start_time": "2024-11-04T19:07:32.879005Z"
    }
   },
   "source": "exploded_stations_df_with_ibnr_df.head(1000)",
   "outputs": [
    {
     "data": {
      "text/plain": [
       "                  ID_Base ID_Timestamp  ID_Stop_Number line  \\\n",
       "0    -2065137557584893414   2407082237               1   29   \n",
       "1    -2065137557584893414   2407092237               1   29   \n",
       "2    -2065137557584893414   2407102237               1   29   \n",
       "3    -2065137557584893414   2407112237               1   29   \n",
       "4    -2065137557584893414   2407122237               1   29   \n",
       "..                    ...          ...             ...  ...   \n",
       "995  -1653513626458530012   2407101636              22    5   \n",
       "996  -1653513626458530012   2407101636              22    5   \n",
       "997  -1653513626458530012   2407101636              22    5   \n",
       "998  -1653513626458530012   2407101636              22    5   \n",
       "999  -1653513626458530012   2407101636              22    5   \n",
       "\n",
       "     starting_station_IBNR    zip         last_station  stop_number  \\\n",
       "0                  8000001  52064                  NaN            1   \n",
       "1                  8000001  52064                  NaN            1   \n",
       "2                  8000001  52064                  NaN            1   \n",
       "3                  8000001  52064                  NaN            1   \n",
       "4                  8000001  52064                  NaN            1   \n",
       "..                     ...    ...                  ...          ...   \n",
       "995                8000004  33184            bennigsen           12   \n",
       "996                8000004  33184     völksen/eldagsen           13   \n",
       "997                8000004  33184              springe           14   \n",
       "998                8000004  33184  bad münder(deister)           15   \n",
       "999                8000004  33184               hameln           16   \n",
       "\n",
       "          IBNR         Station Name  \n",
       "0          NaN                  NaN  \n",
       "1          NaN                  NaN  \n",
       "2          NaN                  NaN  \n",
       "3          NaN                  NaN  \n",
       "4          NaN                  NaN  \n",
       "..         ...                  ...  \n",
       "995  8000872.0            bennigsen  \n",
       "996  8001741.0     völksen/eldagsen  \n",
       "997  8005638.0              springe  \n",
       "998  8000725.0  bad münder(deister)  \n",
       "999  8000148.0               hameln  \n",
       "\n",
       "[1000 rows x 10 columns]"
      ],
      "text/html": [
       "<div>\n",
       "<style scoped>\n",
       "    .dataframe tbody tr th:only-of-type {\n",
       "        vertical-align: middle;\n",
       "    }\n",
       "\n",
       "    .dataframe tbody tr th {\n",
       "        vertical-align: top;\n",
       "    }\n",
       "\n",
       "    .dataframe thead th {\n",
       "        text-align: right;\n",
       "    }\n",
       "</style>\n",
       "<table border=\"1\" class=\"dataframe\">\n",
       "  <thead>\n",
       "    <tr style=\"text-align: right;\">\n",
       "      <th></th>\n",
       "      <th>ID_Base</th>\n",
       "      <th>ID_Timestamp</th>\n",
       "      <th>ID_Stop_Number</th>\n",
       "      <th>line</th>\n",
       "      <th>starting_station_IBNR</th>\n",
       "      <th>zip</th>\n",
       "      <th>last_station</th>\n",
       "      <th>stop_number</th>\n",
       "      <th>IBNR</th>\n",
       "      <th>Station Name</th>\n",
       "    </tr>\n",
       "  </thead>\n",
       "  <tbody>\n",
       "    <tr>\n",
       "      <th>0</th>\n",
       "      <td>-2065137557584893414</td>\n",
       "      <td>2407082237</td>\n",
       "      <td>1</td>\n",
       "      <td>29</td>\n",
       "      <td>8000001</td>\n",
       "      <td>52064</td>\n",
       "      <td>NaN</td>\n",
       "      <td>1</td>\n",
       "      <td>NaN</td>\n",
       "      <td>NaN</td>\n",
       "    </tr>\n",
       "    <tr>\n",
       "      <th>1</th>\n",
       "      <td>-2065137557584893414</td>\n",
       "      <td>2407092237</td>\n",
       "      <td>1</td>\n",
       "      <td>29</td>\n",
       "      <td>8000001</td>\n",
       "      <td>52064</td>\n",
       "      <td>NaN</td>\n",
       "      <td>1</td>\n",
       "      <td>NaN</td>\n",
       "      <td>NaN</td>\n",
       "    </tr>\n",
       "    <tr>\n",
       "      <th>2</th>\n",
       "      <td>-2065137557584893414</td>\n",
       "      <td>2407102237</td>\n",
       "      <td>1</td>\n",
       "      <td>29</td>\n",
       "      <td>8000001</td>\n",
       "      <td>52064</td>\n",
       "      <td>NaN</td>\n",
       "      <td>1</td>\n",
       "      <td>NaN</td>\n",
       "      <td>NaN</td>\n",
       "    </tr>\n",
       "    <tr>\n",
       "      <th>3</th>\n",
       "      <td>-2065137557584893414</td>\n",
       "      <td>2407112237</td>\n",
       "      <td>1</td>\n",
       "      <td>29</td>\n",
       "      <td>8000001</td>\n",
       "      <td>52064</td>\n",
       "      <td>NaN</td>\n",
       "      <td>1</td>\n",
       "      <td>NaN</td>\n",
       "      <td>NaN</td>\n",
       "    </tr>\n",
       "    <tr>\n",
       "      <th>4</th>\n",
       "      <td>-2065137557584893414</td>\n",
       "      <td>2407122237</td>\n",
       "      <td>1</td>\n",
       "      <td>29</td>\n",
       "      <td>8000001</td>\n",
       "      <td>52064</td>\n",
       "      <td>NaN</td>\n",
       "      <td>1</td>\n",
       "      <td>NaN</td>\n",
       "      <td>NaN</td>\n",
       "    </tr>\n",
       "    <tr>\n",
       "      <th>...</th>\n",
       "      <td>...</td>\n",
       "      <td>...</td>\n",
       "      <td>...</td>\n",
       "      <td>...</td>\n",
       "      <td>...</td>\n",
       "      <td>...</td>\n",
       "      <td>...</td>\n",
       "      <td>...</td>\n",
       "      <td>...</td>\n",
       "      <td>...</td>\n",
       "    </tr>\n",
       "    <tr>\n",
       "      <th>995</th>\n",
       "      <td>-1653513626458530012</td>\n",
       "      <td>2407101636</td>\n",
       "      <td>22</td>\n",
       "      <td>5</td>\n",
       "      <td>8000004</td>\n",
       "      <td>33184</td>\n",
       "      <td>bennigsen</td>\n",
       "      <td>12</td>\n",
       "      <td>8000872.0</td>\n",
       "      <td>bennigsen</td>\n",
       "    </tr>\n",
       "    <tr>\n",
       "      <th>996</th>\n",
       "      <td>-1653513626458530012</td>\n",
       "      <td>2407101636</td>\n",
       "      <td>22</td>\n",
       "      <td>5</td>\n",
       "      <td>8000004</td>\n",
       "      <td>33184</td>\n",
       "      <td>völksen/eldagsen</td>\n",
       "      <td>13</td>\n",
       "      <td>8001741.0</td>\n",
       "      <td>völksen/eldagsen</td>\n",
       "    </tr>\n",
       "    <tr>\n",
       "      <th>997</th>\n",
       "      <td>-1653513626458530012</td>\n",
       "      <td>2407101636</td>\n",
       "      <td>22</td>\n",
       "      <td>5</td>\n",
       "      <td>8000004</td>\n",
       "      <td>33184</td>\n",
       "      <td>springe</td>\n",
       "      <td>14</td>\n",
       "      <td>8005638.0</td>\n",
       "      <td>springe</td>\n",
       "    </tr>\n",
       "    <tr>\n",
       "      <th>998</th>\n",
       "      <td>-1653513626458530012</td>\n",
       "      <td>2407101636</td>\n",
       "      <td>22</td>\n",
       "      <td>5</td>\n",
       "      <td>8000004</td>\n",
       "      <td>33184</td>\n",
       "      <td>bad münder(deister)</td>\n",
       "      <td>15</td>\n",
       "      <td>8000725.0</td>\n",
       "      <td>bad münder(deister)</td>\n",
       "    </tr>\n",
       "    <tr>\n",
       "      <th>999</th>\n",
       "      <td>-1653513626458530012</td>\n",
       "      <td>2407101636</td>\n",
       "      <td>22</td>\n",
       "      <td>5</td>\n",
       "      <td>8000004</td>\n",
       "      <td>33184</td>\n",
       "      <td>hameln</td>\n",
       "      <td>16</td>\n",
       "      <td>8000148.0</td>\n",
       "      <td>hameln</td>\n",
       "    </tr>\n",
       "  </tbody>\n",
       "</table>\n",
       "<p>1000 rows × 10 columns</p>\n",
       "</div>"
      ]
     },
     "execution_count": 22,
     "metadata": {},
     "output_type": "execute_result"
    }
   ],
   "execution_count": 22
  },
  {
   "metadata": {
    "ExecuteTime": {
     "end_time": "2024-11-04T19:07:32.891880Z",
     "start_time": "2024-11-04T19:07:32.886509Z"
    }
   },
   "cell_type": "code",
   "source": "exploded_stations_df_with_ibnr_df.columns",
   "id": "fb37833c2b1acb8b",
   "outputs": [
    {
     "data": {
      "text/plain": [
       "Index(['ID_Base', 'ID_Timestamp', 'ID_Stop_Number', 'line',\n",
       "       'starting_station_IBNR', 'zip', 'last_station', 'stop_number', 'IBNR',\n",
       "       'Station Name'],\n",
       "      dtype='object')"
      ]
     },
     "execution_count": 23,
     "metadata": {},
     "output_type": "execute_result"
    }
   ],
   "execution_count": 23
  },
  {
   "metadata": {
    "ExecuteTime": {
     "end_time": "2024-11-04T19:07:33.196936Z",
     "start_time": "2024-11-04T19:07:32.891880Z"
    }
   },
   "cell_type": "code",
   "source": "exploded_stations_df_with_ibnr_df.count()",
   "id": "4a39a0f28d8e6188",
   "outputs": [
    {
     "data": {
      "text/plain": [
       "ID_Base                  2785189\n",
       "ID_Timestamp             2785189\n",
       "ID_Stop_Number           2785189\n",
       "line                     2785189\n",
       "starting_station_IBNR    2785189\n",
       "zip                      2785189\n",
       "last_station             2744393\n",
       "stop_number              2785189\n",
       "IBNR                     2588987\n",
       "Station Name             2588987\n",
       "dtype: int64"
      ]
     },
     "execution_count": 24,
     "metadata": {},
     "output_type": "execute_result"
    }
   ],
   "execution_count": 24
  },
  {
   "metadata": {
    "ExecuteTime": {
     "end_time": "2024-11-04T19:07:33.382803Z",
     "start_time": "2024-11-04T19:07:33.197939Z"
    }
   },
   "cell_type": "code",
   "source": [
    "# Convert empty strings back to NaN in 'path' column\n",
    "exploded_stations_df_with_ibnr_df['last_station'] = exploded_stations_df_with_ibnr_df['last_station'].replace('',\n",
    "                                                                                                      pd.NA)"
   ],
   "id": "3553d58057f7597e",
   "outputs": [],
   "execution_count": 25
  },
  {
   "metadata": {
    "ExecuteTime": {
     "end_time": "2024-11-04T19:07:33.442396Z",
     "start_time": "2024-11-04T19:07:33.383807Z"
    }
   },
   "cell_type": "code",
   "source": [
    "# Count rows where 'last_station' is NaN\n",
    "nan_station_count = exploded_stations_df_with_ibnr_df['last_station'].isna().sum()\n",
    "print(f\"Number of rows with NaN station names: {nan_station_count}\")"
   ],
   "id": "aa30dc4afacac38c",
   "outputs": [
    {
     "name": "stdout",
     "output_type": "stream",
     "text": [
      "Number of rows with NaN station names: 40796\n"
     ]
    }
   ],
   "execution_count": 26
  },
  {
   "cell_type": "code",
   "id": "9543457949fd1dfa",
   "metadata": {
    "ExecuteTime": {
     "end_time": "2024-11-04T19:07:33.564105Z",
     "start_time": "2024-11-04T19:07:33.442396Z"
    }
   },
   "source": [
    "# Count where 'Station Name' is NaN and 'last_station' is not NaN\n",
    "count_nan_station_name = exploded_stations_df_with_ibnr_df[\n",
    "    (exploded_stations_df_with_ibnr_df['Station Name'].isna()) &\n",
    "    (exploded_stations_df_with_ibnr_df['last_station'].notna())\n",
    "    ].shape[0]\n",
    "print(f\"Number of rows with NaN IBNR that have a current station: {count_nan_station_name}\")"
   ],
   "outputs": [
    {
     "name": "stdout",
     "output_type": "stream",
     "text": [
      "Number of rows with NaN IBNR that have a current station: 155406\n"
     ]
    }
   ],
   "execution_count": 27
  },
  {
   "cell_type": "code",
   "id": "691ef1b9d6b1a906",
   "metadata": {
    "ExecuteTime": {
     "end_time": "2024-11-04T19:07:33.615394Z",
     "start_time": "2024-11-04T19:07:33.565110Z"
    }
   },
   "source": [
    "# Count rows where 'Station Name' is NaN\n",
    "nan_station_count = exploded_stations_df_with_ibnr_df['Station Name'].isna().sum()\n",
    "print(f\"Number of rows with NaN station names: {nan_station_count}\")"
   ],
   "outputs": [
    {
     "name": "stdout",
     "output_type": "stream",
     "text": [
      "Number of rows with NaN station names: 196202\n"
     ]
    }
   ],
   "execution_count": 28
  },
  {
   "cell_type": "code",
   "id": "bf9c9c5ff8733b42",
   "metadata": {
    "ExecuteTime": {
     "end_time": "2024-11-04T19:07:33.683412Z",
     "start_time": "2024-11-04T19:07:33.615394Z"
    }
   },
   "source": [
    "exploded_stations_df_with_no_ibnr_df = exploded_stations_df_with_ibnr_df[exploded_stations_df_with_ibnr_df['Station Name'].isna()]\n",
    "exploded_stations_df_with_no_ibnr_df.head(10)"
   ],
   "outputs": [
    {
     "data": {
      "text/plain": [
       "                ID_Base ID_Timestamp  ID_Stop_Number line  \\\n",
       "0  -2065137557584893414   2407082237               1   29   \n",
       "1  -2065137557584893414   2407092237               1   29   \n",
       "2  -2065137557584893414   2407102237               1   29   \n",
       "3  -2065137557584893414   2407112237               1   29   \n",
       "4  -2065137557584893414   2407122237               1   29   \n",
       "5  -2065137557584893414   2407132237               1   29   \n",
       "6  -2065137557584893414   2407142237               1   29   \n",
       "7  -3561454673811003901   2407082137               1   29   \n",
       "8  -3561454673811003901   2407092137               1   29   \n",
       "9  -3561454673811003901   2407102137               1   29   \n",
       "\n",
       "   starting_station_IBNR    zip last_station  stop_number  IBNR Station Name  \n",
       "0                8000001  52064          NaN            1   NaN          NaN  \n",
       "1                8000001  52064          NaN            1   NaN          NaN  \n",
       "2                8000001  52064          NaN            1   NaN          NaN  \n",
       "3                8000001  52064          NaN            1   NaN          NaN  \n",
       "4                8000001  52064          NaN            1   NaN          NaN  \n",
       "5                8000001  52064          NaN            1   NaN          NaN  \n",
       "6                8000001  52064          NaN            1   NaN          NaN  \n",
       "7                8000001  52064          NaN            1   NaN          NaN  \n",
       "8                8000001  52064          NaN            1   NaN          NaN  \n",
       "9                8000001  52064          NaN            1   NaN          NaN  "
      ],
      "text/html": [
       "<div>\n",
       "<style scoped>\n",
       "    .dataframe tbody tr th:only-of-type {\n",
       "        vertical-align: middle;\n",
       "    }\n",
       "\n",
       "    .dataframe tbody tr th {\n",
       "        vertical-align: top;\n",
       "    }\n",
       "\n",
       "    .dataframe thead th {\n",
       "        text-align: right;\n",
       "    }\n",
       "</style>\n",
       "<table border=\"1\" class=\"dataframe\">\n",
       "  <thead>\n",
       "    <tr style=\"text-align: right;\">\n",
       "      <th></th>\n",
       "      <th>ID_Base</th>\n",
       "      <th>ID_Timestamp</th>\n",
       "      <th>ID_Stop_Number</th>\n",
       "      <th>line</th>\n",
       "      <th>starting_station_IBNR</th>\n",
       "      <th>zip</th>\n",
       "      <th>last_station</th>\n",
       "      <th>stop_number</th>\n",
       "      <th>IBNR</th>\n",
       "      <th>Station Name</th>\n",
       "    </tr>\n",
       "  </thead>\n",
       "  <tbody>\n",
       "    <tr>\n",
       "      <th>0</th>\n",
       "      <td>-2065137557584893414</td>\n",
       "      <td>2407082237</td>\n",
       "      <td>1</td>\n",
       "      <td>29</td>\n",
       "      <td>8000001</td>\n",
       "      <td>52064</td>\n",
       "      <td>NaN</td>\n",
       "      <td>1</td>\n",
       "      <td>NaN</td>\n",
       "      <td>NaN</td>\n",
       "    </tr>\n",
       "    <tr>\n",
       "      <th>1</th>\n",
       "      <td>-2065137557584893414</td>\n",
       "      <td>2407092237</td>\n",
       "      <td>1</td>\n",
       "      <td>29</td>\n",
       "      <td>8000001</td>\n",
       "      <td>52064</td>\n",
       "      <td>NaN</td>\n",
       "      <td>1</td>\n",
       "      <td>NaN</td>\n",
       "      <td>NaN</td>\n",
       "    </tr>\n",
       "    <tr>\n",
       "      <th>2</th>\n",
       "      <td>-2065137557584893414</td>\n",
       "      <td>2407102237</td>\n",
       "      <td>1</td>\n",
       "      <td>29</td>\n",
       "      <td>8000001</td>\n",
       "      <td>52064</td>\n",
       "      <td>NaN</td>\n",
       "      <td>1</td>\n",
       "      <td>NaN</td>\n",
       "      <td>NaN</td>\n",
       "    </tr>\n",
       "    <tr>\n",
       "      <th>3</th>\n",
       "      <td>-2065137557584893414</td>\n",
       "      <td>2407112237</td>\n",
       "      <td>1</td>\n",
       "      <td>29</td>\n",
       "      <td>8000001</td>\n",
       "      <td>52064</td>\n",
       "      <td>NaN</td>\n",
       "      <td>1</td>\n",
       "      <td>NaN</td>\n",
       "      <td>NaN</td>\n",
       "    </tr>\n",
       "    <tr>\n",
       "      <th>4</th>\n",
       "      <td>-2065137557584893414</td>\n",
       "      <td>2407122237</td>\n",
       "      <td>1</td>\n",
       "      <td>29</td>\n",
       "      <td>8000001</td>\n",
       "      <td>52064</td>\n",
       "      <td>NaN</td>\n",
       "      <td>1</td>\n",
       "      <td>NaN</td>\n",
       "      <td>NaN</td>\n",
       "    </tr>\n",
       "    <tr>\n",
       "      <th>5</th>\n",
       "      <td>-2065137557584893414</td>\n",
       "      <td>2407132237</td>\n",
       "      <td>1</td>\n",
       "      <td>29</td>\n",
       "      <td>8000001</td>\n",
       "      <td>52064</td>\n",
       "      <td>NaN</td>\n",
       "      <td>1</td>\n",
       "      <td>NaN</td>\n",
       "      <td>NaN</td>\n",
       "    </tr>\n",
       "    <tr>\n",
       "      <th>6</th>\n",
       "      <td>-2065137557584893414</td>\n",
       "      <td>2407142237</td>\n",
       "      <td>1</td>\n",
       "      <td>29</td>\n",
       "      <td>8000001</td>\n",
       "      <td>52064</td>\n",
       "      <td>NaN</td>\n",
       "      <td>1</td>\n",
       "      <td>NaN</td>\n",
       "      <td>NaN</td>\n",
       "    </tr>\n",
       "    <tr>\n",
       "      <th>7</th>\n",
       "      <td>-3561454673811003901</td>\n",
       "      <td>2407082137</td>\n",
       "      <td>1</td>\n",
       "      <td>29</td>\n",
       "      <td>8000001</td>\n",
       "      <td>52064</td>\n",
       "      <td>NaN</td>\n",
       "      <td>1</td>\n",
       "      <td>NaN</td>\n",
       "      <td>NaN</td>\n",
       "    </tr>\n",
       "    <tr>\n",
       "      <th>8</th>\n",
       "      <td>-3561454673811003901</td>\n",
       "      <td>2407092137</td>\n",
       "      <td>1</td>\n",
       "      <td>29</td>\n",
       "      <td>8000001</td>\n",
       "      <td>52064</td>\n",
       "      <td>NaN</td>\n",
       "      <td>1</td>\n",
       "      <td>NaN</td>\n",
       "      <td>NaN</td>\n",
       "    </tr>\n",
       "    <tr>\n",
       "      <th>9</th>\n",
       "      <td>-3561454673811003901</td>\n",
       "      <td>2407102137</td>\n",
       "      <td>1</td>\n",
       "      <td>29</td>\n",
       "      <td>8000001</td>\n",
       "      <td>52064</td>\n",
       "      <td>NaN</td>\n",
       "      <td>1</td>\n",
       "      <td>NaN</td>\n",
       "      <td>NaN</td>\n",
       "    </tr>\n",
       "  </tbody>\n",
       "</table>\n",
       "</div>"
      ]
     },
     "execution_count": 29,
     "metadata": {},
     "output_type": "execute_result"
    }
   ],
   "execution_count": 29
  },
  {
   "metadata": {
    "ExecuteTime": {
     "end_time": "2024-11-04T19:07:33.686923Z",
     "start_time": "2024-11-04T19:07:33.683412Z"
    }
   },
   "cell_type": "code",
   "source": "# TODO Find the latest version of the routes and remove all older versions",
   "id": "20e0ca5eeab5a116",
   "outputs": [],
   "execution_count": 30
  }
 ],
 "metadata": {
  "kernelspec": {
   "display_name": "Python 3 (ipykernel)",
   "language": "python",
   "name": "python3"
  },
  "language_info": {
   "codemirror_mode": {
    "name": "ipython",
    "version": 3
   },
   "file_extension": ".py",
   "mimetype": "text/x-python",
   "name": "python",
   "nbconvert_exporter": "python",
   "pygments_lexer": "ipython3",
   "version": "3.8.10"
  }
 },
 "nbformat": 4,
 "nbformat_minor": 5
}
